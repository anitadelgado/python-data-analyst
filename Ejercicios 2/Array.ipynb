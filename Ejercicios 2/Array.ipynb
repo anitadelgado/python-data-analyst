{
 "cells": [
  {
   "cell_type": "code",
   "execution_count": 2,
   "id": "0f60d1fb-88cd-4155-ab88-a05afb569c4a",
   "metadata": {},
   "outputs": [
    {
     "name": "stdout",
     "output_type": "stream",
     "text": [
      "[ 9 10 11 12 13 14 15 16 17 18 19 20 21 22 23 24]\n"
     ]
    }
   ],
   "source": [
    "#Ejercicio 3.2.1. Crea un array con valores entre el 9 y el 24\n",
    "\n",
    "import numpy\n",
    "\n",
    "a = numpy.arange(9,25)\n",
    "print(a)"
   ]
  },
  {
   "cell_type": "code",
   "execution_count": 3,
   "id": "15b8542d-e3d3-4f3f-beee-573aadcb7442",
   "metadata": {},
   "outputs": [
    {
     "name": "stdout",
     "output_type": "stream",
     "text": [
      "16\n"
     ]
    }
   ],
   "source": [
    "#Ejercicio 3.2.2. ¿Cuántos elementos tiene el array anterior?\n",
    "\n",
    "import numpy\n",
    "\n",
    "a = numpy.arange(9,25)\n",
    "print(a.size)"
   ]
  },
  {
   "cell_type": "code",
   "execution_count": 4,
   "id": "f95f5ea2-ea7e-4f66-9c09-9398433c11ff",
   "metadata": {},
   "outputs": [
    {
     "name": "stdout",
     "output_type": "stream",
     "text": [
      "[[ 9 10 11 12 13 14 15 16]\n",
      " [17 18 19 20 21 22 23 24]]\n"
     ]
    }
   ],
   "source": [
    "#Ejercicio 3.2.3. Crea un array con los mismos valores pero que tenga 2 filas y 8 columna\n",
    "\n",
    "import numpy\n",
    "\n",
    "a = numpy.arange(9,25).reshape(2,8)\n",
    "\n",
    "print(a)\n"
   ]
  },
  {
   "cell_type": "code",
   "execution_count": 5,
   "id": "c3fa7e92-a1a5-4c63-85f0-ce33eb0c25e8",
   "metadata": {},
   "outputs": [
    {
     "ename": "ValueError",
     "evalue": "cannot reshape array of size 16 into shape (3,4)",
     "output_type": "error",
     "traceback": [
      "\u001b[0;31m---------------------------------------------------------------------------\u001b[0m",
      "\u001b[0;31mValueError\u001b[0m                                Traceback (most recent call last)",
      "\u001b[0;32m/var/folders/qw/r4hkkmyj7knfqf0fy47bgcww0000gn/T/ipykernel_82314/314934195.py\u001b[0m in \u001b[0;36m<module>\u001b[0;34m\u001b[0m\n\u001b[1;32m      3\u001b[0m \u001b[0;32mimport\u001b[0m \u001b[0mnumpy\u001b[0m\u001b[0;34m\u001b[0m\u001b[0;34m\u001b[0m\u001b[0m\n\u001b[1;32m      4\u001b[0m \u001b[0;34m\u001b[0m\u001b[0m\n\u001b[0;32m----> 5\u001b[0;31m \u001b[0ma\u001b[0m \u001b[0;34m=\u001b[0m \u001b[0mnumpy\u001b[0m\u001b[0;34m.\u001b[0m\u001b[0marange\u001b[0m\u001b[0;34m(\u001b[0m\u001b[0;36m9\u001b[0m\u001b[0;34m,\u001b[0m\u001b[0;36m25\u001b[0m\u001b[0;34m)\u001b[0m\u001b[0;34m.\u001b[0m\u001b[0mreshape\u001b[0m\u001b[0;34m(\u001b[0m\u001b[0;36m3\u001b[0m\u001b[0;34m,\u001b[0m\u001b[0;36m4\u001b[0m\u001b[0;34m)\u001b[0m\u001b[0;34m\u001b[0m\u001b[0;34m\u001b[0m\u001b[0m\n\u001b[0m\u001b[1;32m      6\u001b[0m \u001b[0;34m\u001b[0m\u001b[0m\n\u001b[1;32m      7\u001b[0m \u001b[0mprint\u001b[0m\u001b[0;34m(\u001b[0m\u001b[0ma\u001b[0m\u001b[0;34m)\u001b[0m\u001b[0;34m\u001b[0m\u001b[0;34m\u001b[0m\u001b[0m\n",
      "\u001b[0;31mValueError\u001b[0m: cannot reshape array of size 16 into shape (3,4)"
     ]
    }
   ],
   "source": [
    "#Ejercicio 3.2.4.Crea un array con los mismos valores pero ahora con 3 filas y 4 columnas.\n",
    "\n",
    "import numpy\n",
    "\n",
    "a = numpy.arange(9,25).reshape(3,4)\n",
    "\n",
    "print(a)\n"
   ]
  },
  {
   "cell_type": "code",
   "execution_count": 11,
   "id": "0756960e-368d-40be-8dd0-b068c04af5f0",
   "metadata": {},
   "outputs": [
    {
     "name": "stdout",
     "output_type": "stream",
     "text": [
      "A\n",
      "A\n",
      "A\n",
      "A\n"
     ]
    }
   ],
   "source": [
    "#Ejercicio 3.2.5.\n",
    "#Crea un array con los valores 3,5,6,1,7,9,2,3,6. \n",
    "#Recorre el array y escribe una letra del abecedario por pantalla, la que tú quieras, siempre que los valores del array sean mayores que 5.\n",
    "\n",
    "import pandas\n",
    "\n",
    "a = pandas.Series([3,5,6,1,7,9,2,3,6])\n",
    "for l in a:\n",
    "    if l > 5:\n",
    "        print(\"A\")"
   ]
  },
  {
   "cell_type": "code",
   "execution_count": 18,
   "id": "f52e1423-8c25-4b96-b677-d5c6c5c5214e",
   "metadata": {},
   "outputs": [
    {
     "name": "stdout",
     "output_type": "stream",
     "text": [
      "[[1.   2.   3.  ]\n",
      " [4.   5.   6.  ]\n",
      " [0.25 0.4  0.5 ]]\n"
     ]
    }
   ],
   "source": [
    "#Ejercicio 3.2.6.\n",
    "#Dados dos arrays, a y b, con valores, 1,2,3 y 4,5,6 respectivamente. \n",
    "#Calcula la división de a entre b y muestra por pantalla un nuevo array cuyos elementos serán,\n",
    "#los valores de a, los valores de b y el resultado de la división entre a y b.\n",
    "\n",
    "import numpy\n",
    "\n",
    "a = numpy.array([1,2,3])\n",
    "b = numpy.array([4,5,6])\n",
    "c = a/b\n",
    "resultado = numpy.array([a,b,c])\n",
    "print(resultado)\n",
    "\n"
   ]
  },
  {
   "cell_type": "code",
   "execution_count": 21,
   "id": "eb528c4f-7518-405f-b367-b9e48efbb73a",
   "metadata": {},
   "outputs": [
    {
     "name": "stdout",
     "output_type": "stream",
     "text": [
      "[ 6 12 18]\n",
      "[24 30 36]\n"
     ]
    }
   ],
   "source": [
    "#Ejercicio 3.2.7.\n",
    "#Dados los dos arrays anteriores, con valores 1,2,3 y 4,5,6 respectivamente, multiplícalos por 6 y muestra por pantalla el resultado.\n",
    "\n",
    "import numpy\n",
    "\n",
    "a = numpy.array([1,2,3])\n",
    "b = numpy.array([4,5,6])\n",
    "\n",
    "mul_a = (a*6)\n",
    "mul_b = (b*6)\n",
    "\n",
    "print(mul_a)\n",
    "print(mul_b)\n"
   ]
  },
  {
   "cell_type": "code",
   "execution_count": 23,
   "id": "9f3c2400-82b7-415e-9e1d-11eca172a90f",
   "metadata": {},
   "outputs": [
    {
     "name": "stdout",
     "output_type": "stream",
     "text": [
      "(2, 3)\n",
      "int64\n"
     ]
    }
   ],
   "source": [
    "#Ejercicio 3.2.8.\n",
    "#¿Qué dimensión tiene el array que has obtenido en el ejercicio anterior, es decir, cuántas filas y columnas tiene? \n",
    "#Y, ¿de qué tipo son los elementos que los forman?\n",
    "\n",
    "import numpy\n",
    "\n",
    "a = numpy.array([1,2,3])\n",
    "b = numpy.array([4,5,6])\n",
    "\n",
    "mul_a = (a*6)\n",
    "mul_b = (b*6)\n",
    "\n",
    "multiplicacion = numpy.array([mul_a, mul_b])\n",
    "\n",
    "print(multiplicacion.shape)\n",
    "print(multiplicacion.dtype)\n",
    "\n"
   ]
  },
  {
   "cell_type": "code",
   "execution_count": 25,
   "id": "b529a2c9-260d-4dce-964a-d266f85472c0",
   "metadata": {},
   "outputs": [
    {
     "name": "stdout",
     "output_type": "stream",
     "text": [
      "0    4\n",
      "1    8\n",
      "2    6\n",
      "3    2\n",
      "4    7\n",
      "5    8\n",
      "6    2\n",
      "7    1\n",
      "8    9\n",
      "dtype: int64\n"
     ]
    }
   ],
   "source": [
    "#Ejercicio 3.2.9.\n",
    "#Crea una serie que contenga los datos 4,8,6,2,7,8,2,1,9 y muéstrala por pantalla.\n",
    "\n",
    "import pandas\n",
    "\n",
    "serie=pandas.Series([4,8,6,2,7,8,2,1,9])\n",
    "print(serie)\n",
    "\n"
   ]
  },
  {
   "cell_type": "code",
   "execution_count": 28,
   "id": "25250029-7d51-4c1e-8a30-cc49c5b6b8ed",
   "metadata": {},
   "outputs": [
    {
     "name": "stdout",
     "output_type": "stream",
     "text": [
      "a    4\n",
      "b    8\n",
      "c    6\n",
      "d    2\n",
      "e    7\n",
      "f    8\n",
      "g    2\n",
      "h    1\n",
      "i    9\n",
      "dtype: int64\n"
     ]
    }
   ],
   "source": [
    "#Ejercicio 3.2.10.\n",
    "#Vuelve a crear la serie anterior, pero esta vez, haz que sus índices contengan las letras del abecedario, comenzando por la a.\n",
    "\n",
    "import pandas\n",
    "\n",
    "serie=pandas.Series([4,8,6,2,7,8,2,1,9], index=['a', 'b','c','d','e','f','g','h','i'])\n",
    "print(serie)\n",
    "\n",
    "#import string\n",
    "#indices = list(string.ascii_lowercase)[:len(numeros)]\n"
   ]
  },
  {
   "cell_type": "code",
   "execution_count": 29,
   "id": "7c7da1cd-7599-41fb-bb64-3d739d8a96bc",
   "metadata": {},
   "outputs": [
    {
     "name": "stdout",
     "output_type": "stream",
     "text": [
      "7\n"
     ]
    }
   ],
   "source": [
    "#Ejercicio 3.2.11. ¿Qué valor tiene el elemento con índice e?\n",
    "import pandas\n",
    "\n",
    "serie=pandas.Series([4,8,6,2,7,8,2,1,9], index=['a', 'b','c','d','e','f','g','h','i'])\n",
    "print(serie['e'])\n",
    "\n"
   ]
  },
  {
   "cell_type": "code",
   "execution_count": 30,
   "id": "658e8777-5d6a-41d7-b3ea-c5729838e95b",
   "metadata": {},
   "outputs": [
    {
     "name": "stdout",
     "output_type": "stream",
     "text": [
      "0    1\n",
      "1    5\n",
      "2    0\n",
      "3    8\n",
      "dtype: int64\n"
     ]
    }
   ],
   "source": [
    "#Ejercicio 3.2.12.\n",
    "#Dadas dos series, a y b, formadas por los elementos 1,5,3,8 y 4,8,3,9, \n",
    "#muestra por pantalla otra serie que contenga los restos de dividir a entre b.\n",
    "\n",
    "import pandas\n",
    "a = pandas.Series([1,5,3,8])\n",
    "b = pandas.Series([4,8,3,9])\n",
    "resto = a%b\n",
    "\n",
    "print(resto)"
   ]
  },
  {
   "cell_type": "code",
   "execution_count": 32,
   "id": "f6b706c4-639e-482e-a232-edc2702efd05",
   "metadata": {},
   "outputs": [
    {
     "name": "stdout",
     "output_type": "stream",
     "text": [
      "0     4\n",
      "1    16\n",
      "2    24\n",
      "3    32\n",
      "dtype: int64\n"
     ]
    }
   ],
   "source": [
    "#Ejercicio 3.2.13. Dada la serie 1,4,6,8 muestra por pantalla el resultado de multiplicarla por 4.\n",
    "\n",
    "import pandas\n",
    "\n",
    "serie = pandas.Series([1,4,6,8])\n",
    "print (serie*4)"
   ]
  },
  {
   "cell_type": "code",
   "execution_count": 110,
   "id": "3e8440a0-507f-4a5b-b493-52881e4790bf",
   "metadata": {},
   "outputs": [
    {
     "name": "stdout",
     "output_type": "stream",
     "text": [
      "[12 14  8  9 15 10  3 10]\n"
     ]
    }
   ],
   "source": [
    "#Ejercicio 3.2.14.Crea una serie con los elementos 4,8,6,2,7,8,2,1,9. \n",
    "#devuelve otra serie cuyo primer elemento sea la suma del primer y el segundo elemento de la serie creada en un principio, \n",
    "#cuyo segundo elemento sea la suma del segundo y el tercer elemento de la serie creada al principio, \n",
    "#cuyo tercer elemento sea la suma del tercer y el cuarto elemento de la serie creada en un principio, \n",
    "#y así hasta incluir todos los elementos de la serie creada en un principio.\n",
    "\n",
    "import pandas\n",
    "\n",
    "serie = pandas.Series ([4,8,6,2,7,8,2,1,9])\n",
    "\n",
    "resultado = []\n",
    "\n",
    "for i in range(len(serie)-1):\n",
    "    suma=serie[i] + serie[i+1]\n",
    "    resultado.append(suma)\n",
    "\n",
    "nueva_serie = pandas.Series(resultado)\n",
    "print((nueva_serie).to_numpy())\n",
    "\n"
   ]
  },
  {
   "cell_type": "code",
   "execution_count": 38,
   "id": "e4a4a454-9eb9-48c8-8d71-5eae4315a1be",
   "metadata": {},
   "outputs": [
    {
     "name": "stdout",
     "output_type": "stream",
     "text": [
      "           Mes  Ventas  Gastos Cobrado\n",
      "0        Enero   10000    6500       S\n",
      "1      Febrero   15200    6500       N\n",
      "2        Marzo   14300    6500       N\n",
      "3        Abril   25800    7850       S\n",
      "4         Mayo    2560    6500       S\n",
      "5        Junio   12780    8250       N\n",
      "6        Julio   32500    6500       S\n",
      "7       Agosto   23624    9252       S\n",
      "8   Septiembre   12000    6500       S\n",
      "9      Octubre   15858   10250       N\n",
      "10   Noviembre   23250   12450       S\n",
      "11   Diciembre   11630   13000       N\n"
     ]
    }
   ],
   "source": [
    "#Ejercicio 3.3.1. Crea un dataframe que contenga cuatro columnas, \n",
    "#una de ella tendrá los meses de año (Mes), \n",
    "#otra tendrá los importes que se han facturado cada uno de esos meses (Ventas), \n",
    "#en concreto 10000, 15200, 14300, 25800, 2560, 12780, 32500, 23624, 12000,15858, 23250, 11630; \n",
    "#la tercera columna tendrá los gastos realizados ese mes (Gastos), \n",
    "#en concreto 6500, 6500, 6500, 7850, 6500, 8250, 6500, 9252, 6500,10250, 12450, 13000; \n",
    "#la última columna tendrá una S o una N en función de si se han cobrado ese mes la totalidad de las ventas (Cobrado), \n",
    "#en concreto S, N, N, S, S, N, S, S, S, N, S, N.\n",
    "\n",
    "import pandas\n",
    "\n",
    "datos = {'Mes':['Enero','Febrero','Marzo','Abril','Mayo','Junio', 'Julio','Agosto','Septiembre','Octubre','Noviembre','Diciembre'],\n",
    "         'Ventas':[10000, 15200, 14300, 25800, 2560, 12780, 32500, 23624, 12000,15858, 23250, 11630], \n",
    "         'Gastos':[6500, 6500, 6500, 7850, 6500, 8250, 6500, 9252, 6500,10250, 12450, 13000],\n",
    "         'Cobrado':['S','N','N','S','S','N','S','S','S','N','S','N']}\n",
    "df_datos = pandas.DataFrame(datos)\n",
    "print(df_datos)"
   ]
  },
  {
   "cell_type": "code",
   "execution_count": 67,
   "id": "3a11cb3c-eac4-401b-b02d-cfbd464e7719",
   "metadata": {},
   "outputs": [
    {
     "name": "stdout",
     "output_type": "stream",
     "text": [
      "¿Cuántas filas tiene el dataframe? 12\n",
      "¿Cuáles son las columnas que los forman? Index(['Mes', 'Ventas', 'Gastos', 'Cobrado'], dtype='object')\n",
      "¿Cuánto espacio ha utilizado en memoria? 232 bytes\n",
      "¿Cuál es la media de las ventas anuales? 16625.166666666668\n",
      "Si la diferencia entre ventas y gastos es positiva, la empresa es rentable. Resultado= 99450\n"
     ]
    }
   ],
   "source": [
    "'''Pregunta 1: ¿Cuántas filas tiene el dataframe?\n",
    "Pregunta 2: ¿Cuáles son las columnas que los forman?\n",
    "Pregunta 3: ¿Cuánto espacio ha utilizado en memoria?\n",
    "Pregunta 4: ¿Cuál es la media de las ventas anuales?\n",
    "Pregunta 5: Teniendo en cuenta solo las columnas Ventas y Gastos, al final de año, ¿crees que la empresa es rentable?'''\n",
    "\n",
    "import pandas\n",
    "import sys\n",
    "\n",
    "\n",
    "datos = {'Mes':['Enero','Febrero','Marzo','Abril','Mayo','Junio', 'Julio','Agosto','Septiembre','Octubre','Noviembre','Diciembre'],\n",
    "         'Ventas':[10000, 15200, 14300, 25800, 2560, 12780, 32500, 23624, 12000,15858, 23250, 11630], \n",
    "         'Gastos':[6500, 6500, 6500, 7850, 6500, 8250, 6500, 9252, 6500,10250, 12450, 13000],\n",
    "         'Cobrado':['S','N','N','S','S','N','S','S','S','N','S','N']}\n",
    "df_datos = pandas.DataFrame(datos)\n",
    "print(f'¿Cuántas filas tiene el dataframe? {df_datos.shape[0]}')\n",
    "print(f'¿Cuáles son las columnas que los forman? {df_datos.columns}')\n",
    "print(f'¿Cuánto espacio ha utilizado en memoria? {sys.getsizeof(datos)} bytes')\n",
    "print(f'¿Cuál es la media de las ventas anuales?', df_datos[\"Ventas\"].mean())\n",
    "print(f'Si la diferencia entre ventas y gastos es positiva, la empresa es rentable. Resultado=', (df_datos[\"Ventas\"].sum()-df_datos[\"Gastos\"].sum()))"
   ]
  },
  {
   "cell_type": "code",
   "execution_count": 75,
   "id": "525a8317-71d0-46fb-bcd0-93c2b69ad8fa",
   "metadata": {},
   "outputs": [
    {
     "data": {
      "text/html": [
       "<div>\n",
       "<style scoped>\n",
       "    .dataframe tbody tr th:only-of-type {\n",
       "        vertical-align: middle;\n",
       "    }\n",
       "\n",
       "    .dataframe tbody tr th {\n",
       "        vertical-align: top;\n",
       "    }\n",
       "\n",
       "    .dataframe thead th {\n",
       "        text-align: right;\n",
       "    }\n",
       "</style>\n",
       "<table border=\"1\" class=\"dataframe\">\n",
       "  <thead>\n",
       "    <tr style=\"text-align: right;\">\n",
       "      <th></th>\n",
       "      <th>Mes</th>\n",
       "      <th>Ventas</th>\n",
       "      <th>Gastos</th>\n",
       "      <th>Cobrado</th>\n",
       "    </tr>\n",
       "  </thead>\n",
       "  <tbody>\n",
       "    <tr>\n",
       "      <th>3</th>\n",
       "      <td>Abril</td>\n",
       "      <td>25800</td>\n",
       "      <td>7850</td>\n",
       "      <td>S</td>\n",
       "    </tr>\n",
       "    <tr>\n",
       "      <th>6</th>\n",
       "      <td>Julio</td>\n",
       "      <td>32500</td>\n",
       "      <td>6500</td>\n",
       "      <td>S</td>\n",
       "    </tr>\n",
       "    <tr>\n",
       "      <th>7</th>\n",
       "      <td>Agosto</td>\n",
       "      <td>23624</td>\n",
       "      <td>9252</td>\n",
       "      <td>S</td>\n",
       "    </tr>\n",
       "    <tr>\n",
       "      <th>10</th>\n",
       "      <td>Noviembre</td>\n",
       "      <td>23250</td>\n",
       "      <td>12450</td>\n",
       "      <td>S</td>\n",
       "    </tr>\n",
       "  </tbody>\n",
       "</table>\n",
       "</div>"
      ],
      "text/plain": [
       "          Mes  Ventas  Gastos Cobrado\n",
       "3       Abril   25800    7850       S\n",
       "6       Julio   32500    6500       S\n",
       "7      Agosto   23624    9252       S\n",
       "10  Noviembre   23250   12450       S"
      ]
     },
     "execution_count": 75,
     "metadata": {},
     "output_type": "execute_result"
    }
   ],
   "source": [
    "'''Ejercicio 3.3.3.\n",
    "Muestra toda la información sobre los meses en los que se ha facturado por encima de la facturación media anual'''\n",
    "\n",
    "\n",
    "import pandas\n",
    "\n",
    "datos = {'Mes':['Enero','Febrero','Marzo','Abril','Mayo','Junio', 'Julio','Agosto','Septiembre','Octubre','Noviembre','Diciembre'],\n",
    "         'Ventas':[10000, 15200, 14300, 25800, 2560, 12780, 32500, 23624, 12000,15858, 23250, 11630], \n",
    "         'Gastos':[6500, 6500, 6500, 7850, 6500, 8250, 6500, 9252, 6500,10250, 12450, 13000],\n",
    "         'Cobrado':['S','N','N','S','S','N','S','S','S','N','S','N']}\n",
    "df_datos = pandas.DataFrame(datos)\n",
    "media_anual = df_datos[\"Ventas\"].mean()\n",
    "df_datos [df_datos['Ventas']>media_anual]"
   ]
  },
  {
   "cell_type": "code",
   "execution_count": 96,
   "id": "4d3acb02-53ca-42d2-995d-ab7d5f46ae76",
   "metadata": {},
   "outputs": [
    {
     "name": "stdout",
     "output_type": "stream",
     "text": [
      "          Mes Cobrado\n",
      "1     Febrero       N\n",
      "2       Marzo       N\n",
      "5       Junio       N\n",
      "9     Octubre       N\n",
      "11  Diciembre       N\n"
     ]
    }
   ],
   "source": [
    "'''Ejercicio 3.3.4.\n",
    "Muestra los meses en los que hay facturas pendientes de cobro, es decir, los meses en los que no se han cobrado todas las facturas'''\n",
    "\n",
    "import pandas\n",
    "\n",
    "datos = {'Mes': ['Enero', 'Febrero', 'Marzo', 'Abril', 'Mayo', 'Junio', 'Julio', 'Agosto', 'Septiembre', 'Octubre', 'Noviembre', 'Diciembre'],\n",
    "         'Ventas': [10000, 15200, 14300, 25800, 2560, 12780, 32500, 23624, 12000, 15858, 23250, 11630],\n",
    "         'Gastos': [6500, 6500, 6500, 7850, 6500, 8250, 6500, 9252, 6500, 10250, 12450, 13000],\n",
    "         'Cobrado': ['S', 'N', 'N', 'S', 'S', 'N', 'S', 'S', 'S', 'N', 'S', 'N']}\n",
    "df_datos = pandas.DataFrame(datos)\n",
    "\n",
    "cobrado = df_datos[df_datos['Cobrado'] == 'N'].drop(['Ventas', 'Gastos'], axis=1) #nombro lo que quiero eliminar.uso axis para mantener la 1\n",
    "#mejor df.loc[df['Cobrado'] == 'N', [´Mes']]\n",
    "print(cobrado)\n"
   ]
  },
  {
   "cell_type": "code",
   "execution_count": 98,
   "id": "8d970c01-c0bb-4a1a-b1fc-9e35a5b9df77",
   "metadata": {},
   "outputs": [
    {
     "name": "stdout",
     "output_type": "stream",
     "text": [
      "          Mes  Ventas  Gastos Cobrado\n",
      "4        Mayo    2560    6500       S\n",
      "11  Diciembre   11630   13000       N\n"
     ]
    }
   ],
   "source": [
    "'''Ejercicio 3.3.5.\n",
    "Utilizando el mismo dataframe, muestra toda la información sobre los meses en los que los gastos han sido mayores que las ventas.'''\n",
    "\n",
    "import pandas\n",
    "\n",
    "datos = {'Mes': ['Enero', 'Febrero', 'Marzo', 'Abril', 'Mayo', 'Junio', 'Julio', 'Agosto', 'Septiembre', 'Octubre', 'Noviembre', 'Diciembre'],\n",
    "         'Ventas': [10000, 15200, 14300, 25800, 2560, 12780, 32500, 23624, 12000, 15858, 23250, 11630],\n",
    "         'Gastos': [6500, 6500, 6500, 7850, 6500, 8250, 6500, 9252, 6500, 10250, 12450, 13000],\n",
    "         'Cobrado': ['S', 'N', 'N', 'S', 'S', 'N', 'S', 'S', 'S', 'N', 'S', 'N']}\n",
    "df_datos = pandas.DataFrame(datos)\n",
    "reporte = df_datos[df_datos['Gastos']>df_datos['Ventas']]\n",
    "print (reporte)\n"
   ]
  },
  {
   "cell_type": "code",
   "execution_count": 102,
   "id": "0b0ab66e-fe37-4682-a767-2e3607de87e9",
   "metadata": {},
   "outputs": [
    {
     "data": {
      "text/html": [
       "<div>\n",
       "<style scoped>\n",
       "    .dataframe tbody tr th:only-of-type {\n",
       "        vertical-align: middle;\n",
       "    }\n",
       "\n",
       "    .dataframe tbody tr th {\n",
       "        vertical-align: top;\n",
       "    }\n",
       "\n",
       "    .dataframe thead th {\n",
       "        text-align: right;\n",
       "    }\n",
       "</style>\n",
       "<table border=\"1\" class=\"dataframe\">\n",
       "  <thead>\n",
       "    <tr style=\"text-align: right;\">\n",
       "      <th></th>\n",
       "      <th>Mes</th>\n",
       "      <th>Ventas</th>\n",
       "      <th>Gastos</th>\n",
       "      <th>Cobrado</th>\n",
       "      <th>Beneficio</th>\n",
       "    </tr>\n",
       "  </thead>\n",
       "  <tbody>\n",
       "    <tr>\n",
       "      <th>0</th>\n",
       "      <td>Enero</td>\n",
       "      <td>10000</td>\n",
       "      <td>6500</td>\n",
       "      <td>S</td>\n",
       "      <td>0</td>\n",
       "    </tr>\n",
       "    <tr>\n",
       "      <th>1</th>\n",
       "      <td>Febrero</td>\n",
       "      <td>15200</td>\n",
       "      <td>6500</td>\n",
       "      <td>N</td>\n",
       "      <td>0</td>\n",
       "    </tr>\n",
       "    <tr>\n",
       "      <th>2</th>\n",
       "      <td>Marzo</td>\n",
       "      <td>14300</td>\n",
       "      <td>6500</td>\n",
       "      <td>N</td>\n",
       "      <td>0</td>\n",
       "    </tr>\n",
       "    <tr>\n",
       "      <th>3</th>\n",
       "      <td>Abril</td>\n",
       "      <td>25800</td>\n",
       "      <td>7850</td>\n",
       "      <td>S</td>\n",
       "      <td>0</td>\n",
       "    </tr>\n",
       "    <tr>\n",
       "      <th>4</th>\n",
       "      <td>Mayo</td>\n",
       "      <td>2560</td>\n",
       "      <td>6500</td>\n",
       "      <td>S</td>\n",
       "      <td>0</td>\n",
       "    </tr>\n",
       "    <tr>\n",
       "      <th>5</th>\n",
       "      <td>Junio</td>\n",
       "      <td>12780</td>\n",
       "      <td>8250</td>\n",
       "      <td>N</td>\n",
       "      <td>0</td>\n",
       "    </tr>\n",
       "    <tr>\n",
       "      <th>6</th>\n",
       "      <td>Julio</td>\n",
       "      <td>32500</td>\n",
       "      <td>6500</td>\n",
       "      <td>S</td>\n",
       "      <td>0</td>\n",
       "    </tr>\n",
       "    <tr>\n",
       "      <th>7</th>\n",
       "      <td>Agosto</td>\n",
       "      <td>23624</td>\n",
       "      <td>9252</td>\n",
       "      <td>S</td>\n",
       "      <td>0</td>\n",
       "    </tr>\n",
       "    <tr>\n",
       "      <th>8</th>\n",
       "      <td>Septiembre</td>\n",
       "      <td>12000</td>\n",
       "      <td>6500</td>\n",
       "      <td>S</td>\n",
       "      <td>0</td>\n",
       "    </tr>\n",
       "    <tr>\n",
       "      <th>9</th>\n",
       "      <td>Octubre</td>\n",
       "      <td>15858</td>\n",
       "      <td>10250</td>\n",
       "      <td>N</td>\n",
       "      <td>0</td>\n",
       "    </tr>\n",
       "    <tr>\n",
       "      <th>10</th>\n",
       "      <td>Noviembre</td>\n",
       "      <td>23250</td>\n",
       "      <td>12450</td>\n",
       "      <td>S</td>\n",
       "      <td>0</td>\n",
       "    </tr>\n",
       "    <tr>\n",
       "      <th>11</th>\n",
       "      <td>Diciembre</td>\n",
       "      <td>11630</td>\n",
       "      <td>13000</td>\n",
       "      <td>N</td>\n",
       "      <td>0</td>\n",
       "    </tr>\n",
       "  </tbody>\n",
       "</table>\n",
       "</div>"
      ],
      "text/plain": [
       "           Mes  Ventas  Gastos Cobrado  Beneficio\n",
       "0        Enero   10000    6500       S          0\n",
       "1      Febrero   15200    6500       N          0\n",
       "2        Marzo   14300    6500       N          0\n",
       "3        Abril   25800    7850       S          0\n",
       "4         Mayo    2560    6500       S          0\n",
       "5        Junio   12780    8250       N          0\n",
       "6        Julio   32500    6500       S          0\n",
       "7       Agosto   23624    9252       S          0\n",
       "8   Septiembre   12000    6500       S          0\n",
       "9      Octubre   15858   10250       N          0\n",
       "10   Noviembre   23250   12450       S          0\n",
       "11   Diciembre   11630   13000       N          0"
      ]
     },
     "execution_count": 102,
     "metadata": {},
     "output_type": "execute_result"
    }
   ],
   "source": [
    "'''Ejercicio 3.3.6.\n",
    "Añade una nueva columna al dataframe que hemos estado utilizando, llamada Beneficio, que tenga sus doce valores iguales a 0.\n",
    "\n",
    "NOTA: Crea un nuevo dataframe utilizando diccionarios y lo que sabes sobre ellos.'''\n",
    "\n",
    "import pandas\n",
    "\n",
    "datos = {'Mes': ['Enero', 'Febrero', 'Marzo', 'Abril', 'Mayo', 'Junio', 'Julio', 'Agosto', 'Septiembre', 'Octubre', 'Noviembre', 'Diciembre'],\n",
    "         'Ventas': [10000, 15200, 14300, 25800, 2560, 12780, 32500, 23624, 12000, 15858, 23250, 11630],\n",
    "         'Gastos': [6500, 6500, 6500, 7850, 6500, 8250, 6500, 9252, 6500, 10250, 12450, 13000],\n",
    "         'Cobrado': ['S', 'N', 'N', 'S', 'S', 'N', 'S', 'S', 'S', 'N', 'S', 'N']}\n",
    "df_datos = pandas.DataFrame(datos)\n",
    "df_datos['Beneficio']=0\n",
    "df_datos"
   ]
  },
  {
   "cell_type": "code",
   "execution_count": 105,
   "id": "1bcebb63-7d40-4992-8355-13246c1f3db1",
   "metadata": {},
   "outputs": [
    {
     "data": {
      "text/html": [
       "<div>\n",
       "<style scoped>\n",
       "    .dataframe tbody tr th:only-of-type {\n",
       "        vertical-align: middle;\n",
       "    }\n",
       "\n",
       "    .dataframe tbody tr th {\n",
       "        vertical-align: top;\n",
       "    }\n",
       "\n",
       "    .dataframe thead th {\n",
       "        text-align: right;\n",
       "    }\n",
       "</style>\n",
       "<table border=\"1\" class=\"dataframe\">\n",
       "  <thead>\n",
       "    <tr style=\"text-align: right;\">\n",
       "      <th></th>\n",
       "      <th>Mes</th>\n",
       "      <th>Ventas</th>\n",
       "      <th>Gastos</th>\n",
       "      <th>Cobrado</th>\n",
       "      <th>Beneficio</th>\n",
       "    </tr>\n",
       "  </thead>\n",
       "  <tbody>\n",
       "    <tr>\n",
       "      <th>0</th>\n",
       "      <td>Enero</td>\n",
       "      <td>10000</td>\n",
       "      <td>6500</td>\n",
       "      <td>S</td>\n",
       "      <td>3500</td>\n",
       "    </tr>\n",
       "    <tr>\n",
       "      <th>1</th>\n",
       "      <td>Febrero</td>\n",
       "      <td>15200</td>\n",
       "      <td>6500</td>\n",
       "      <td>N</td>\n",
       "      <td>8700</td>\n",
       "    </tr>\n",
       "    <tr>\n",
       "      <th>2</th>\n",
       "      <td>Marzo</td>\n",
       "      <td>14300</td>\n",
       "      <td>6500</td>\n",
       "      <td>N</td>\n",
       "      <td>7800</td>\n",
       "    </tr>\n",
       "    <tr>\n",
       "      <th>3</th>\n",
       "      <td>Abril</td>\n",
       "      <td>25800</td>\n",
       "      <td>7850</td>\n",
       "      <td>S</td>\n",
       "      <td>17950</td>\n",
       "    </tr>\n",
       "    <tr>\n",
       "      <th>4</th>\n",
       "      <td>Mayo</td>\n",
       "      <td>2560</td>\n",
       "      <td>6500</td>\n",
       "      <td>S</td>\n",
       "      <td>-3940</td>\n",
       "    </tr>\n",
       "    <tr>\n",
       "      <th>5</th>\n",
       "      <td>Junio</td>\n",
       "      <td>12780</td>\n",
       "      <td>8250</td>\n",
       "      <td>N</td>\n",
       "      <td>4530</td>\n",
       "    </tr>\n",
       "    <tr>\n",
       "      <th>6</th>\n",
       "      <td>Julio</td>\n",
       "      <td>32500</td>\n",
       "      <td>6500</td>\n",
       "      <td>S</td>\n",
       "      <td>26000</td>\n",
       "    </tr>\n",
       "    <tr>\n",
       "      <th>7</th>\n",
       "      <td>Agosto</td>\n",
       "      <td>23624</td>\n",
       "      <td>9252</td>\n",
       "      <td>S</td>\n",
       "      <td>14372</td>\n",
       "    </tr>\n",
       "    <tr>\n",
       "      <th>8</th>\n",
       "      <td>Septiembre</td>\n",
       "      <td>12000</td>\n",
       "      <td>6500</td>\n",
       "      <td>S</td>\n",
       "      <td>5500</td>\n",
       "    </tr>\n",
       "    <tr>\n",
       "      <th>9</th>\n",
       "      <td>Octubre</td>\n",
       "      <td>15858</td>\n",
       "      <td>10250</td>\n",
       "      <td>N</td>\n",
       "      <td>5608</td>\n",
       "    </tr>\n",
       "    <tr>\n",
       "      <th>10</th>\n",
       "      <td>Noviembre</td>\n",
       "      <td>23250</td>\n",
       "      <td>12450</td>\n",
       "      <td>S</td>\n",
       "      <td>10800</td>\n",
       "    </tr>\n",
       "    <tr>\n",
       "      <th>11</th>\n",
       "      <td>Diciembre</td>\n",
       "      <td>11630</td>\n",
       "      <td>13000</td>\n",
       "      <td>N</td>\n",
       "      <td>-1370</td>\n",
       "    </tr>\n",
       "  </tbody>\n",
       "</table>\n",
       "</div>"
      ],
      "text/plain": [
       "           Mes  Ventas  Gastos Cobrado  Beneficio\n",
       "0        Enero   10000    6500       S       3500\n",
       "1      Febrero   15200    6500       N       8700\n",
       "2        Marzo   14300    6500       N       7800\n",
       "3        Abril   25800    7850       S      17950\n",
       "4         Mayo    2560    6500       S      -3940\n",
       "5        Junio   12780    8250       N       4530\n",
       "6        Julio   32500    6500       S      26000\n",
       "7       Agosto   23624    9252       S      14372\n",
       "8   Septiembre   12000    6500       S       5500\n",
       "9      Octubre   15858   10250       N       5608\n",
       "10   Noviembre   23250   12450       S      10800\n",
       "11   Diciembre   11630   13000       N      -1370"
      ]
     },
     "execution_count": 105,
     "metadata": {},
     "output_type": "execute_result"
    }
   ],
   "source": [
    "import pandas\n",
    "\n",
    "datos = {'Mes': ['Enero', 'Febrero', 'Marzo', 'Abril', 'Mayo', 'Junio', 'Julio', 'Agosto', 'Septiembre', 'Octubre', 'Noviembre', 'Diciembre'],\n",
    "         'Ventas': [10000, 15200, 14300, 25800, 2560, 12780, 32500, 23624, 12000, 15858, 23250, 11630],\n",
    "         'Gastos': [6500, 6500, 6500, 7850, 6500, 8250, 6500, 9252, 6500, 10250, 12450, 13000],\n",
    "         'Cobrado': ['S', 'N', 'N', 'S', 'S', 'N', 'S', 'S', 'S', 'N', 'S', 'N']}\n",
    "df_datos = pandas.DataFrame(datos)\n",
    "df_datos['Beneficio']= (df_datos['Ventas']-df_datos['Gastos'])\n",
    "df_datos"
   ]
  },
  {
   "cell_type": "code",
   "execution_count": 109,
   "id": "c1f6a823-0673-47ee-b506-7a5827974009",
   "metadata": {},
   "outputs": [
    {
     "name": "stdout",
     "output_type": "stream",
     "text": [
      "          Mes  Ventas  Gastos Cobrado  Beneficio\n",
      "4        Mayo    2560    6500       S      -3940\n",
      "11  Diciembre   11630   13000       N      -1370\n"
     ]
    }
   ],
   "source": [
    "'''Ejercicio 3.3.8.\n",
    "Con el nuevo dataframe obtenido el ejercicio anterior, muestra cuales son los meses en los que ha habido pérdidas.\n",
    "¿Coinciden las respuestas de este ejercicio y del ejercicio 3.3.5? ¿Deberían coincidir?'''\n",
    "import pandas\n",
    "\n",
    "datos = {'Mes': ['Enero', 'Febrero', 'Marzo', 'Abril', 'Mayo', 'Junio', 'Julio', 'Agosto', 'Septiembre', 'Octubre', 'Noviembre', 'Diciembre'],\n",
    "         'Ventas': [10000, 15200, 14300, 25800, 2560, 12780, 32500, 23624, 12000, 15858, 23250, 11630],\n",
    "         'Gastos': [6500, 6500, 6500, 7850, 6500, 8250, 6500, 9252, 6500, 10250, 12450, 13000],\n",
    "         'Cobrado': ['S', 'N', 'N', 'S', 'S', 'N', 'S', 'S', 'S', 'N', 'S', 'N']}\n",
    "df_datos = pandas.DataFrame(datos)\n",
    "df_datos['Beneficio']= (df_datos['Ventas']-df_datos['Gastos'])\n",
    "reporte2 = df_datos[df_datos['Beneficio']<0]\n",
    "print (reporte2)\n"
   ]
  },
  {
   "cell_type": "code",
   "execution_count": 6,
   "id": "8deb5936-ac20-4195-a80e-0ac1ef866afe",
   "metadata": {},
   "outputs": [
    {
     "data": {
      "text/html": [
       "<div>\n",
       "<style scoped>\n",
       "    .dataframe tbody tr th:only-of-type {\n",
       "        vertical-align: middle;\n",
       "    }\n",
       "\n",
       "    .dataframe tbody tr th {\n",
       "        vertical-align: top;\n",
       "    }\n",
       "\n",
       "    .dataframe thead th {\n",
       "        text-align: right;\n",
       "    }\n",
       "</style>\n",
       "<table border=\"1\" class=\"dataframe\">\n",
       "  <thead>\n",
       "    <tr style=\"text-align: right;\">\n",
       "      <th></th>\n",
       "      <th>Mes</th>\n",
       "      <th>Ventas</th>\n",
       "      <th>Gastos</th>\n",
       "      <th>Cobrado</th>\n",
       "      <th>Beneficio</th>\n",
       "    </tr>\n",
       "  </thead>\n",
       "  <tbody>\n",
       "    <tr>\n",
       "      <th>6</th>\n",
       "      <td>Julio</td>\n",
       "      <td>32500</td>\n",
       "      <td>6500</td>\n",
       "      <td>S</td>\n",
       "      <td>26000</td>\n",
       "    </tr>\n",
       "  </tbody>\n",
       "</table>\n",
       "</div>"
      ],
      "text/plain": [
       "     Mes  Ventas  Gastos Cobrado  Beneficio\n",
       "6  Julio   32500    6500       S      26000"
      ]
     },
     "execution_count": 6,
     "metadata": {},
     "output_type": "execute_result"
    }
   ],
   "source": [
    "'''Ejercicio 3.3.9.\n",
    "Muestra todos los datos sobre el mes en el que hay un mayor beneficio.'''\n",
    "\n",
    "import pandas\n",
    "\n",
    "datos = {'Mes': ['Enero', 'Febrero', 'Marzo', 'Abril', 'Mayo', 'Junio', 'Julio', 'Agosto', 'Septiembre', 'Octubre', 'Noviembre', 'Diciembre'],\n",
    "         'Ventas': [10000, 15200, 14300, 25800, 2560, 12780, 32500, 23624, 12000, 15858, 23250, 11630],\n",
    "         'Gastos': [6500, 6500, 6500, 7850, 6500, 8250, 6500, 9252, 6500, 10250, 12450, 13000],\n",
    "         'Cobrado': ['S', 'N', 'N', 'S', 'S', 'N', 'S', 'S', 'S', 'N', 'S', 'N']}\n",
    "df_datos = pandas.DataFrame(datos)\n",
    "df_datos['Beneficio']= (df_datos['Ventas']-df_datos['Gastos'])\n",
    "df_datos[df_datos['Beneficio']==df_datos['Beneficio'].max()]"
   ]
  },
  {
   "cell_type": "code",
   "execution_count": 7,
   "id": "9b28fa03-4708-4ce9-a464-da65bf6409d7",
   "metadata": {},
   "outputs": [
    {
     "data": {
      "text/html": [
       "<div>\n",
       "<style scoped>\n",
       "    .dataframe tbody tr th:only-of-type {\n",
       "        vertical-align: middle;\n",
       "    }\n",
       "\n",
       "    .dataframe tbody tr th {\n",
       "        vertical-align: top;\n",
       "    }\n",
       "\n",
       "    .dataframe thead th {\n",
       "        text-align: right;\n",
       "    }\n",
       "</style>\n",
       "<table border=\"1\" class=\"dataframe\">\n",
       "  <thead>\n",
       "    <tr style=\"text-align: right;\">\n",
       "      <th></th>\n",
       "      <th>Mes</th>\n",
       "      <th>Ventas</th>\n",
       "      <th>Gastos</th>\n",
       "      <th>Cobrado</th>\n",
       "      <th>Beneficio</th>\n",
       "    </tr>\n",
       "  </thead>\n",
       "  <tbody>\n",
       "    <tr>\n",
       "      <th>1</th>\n",
       "      <td>Febrero</td>\n",
       "      <td>15200</td>\n",
       "      <td>6500</td>\n",
       "      <td>N</td>\n",
       "      <td>8700</td>\n",
       "    </tr>\n",
       "    <tr>\n",
       "      <th>3</th>\n",
       "      <td>Abril</td>\n",
       "      <td>25800</td>\n",
       "      <td>7850</td>\n",
       "      <td>S</td>\n",
       "      <td>17950</td>\n",
       "    </tr>\n",
       "    <tr>\n",
       "      <th>6</th>\n",
       "      <td>Julio</td>\n",
       "      <td>32500</td>\n",
       "      <td>6500</td>\n",
       "      <td>S</td>\n",
       "      <td>26000</td>\n",
       "    </tr>\n",
       "    <tr>\n",
       "      <th>7</th>\n",
       "      <td>Agosto</td>\n",
       "      <td>23624</td>\n",
       "      <td>9252</td>\n",
       "      <td>S</td>\n",
       "      <td>14372</td>\n",
       "    </tr>\n",
       "    <tr>\n",
       "      <th>10</th>\n",
       "      <td>Noviembre</td>\n",
       "      <td>23250</td>\n",
       "      <td>12450</td>\n",
       "      <td>S</td>\n",
       "      <td>10800</td>\n",
       "    </tr>\n",
       "  </tbody>\n",
       "</table>\n",
       "</div>"
      ],
      "text/plain": [
       "          Mes  Ventas  Gastos Cobrado  Beneficio\n",
       "1     Febrero   15200    6500       N       8700\n",
       "3       Abril   25800    7850       S      17950\n",
       "6       Julio   32500    6500       S      26000\n",
       "7      Agosto   23624    9252       S      14372\n",
       "10  Noviembre   23250   12450       S      10800"
      ]
     },
     "execution_count": 7,
     "metadata": {},
     "output_type": "execute_result"
    }
   ],
   "source": [
    "'''Ejercicio 3.3.10.\n",
    "Muestra los meses en los que el beneficio ha sido mayor que la media de los beneficios anuales, aunque no se hayan cobrado aún todas las facturas'''\n",
    "\n",
    "\n",
    "import pandas\n",
    "\n",
    "datos = {'Mes': ['Enero', 'Febrero', 'Marzo', 'Abril', 'Mayo', 'Junio', 'Julio', 'Agosto', 'Septiembre', 'Octubre', 'Noviembre', 'Diciembre'],\n",
    "         'Ventas': [10000, 15200, 14300, 25800, 2560, 12780, 32500, 23624, 12000, 15858, 23250, 11630],\n",
    "         'Gastos': [6500, 6500, 6500, 7850, 6500, 8250, 6500, 9252, 6500, 10250, 12450, 13000],\n",
    "         'Cobrado': ['S', 'N', 'N', 'S', 'S', 'N', 'S', 'S', 'S', 'N', 'S', 'N']}\n",
    "df_datos = pandas.DataFrame(datos)\n",
    "df_datos['Beneficio']= (df_datos['Ventas']-df_datos['Gastos'])\n",
    "df_datos[df_datos['Beneficio']>df_datos['Beneficio'].mean()]"
   ]
  },
  {
   "cell_type": "code",
   "execution_count": null,
   "id": "c06fafa3-3af3-48aa-8b0d-04e5029ca95d",
   "metadata": {},
   "outputs": [],
   "source": [
    "\n",
    "\n",
    "\n",
    "\n"
   ]
  }
 ],
 "metadata": {
  "kernelspec": {
   "display_name": "Python 3 (ipykernel)",
   "language": "python",
   "name": "python3"
  },
  "language_info": {
   "codemirror_mode": {
    "name": "ipython",
    "version": 3
   },
   "file_extension": ".py",
   "mimetype": "text/x-python",
   "name": "python",
   "nbconvert_exporter": "python",
   "pygments_lexer": "ipython3",
   "version": "3.9.13"
  }
 },
 "nbformat": 4,
 "nbformat_minor": 5
}
