{
 "cells": [
  {
   "cell_type": "code",
   "execution_count": 3,
   "id": "5c9407fd-fe72-4136-83eb-14082c3b1606",
   "metadata": {},
   "outputs": [
    {
     "name": "stdout",
     "output_type": "stream",
     "text": [
      "['rojo', 'verde', 'amarillo', 'azul', 'blanco']\n"
     ]
    }
   ],
   "source": [
    "#EJERCICIO 1.5.1.\n",
    "#Crea un programa que almacene los colores rojo, verde, amarillo, azul y blanco en una lista y los muestre por pantalla.\n",
    "\n",
    "colores = [\"rojo\", \"verde\", \"amarillo\", \"azul\", \"blanco\"]\n",
    "print (colores)"
   ]
  },
  {
   "cell_type": "code",
   "execution_count": 5,
   "id": "4fe10d53-16f3-40d0-b91e-b31ef44830f6",
   "metadata": {},
   "outputs": [
    {
     "data": {
      "text/plain": [
       "'verde'"
      ]
     },
     "execution_count": 5,
     "metadata": {},
     "output_type": "execute_result"
    }
   ],
   "source": [
    "#Ejercicio 1.5.2.\n",
    "#Crea un programa que escriba por pantalla el color verde de la lista anterior.\n",
    "\n",
    "colores = [\"rojo\", \"verde\", \"amarillo\", \"azul\", \"blanco\"]\n",
    "colores [1]\n"
   ]
  },
  {
   "cell_type": "code",
   "execution_count": 7,
   "id": "5e0ca549-0874-4345-bb3a-0931bc6aba29",
   "metadata": {},
   "outputs": [
    {
     "name": "stdout",
     "output_type": "stream",
     "text": [
      "verde\n"
     ]
    }
   ],
   "source": [
    "colores = [\"rojo\", \"verde\", \"amarillo\", \"azul\", \"blanco\"]\n",
    "print (colores [1])"
   ]
  },
  {
   "cell_type": "code",
   "execution_count": 11,
   "id": "e60e5e44-45ee-4464-8b79-704e7f904523",
   "metadata": {},
   "outputs": [
    {
     "name": "stdout",
     "output_type": "stream",
     "text": [
      "azul\n",
      "azul\n"
     ]
    }
   ],
   "source": [
    "#Ejercicio 1.5.3.\n",
    "# Crea un programa que escriba por pantalla el color azul de la lista anterior, \n",
    "# Muestra cómo hacerlo de dos formas diferentes, una con el índice en positivo y otra con el índice en negativo.\n",
    "\n",
    "colores = [\"rojo\", \"verde\", \"amarillo\", \"azul\", \"blanco\"]\n",
    "print (colores [-2])\n",
    "print (colores [3])"
   ]
  },
  {
   "cell_type": "code",
   "execution_count": 2,
   "id": "ee028950-f9b5-4a24-9a7c-1d591d3fd9e6",
   "metadata": {},
   "outputs": [
    {
     "name": "stdout",
     "output_type": "stream",
     "text": [
      "['rojo', 'verde', 'amarillo', 'azul', 'negro']\n"
     ]
    }
   ],
   "source": [
    "#sustituir color\n",
    "\n",
    "colores = [\"rojo\",\"verde\",\"amarillo\",\"azul\",\"blanco\"]\n",
    "colores[4] = \"negro\"\n",
    "print (colores)"
   ]
  },
  {
   "cell_type": "code",
   "execution_count": 7,
   "id": "fc7a9dbb-e739-4527-a183-b7dfd4ab0a7a",
   "metadata": {},
   "outputs": [
    {
     "name": "stdout",
     "output_type": "stream",
     "text": [
      "['rojo', 'verde', 'amarillo', 'azul', 'blanco', 'negro']\n"
     ]
    }
   ],
   "source": [
    "#Ejercicio 1.5.5.\n",
    "#Crea un programa que añada a la lista [\"rojo\",\"verde\",\"amarillo\",\"azul\",\"blanco\"] el color negro.\n",
    "\n",
    "colores = [\"rojo\",\"verde\",\"amarillo\",\"azul\",\"blanco\"]\n",
    "colores.append (\"negro\")\n",
    "print (colores)"
   ]
  },
  {
   "cell_type": "code",
   "execution_count": 9,
   "id": "cc4d9819-754f-4652-8926-ba3d76ccd027",
   "metadata": {},
   "outputs": [
    {
     "name": "stdout",
     "output_type": "stream",
     "text": [
      "[1, 2, 3, 4, 5, 6, 7, 8, 9, 10]\n"
     ]
    }
   ],
   "source": [
    "#Ejercicio 1.5.6.\n",
    "#Crea un programa que construya una lista que contenga los números del 1 al 10 y muéstrala por pantalla\n",
    "\n",
    "num = [1,2,3,4,5,6,7,8,9,10]\n",
    "print (num)"
   ]
  },
  {
   "cell_type": "code",
   "execution_count": 16,
   "id": "4b1abc39-5c6c-4997-8474-0e5a232d902e",
   "metadata": {},
   "outputs": [
    {
     "name": "stdin",
     "output_type": "stream",
     "text": [
      "Introduzca un numero: 5\n"
     ]
    },
    {
     "name": "stdout",
     "output_type": "stream",
     "text": [
      "[6, 7, 8, 9, 10, 11, 12, 13, 14, 15]\n"
     ]
    }
   ],
   "source": [
    "#Ejercicio 1.5.7.\n",
    "#Crea una lista, pero esta vez que contenga los 10 números siguientes a un número dado por el usuario. \n",
    "\n",
    "num = int(input(\"Introduzca un numero:\"))\n",
    "lista = [num + i for i in range (1,11)]\n",
    "print (lista)"
   ]
  },
  {
   "cell_type": "code",
   "execution_count": 51,
   "id": "c8e77a5c-8bb1-4e9c-835a-e443622db540",
   "metadata": {},
   "outputs": [
    {
     "name": "stdout",
     "output_type": "stream",
     "text": [
      "Puntue las siguientes películas de 0 a 10:\n"
     ]
    },
    {
     "name": "stdin",
     "output_type": "stream",
     "text": [
      "El Padrino 6\n",
      "Tiburón 3\n",
      "Los Cazafantasmas 7\n",
      "El exorcista 8\n",
      "Pulp Fiction 10\n",
      "Star Wars 1\n"
     ]
    },
    {
     "name": "stdout",
     "output_type": "stream",
     "text": [
      "Las peliculas aprobadas son:\n",
      "El Padrino \n",
      "Los Cazafantasmas \n",
      "El exorcista \n",
      "Pulp Fiction \n"
     ]
    }
   ],
   "source": [
    "# Ejercicio 1.5.8.\n",
    "#Crea un programa que, partiendo de una lista con las siguientes películas: \n",
    "#El Padrino, Tiburón, Los Cazafantasmas, El Exorcista, Pulp Fiction, Star Wars, \n",
    "#pregunte al usuario qué puntuación entre 1 y 10 le daría a cada una. \n",
    "#Después, muestra por pantalla el mensaje “Las películas aprobadas son: “, \n",
    "#seguido de la lista de películas con una puntuación mayor o igual a 5.\n",
    "\n",
    "peliculas = [\"El Padrino\",\"Tiburón\",\"Los Cazafantasmas\",\"El exorcista\",\"Pulp Fiction\",\"Star Wars\"]\n",
    "print (\"Puntue las siguientes películas de 0 a 10:\")\n",
    "\n",
    "aprobadas= []\n",
    "result = 1\n",
    "\n",
    "for i in peliculas:\n",
    "    result = (int(input(f\"{i}\")))\n",
    "    if result >= 5:\n",
    "            aprobadas.append (i)\n",
    "            result +=1\n",
    "print (\"Las peliculas aprobadas son:\", )\n",
    "for i in aprobadas:\n",
    "    print (i, \"\")\n"
   ]
  },
  {
   "cell_type": "code",
   "execution_count": 2,
   "id": "8730a927-0b20-4770-805e-073832f83523",
   "metadata": {},
   "outputs": [
    {
     "name": "stdout",
     "output_type": "stream",
     "text": [
      "Puntue las siguientes películas de 0 a 10:\n"
     ]
    },
    {
     "name": "stdin",
     "output_type": "stream",
     "text": [
      "El Padrino:  4\n",
      "Tiburón:  6\n",
      "Los Cazafantasmas:  3\n",
      "El exorcista:  7\n",
      "Pulp Fiction:  8\n",
      "Star Wars:  5\n"
     ]
    },
    {
     "name": "stdout",
     "output_type": "stream",
     "text": [
      "Las peliculas aprobadas son:\n",
      "Tiburón\n",
      "El exorcista\n",
      "Pulp Fiction\n",
      "Star Wars\n"
     ]
    }
   ],
   "source": [
    "### Ejercicio 1.5.8.\n",
    "#Repite el ejercicio anterior esta vez, crea la lista resultado eliminando de la lista principal las películas de menos de 5\n",
    "\n",
    "\n",
    "peliculas = [\"El Padrino\",\"Tiburón\",\"Los Cazafantasmas\",\"El exorcista\",\"Pulp Fiction\",\"Star Wars\"]\n",
    "print (\"Puntue las siguientes películas de 0 a 10:\")\n",
    "\n",
    "i = 0\n",
    "\n",
    "for i in peliculas[:]: # Creamos una copia de la lista original para iterar\n",
    "    result = int(input(f\"{i}: \"))\n",
    "    if result < 5:\n",
    "        peliculas.remove(i)\n",
    "\n",
    "print(\"Las peliculas aprobadas son:\")\n",
    "for i in peliculas:\n",
    "    print(i)\n"
   ]
  },
  {
   "cell_type": "code",
   "execution_count": null,
   "id": "0da29d03-9bf9-4761-89b6-8c3a1872d80c",
   "metadata": {},
   "outputs": [],
   "source": [
    "peliculas = [\"El Padrino\",\"Tiburón\",\"Los Cazafantasmas\",\"El exorcista\",\"Pulp Fiction\",\"Star Wars\"]\n",
    "print (\"Puntue las siguientes películas de 0 a 10:\")\n",
    "\n",
    "i = 0\n",
    "\n",
    "while i < len(peliculas): # Mientras haya elementos en la lista\n",
    "    puntuacion = int(input(f\"{peliculas[i]}: \"))\n",
    "    if puntuacion < 5:\n",
    "        peliculas.pop(i) # Eliminamos el elemento de la lista en la posición actual\n",
    "    else:\n",
    "        i += 1 # Avanzamos al siguiente elemento solo si la puntuación es >= 5\n",
    "        break\n",
    "        \n",
    "        print(\"Las películas aprobadas son:\")\n",
    "for pelicula in peliculas:\n",
    "    print(pelicula)\n"
   ]
  },
  {
   "cell_type": "code",
   "execution_count": 3,
   "id": "941f9660-2d0d-487a-8153-8fb52e627d1d",
   "metadata": {},
   "outputs": [
    {
     "name": "stdout",
     "output_type": "stream",
     "text": [
      "['verde', 'amarillo', 'azul', 'blanco', 'verde', 'rojo']\n"
     ]
    }
   ],
   "source": [
    "colores = [\"rojo\",\"verde\",\"amarillo\",\"azul\",\"blanco\",\"verde\",\"rojo\"]\n",
    "\n",
    "colores.remove(\"rojo\")\n",
    "\n",
    "print(colores)"
   ]
  },
  {
   "cell_type": "code",
   "execution_count": 2,
   "id": "3598e7a3-9821-4932-9720-d930e1b90837",
   "metadata": {},
   "outputs": [
    {
     "name": "stdout",
     "output_type": "stream",
     "text": [
      "['rojo', 'verde', 'amarillo', 'azul', 'blanco']\n"
     ]
    }
   ],
   "source": [
    "#Ejercicio 1.5.11.\n",
    "#Crea un programa que elimine los elementos duplicados que haya en una lista. \n",
    "#Por ejemplo, si tienes la lista [\"rojo\",\"verde\",\"amarillo\",\"azul\",\"blanco\",\"verde\",\"rojo\"] \n",
    "\n",
    "colores = [\"rojo\",\"verde\",\"amarillo\",\"azul\",\"blanco\",\"verde\",\"rojo\"] \n",
    "colores = list(dict.fromkeys(colores))\n",
    "print (colores)\n",
    "\n",
    "\n"
   ]
  },
  {
   "cell_type": "code",
   "execution_count": 10,
   "id": "7cdfb641-1d9a-4dfa-a992-d1d2aa087b0a",
   "metadata": {},
   "outputs": [
    {
     "name": "stdout",
     "output_type": "stream",
     "text": [
      "['rojo', 'verde', 'amarillo', 'azul', 'blanco', 'verde', 'rojo', 'rojo', 'verde', 'amarillo', 'azul', 'blanco']\n"
     ]
    }
   ],
   "source": [
    "#Ejercicio 1.5.12.\n",
    "#Crea un programa en el que se recorra una lista y si uno de los elementos aparece solo una vez, \n",
    "#se incluya dicho elemento para que aparezca al menos dos veces. \n",
    "#Puedes utilizar la lista colores = ['rojo', 'verde', 'amarillo', 'azul', 'blanco', 'verde', 'rojo', 'rojo', 'verde'], donde el resultado sería ['rojo', 'verde', 'amarillo', 'azul', 'blanco', 'verde', 'rojo', 'rojo', 'verde', 'amarillo', 'azul', 'blanco']\n",
    "\n",
    "colores = ['rojo', 'verde', 'amarillo', 'azul', 'blanco', 'verde', 'rojo', 'rojo', 'verde']\n",
    "\n",
    "for i in colores:\n",
    "    if colores.count (i) <2:\n",
    "        colores.append (i)\n",
    "       \n",
    "print (colores)\n",
    "    \n",
    "    "
   ]
  },
  {
   "cell_type": "code",
   "execution_count": 14,
   "id": "b9656176-d919-4f1c-a490-a9ead0b69ad3",
   "metadata": {},
   "outputs": [
    {
     "name": "stdout",
     "output_type": "stream",
     "text": [
      "['amarillo', 'amarillo', 'azul', 'azul', 'blanco', 'blanco', 'rojo', 'rojo', 'rojo', 'verde', 'verde', 'verde']\n"
     ]
    }
   ],
   "source": [
    "#Ejercicio 1.5.13.\n",
    "#Utiliza como base el programa creado en el ejercicio anterior y, en este caso, devuelve la lista ordenada alfabéticamente.\n",
    "\n",
    "colores = ['rojo', 'verde', 'amarillo', 'azul', 'blanco', 'verde', 'rojo', 'rojo', 'verde']\n",
    "\n",
    "for i in colores:\n",
    "    if colores.count (i) <2:\n",
    "        colores.append (i)\n",
    "\n",
    "colores.sort(reverse=False)\n",
    "print (colores)\n"
   ]
  },
  {
   "cell_type": "code",
   "execution_count": 22,
   "id": "b137393a-683f-43cc-808a-63a534333b63",
   "metadata": {},
   "outputs": [
    {
     "name": "stdout",
     "output_type": "stream",
     "text": [
      "[25, 21, 18, 16, 3, 2, 1, 'casa', 'camino', 'barco', 'avión', 'animal']\n"
     ]
    }
   ],
   "source": [
    "#Ejercicio 1.5.14.\n",
    "#lista numero = [25, 3, 16, 2, 21, 18, 1] y tienes la lista elementos = [“casa”, “avión”, “camino”, “barco”, “animal”],\n",
    "#crea un programa que devuelva una sola lista que contenga los elementos de ambas ordenados de forma decreciente. \n",
    "#Uno de los dos resultados posibles sería: \n",
    "#[25, 21, 18, 16, 3, 2, 1, ].\n",
    "\n",
    "numero = [25, 3, 16, 2, 21, 18, 1]\n",
    "elementos = ['casa', 'camino', 'barco', 'avión', 'animal']\n",
    "numero.sort(reverse=True)\n",
    "elementos.sort(reverse=True)\n",
    "\n",
    "numero.extend (elementos)\n",
    "print (numero)\n",
    "\n"
   ]
  },
  {
   "cell_type": "code",
   "execution_count": 55,
   "id": "7294b1e4-55b2-4f59-9ee8-3c397461dab6",
   "metadata": {},
   "outputs": [
    {
     "name": "stdin",
     "output_type": "stream",
     "text": [
      "Introduce un color: violeta\n"
     ]
    },
    {
     "name": "stdout",
     "output_type": "stream",
     "text": [
      "El color violeta no está en la lista\n"
     ]
    }
   ],
   "source": [
    "#Ejercicio 1.5.15.\n",
    "#Crea un programa en el que pidas al usuario que introduzca un color y, \n",
    "#si el color está en la lista [\"rojo\",\"verde\",\"amarillo\",\"azul\",\"blanco\",\"negro\"], \n",
    "#que devuelva la posición en la que se encuentra dicho color seguido de la frase “El color xxxx está en la posición:”, \n",
    "#si el color no está en la lista, devolverá la frase “El color xxxx no está en la lista”.\n",
    "\n",
    "colores = [\"rojo\",\"verde\",\"amarillo\",\"azul\",\"blanco\",\"negro\"]\n",
    "color = input(\"Introduce un color:\")\n",
    "\n",
    "if color in colores:\n",
    "    print (\"El color\", color, \"esta en la posicion\", colores.index(color))\n",
    "\n",
    "else:\n",
    "    print (\"El color\", color, \"no está en la lista\")\n"
   ]
  },
  {
   "cell_type": "code",
   "execution_count": 62,
   "id": "0982df02-44e0-48f4-8c0f-540e8d96eec8",
   "metadata": {},
   "outputs": [
    {
     "name": "stdin",
     "output_type": "stream",
     "text": [
      "Introduzca un número del 1 al 30: 5\n"
     ]
    },
    {
     "name": "stdout",
     "output_type": "stream",
     "text": [
      "[1, 2, 3, 5, 16, 18, 21, 25]\n"
     ]
    }
   ],
   "source": [
    "#Ejercicio 1.5.16.\n",
    "#Crea un programa que pida un número al usuario entre el 1 y el 30 \n",
    "#inserte ese número en la lista [1, 2, 3, 16, 18, 21, 25] en el orden que corresponda, siempre que el número no esté ya en la lista. \n",
    "#Si el número está en la lista que devuelva el mensaje “El número x ya está en la lista.”.\n",
    "\n",
    "lista = [1, 2, 3, 16, 18, 21, 25]\n",
    "num = int(input(\"Introduzca un número del 1 al 30:\"))\n",
    "\n",
    "if num not in lista:\n",
    "    lista.append(num)\n",
    "    lista.sort()\n",
    "    print(lista)\n",
    "else:\n",
    "    print (\"El número\",num, \"ya está en la lista\")\n",
    "        \n"
   ]
  },
  {
   "cell_type": "code",
   "execution_count": null,
   "id": "333cc41d-e28c-44b2-8ad7-4f69078820fc",
   "metadata": {},
   "outputs": [],
   "source": []
  },
  {
   "cell_type": "code",
   "execution_count": 66,
   "id": "764a7880-878a-4e50-8312-d4d4e675685c",
   "metadata": {},
   "outputs": [
    {
     "name": "stdin",
     "output_type": "stream",
     "text": [
      "Introduce un número para ver si es capicua: 232\n"
     ]
    },
    {
     "name": "stdout",
     "output_type": "stream",
     "text": [
      "El número 232 es capicúa\n"
     ]
    }
   ],
   "source": [
    "#Ejercicio 1.5.17.\n",
    "#Crea un programa que solicite al usuario que introduzca un número y, utilizando listas, indícale si dicho número es capicúa.\n",
    "\n",
    "num = input(\"Introduce un número para ver si es capicua:\")\n",
    "lista = list(num)\n",
    "capicua = list(reversed(lista))\n",
    "\n",
    "if lista == capicua:\n",
    "    print (\"El número\", num, \"es capicúa\")\n",
    "else:\n",
    "    print (\"El número\", num, \"no es capicúa\")"
   ]
  },
  {
   "cell_type": "code",
   "execution_count": null,
   "id": "2cf6ecbc-8068-46d9-b6d4-a8fdec8b1d6a",
   "metadata": {},
   "outputs": [],
   "source": []
  }
 ],
 "metadata": {
  "kernelspec": {
   "display_name": "Python 3 (ipykernel)",
   "language": "python",
   "name": "python3"
  },
  "language_info": {
   "codemirror_mode": {
    "name": "ipython",
    "version": 3
   },
   "file_extension": ".py",
   "mimetype": "text/x-python",
   "name": "python",
   "nbconvert_exporter": "python",
   "pygments_lexer": "ipython3",
   "version": "3.9.13"
  }
 },
 "nbformat": 4,
 "nbformat_minor": 5
}
