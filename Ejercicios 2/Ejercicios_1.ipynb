{
 "cells": [
  {
   "cell_type": "markdown",
   "id": "ebb3a54e-8b5a-40b4-a03f-36810c75e5ee",
   "metadata": {},
   "source": [
    "Para descargar csv https://people.sc.fsu.edu/~jburkardt/data/csv/"
   ]
  },
  {
   "cell_type": "code",
   "execution_count": null,
   "id": "08248cca-7134-456f-95a6-73491d215a68",
   "metadata": {},
   "outputs": [],
   "source": [
    "import csv\n",
    "\n",
    "#r modo leer w modo escribir a anexar\n",
    "#la sentencia with open cierra automaticamente el archivo cuando va con open, si solo ponemos open tendriamos que cerrar el archivo con close\n",
    "\n",
    "with open (path, \"r\") as csvfile:\n",
    "    lector_csv = csv.reader(csvfile, delimiter= \";\")\n",
    "    \n",
    "    #leemos el fichero hasta cinco elementos\n",
    "    \n",
    "    i=0\n",
    "    \n",
    "    for fila in lector_csv:\n",
    "        \n",
    "        print(fila)\n",
    "        i+=1\n",
    "        if == 5:\n",
    "            break\n",
    "                            "
   ]
  },
  {
   "cell_type": "code",
   "execution_count": 14,
   "id": "12604490-163d-483f-81e1-ed9574177b4b",
   "metadata": {},
   "outputs": [
    {
     "name": "stdout",
     "output_type": "stream",
     "text": [
      "['Last name', ' \"First name\"', ' \"SSN\"', '        \"Test1\"', ' \"Test2\"', ' \"Test3\"', ' \"Test4\"', ' \"Final\"', ' \"Grade\"']\n",
      "['Alfalfa', '   \"Aloysius\"', '   \"123-45-6789\"', ' 40.0', '    90.0', '   100.0', '    83.0', '    49.0', '   \"D-\"']\n",
      "['Alfred', '    \"University\"', ' \"123-12-1234\"', ' 41.0', '    97.0', '    96.0', '    97.0', '    48.0', '   \"D+\"']\n",
      "['Gerty', '     \"Gramma\"', '     \"567-89-0123\"', ' 41.0', '    80.0', '    60.0', '    40.0', '    44.0', '   \"C\"']\n",
      "['Android', '   \"Electric\"', '   \"087-65-4321\"', ' 42.0', '    23.0', '    36.0', '    45.0', '    47.0', '   \"B-\"']\n"
     ]
    }
   ],
   "source": [
    "import os\n",
    "import csv\n",
    "\n",
    "path = r'/Users/okashi/Desktop/grades.csv'\n",
    "\n",
    "with open(path, \"r\") as file_csv:\n",
    "    reader = csv.reader(file_csv, delimiter=\",\")\n",
    "    \n",
    "    i=0\n",
    "    for file in reader:\n",
    "        \n",
    "        print(file)\n",
    "        i+=1\n",
    "        if i == 5:\n",
    "            break\n",
    "     \n",
    "    \n"
   ]
  },
  {
   "cell_type": "code",
   "execution_count": 20,
   "id": "630b6f21-1bc6-4b9f-9a2e-af2de0b2a52d",
   "metadata": {},
   "outputs": [
    {
     "name": "stdout",
     "output_type": "stream",
     "text": [
      " \"Grade\"\n",
      "   \"D-\"\n",
      "   \"D+\"\n",
      "   \"C\"\n",
      "   \"B-\"\n"
     ]
    }
   ],
   "source": [
    "#para imprimir una columna, indicamos la posicion, por ejemplo imprimir la posición 8 de todas las filas\n",
    "import os\n",
    "import csv\n",
    "\n",
    "path = r'/Users/okashi/Desktop/grades.csv'\n",
    "\n",
    "with open(path, \"r\") as file_csv:\n",
    "    reader = csv.reader(file_csv, delimiter=\",\")\n",
    "    \n",
    "    i=0\n",
    "    for file in reader:\n",
    "        print(file[8])\n",
    "        i+=1\n",
    "        if i == 5:\n",
    "            break\n",
    "       "
   ]
  },
  {
   "cell_type": "code",
   "execution_count": 22,
   "id": "59b4bb8f-f597-44c5-bfbc-1e67b592b7fa",
   "metadata": {},
   "outputs": [
    {
     "data": {
      "text/html": [
       "<div>\n",
       "<style scoped>\n",
       "    .dataframe tbody tr th:only-of-type {\n",
       "        vertical-align: middle;\n",
       "    }\n",
       "\n",
       "    .dataframe tbody tr th {\n",
       "        vertical-align: top;\n",
       "    }\n",
       "\n",
       "    .dataframe thead th {\n",
       "        text-align: right;\n",
       "    }\n",
       "</style>\n",
       "<table border=\"1\" class=\"dataframe\">\n",
       "  <thead>\n",
       "    <tr style=\"text-align: right;\">\n",
       "      <th></th>\n",
       "      <th>Last name</th>\n",
       "      <th>\"First name\"</th>\n",
       "      <th>\"SSN\"</th>\n",
       "      <th>\"Test1\"</th>\n",
       "      <th>\"Test2\"</th>\n",
       "      <th>\"Test3\"</th>\n",
       "      <th>\"Test4\"</th>\n",
       "      <th>\"Final\"</th>\n",
       "      <th>\"Grade\"</th>\n",
       "    </tr>\n",
       "  </thead>\n",
       "  <tbody>\n",
       "    <tr>\n",
       "      <th>0</th>\n",
       "      <td>Alfalfa</td>\n",
       "      <td>\"Aloysius\"</td>\n",
       "      <td>\"123-45-6789\"</td>\n",
       "      <td>40.0</td>\n",
       "      <td>90.0</td>\n",
       "      <td>100.0</td>\n",
       "      <td>83.0</td>\n",
       "      <td>49.0</td>\n",
       "      <td>\"D-\"</td>\n",
       "    </tr>\n",
       "    <tr>\n",
       "      <th>1</th>\n",
       "      <td>Alfred</td>\n",
       "      <td>\"University\"</td>\n",
       "      <td>\"123-12-1234\"</td>\n",
       "      <td>41.0</td>\n",
       "      <td>97.0</td>\n",
       "      <td>96.0</td>\n",
       "      <td>97.0</td>\n",
       "      <td>48.0</td>\n",
       "      <td>\"D+\"</td>\n",
       "    </tr>\n",
       "    <tr>\n",
       "      <th>2</th>\n",
       "      <td>Gerty</td>\n",
       "      <td>\"Gramma\"</td>\n",
       "      <td>\"567-89-0123\"</td>\n",
       "      <td>41.0</td>\n",
       "      <td>80.0</td>\n",
       "      <td>60.0</td>\n",
       "      <td>40.0</td>\n",
       "      <td>44.0</td>\n",
       "      <td>\"C\"</td>\n",
       "    </tr>\n",
       "    <tr>\n",
       "      <th>3</th>\n",
       "      <td>Android</td>\n",
       "      <td>\"Electric\"</td>\n",
       "      <td>\"087-65-4321\"</td>\n",
       "      <td>42.0</td>\n",
       "      <td>23.0</td>\n",
       "      <td>36.0</td>\n",
       "      <td>45.0</td>\n",
       "      <td>47.0</td>\n",
       "      <td>\"B-\"</td>\n",
       "    </tr>\n",
       "    <tr>\n",
       "      <th>4</th>\n",
       "      <td>Bumpkin</td>\n",
       "      <td>\"Fred\"</td>\n",
       "      <td>\"456-78-9012\"</td>\n",
       "      <td>43.0</td>\n",
       "      <td>78.0</td>\n",
       "      <td>88.0</td>\n",
       "      <td>77.0</td>\n",
       "      <td>45.0</td>\n",
       "      <td>\"A-\"</td>\n",
       "    </tr>\n",
       "  </tbody>\n",
       "</table>\n",
       "</div>"
      ],
      "text/plain": [
       "  Last name      \"First name\"                 \"SSN\"         \"Test1\"   \"Test2\"  \\\n",
       "0   Alfalfa        \"Aloysius\"         \"123-45-6789\"            40.0      90.0   \n",
       "1    Alfred      \"University\"         \"123-12-1234\"            41.0      97.0   \n",
       "2     Gerty          \"Gramma\"         \"567-89-0123\"            41.0      80.0   \n",
       "3   Android        \"Electric\"         \"087-65-4321\"            42.0      23.0   \n",
       "4   Bumpkin            \"Fred\"         \"456-78-9012\"            43.0      78.0   \n",
       "\n",
       "    \"Test3\"   \"Test4\"   \"Final\"  \"Grade\"  \n",
       "0     100.0      83.0      49.0     \"D-\"  \n",
       "1      96.0      97.0      48.0     \"D+\"  \n",
       "2      60.0      40.0      44.0      \"C\"  \n",
       "3      36.0      45.0      47.0     \"B-\"  \n",
       "4      88.0      77.0      45.0     \"A-\"  "
      ]
     },
     "execution_count": 22,
     "metadata": {},
     "output_type": "execute_result"
    }
   ],
   "source": [
    "#cargar csv con libreria panda\n",
    "import pandas as pd\n",
    "\n",
    "df = pd.read_csv(r'/Users/okashi/Desktop/grades.csv', sep=\",\")\n",
    "#puedo ponerlo path = '/Users/okashi/Desktop/grades.csv'\n",
    "#df = pd.read_csv(path, sep=\",\")\n",
    "\n",
    "df.head()\n",
    "#por defecto los cinco primeros registros, si queremos por ejemplo los últimos df.tail()\n",
    "#poniendo solo df salen todos los registros"
   ]
  },
  {
   "cell_type": "code",
   "execution_count": 2,
   "id": "f9192281-8c32-4241-958e-d47c0f972643",
   "metadata": {},
   "outputs": [
    {
     "name": "stdout",
     "output_type": "stream",
     "text": [
      "['\"Last name\", \"First name\", \"SSN\",        \"Test1\", \"Test2\", \"Test3\", \"Test4\", \"Final\", \"Grade\"'\n",
      " '\"Alfalfa\",   \"Aloysius\",   \"123-45-6789\", 40.0,    90.0,   100.0,    83.0,    49.0,   \"D-\"'\n",
      " '\"Alfred\",    \"University\", \"123-12-1234\", 41.0,    97.0,    96.0,    97.0,    48.0,   \"D+\"'\n",
      " '\"Gerty\",     \"Gramma\",     \"567-89-0123\", 41.0,    80.0,    60.0,    40.0,    44.0,   \"C\"'\n",
      " '\"Android\",   \"Electric\",   \"087-65-4321\", 42.0,    23.0,    36.0,    45.0,    47.0,   \"B-\"'\n",
      " '\"Bumpkin\",   \"Fred\",       \"456-78-9012\", 43.0,    78.0,    88.0,    77.0,    45.0,   \"A-\"'\n",
      " '\"Rubble\",    \"Betty\",      \"234-56-7890\", 44.0,    90.0,    80.0,    90.0,    46.0,   \"C-\"'\n",
      " '\"Noshow\",    \"Cecil\",      \"345-67-8901\", 45.0,    11.0,    -1.0,     4.0,    43.0,   \"F\"'\n",
      " '\"Buff\",      \"Bif\",        \"632-79-9939\", 46.0,    20.0,    30.0,    40.0,    50.0,   \"B+\"'\n",
      " '\"Airpump\",   \"Andrew\",     \"223-45-6789\", 49.0      1.0,    90.0,   100.0,    83.0,   \"A\"'\n",
      " '\"Backus\",    \"Jim\",        \"143-12-1234\", 48.0,     1.0,    97.0,    96.0,    97.0,   \"A+\"'\n",
      " '\"Carnivore\", \"Art\",        \"565-89-0123\", 44.0,     1.0,    80.0,    60.0,    40.0,   \"D+\"'\n",
      " '\"Dandy\",     \"Jim\",        \"087-75-4321\", 47.0,     1.0,    23.0,    36.0,    45.0,   \"C+\"'\n",
      " '\"Elephant\",  \"Ima\",        \"456-71-9012\", 45.0,     1.0,    78.0,    88.0,    77.0,   \"B-\"'\n",
      " '\"Franklin\",  \"Benny\",      \"234-56-2890\", 50.0,     1.0,    90.0,    80.0,    90.0,   \"B-\"'\n",
      " '\"George\",    \"Boy\",        \"345-67-3901\", 40.0,     1.0,    11.0,    -1.0,     4.0,   \"B\"'\n",
      " '\"Heffalump\", \"Harvey\",     \"632-79-9439\", 30.0,     1.0,    20.0,    30.0,    40.0,   \"C\"']\n"
     ]
    }
   ],
   "source": [
    "import numpy as np\n",
    "path = '/Users/okashi/Desktop/grades.csv'\n",
    "\n",
    "#loadtxt()\n",
    "#gentfromtxt()\n",
    "\n",
    "file_csv = np.genfromtxt(path, delimiter=\";\", dtype=str, encoding=\"utf-8\")\n",
    "\n",
    "#unpack= True o = False nos cambia de filas a columnas y viceversa\n",
    "#dtype=str\n",
    "#dtype=float\n",
    "#skip_header=1 por donde se eempieza a leer\n",
    "#print(type(file_csv))\n",
    "#usecols para escoger parametros usecols(1,3)\n",
    "\n",
    "print(file_csv)"
   ]
  },
  {
   "cell_type": "code",
   "execution_count": 3,
   "id": "5ec27813-3de8-4811-aec1-3b638fd2cae4",
   "metadata": {},
   "outputs": [],
   "source": [
    "#CARGA DE FICHEROS DE JSON\n"
   ]
  },
  {
   "cell_type": "code",
   "execution_count": 3,
   "id": "ead55e16-95d6-436b-b7a2-a62a68495ad6",
   "metadata": {},
   "outputs": [
    {
     "name": "stdout",
     "output_type": "stream",
     "text": [
      "['apellido', 'porcentaje_de_poblacion_portadora', 'ranking']\n",
      "['GONZALEZ', '1.619', '1']\n",
      "['RODRIGUEZ', '1.288', '2']\n",
      "['GOMEZ', '1.192', '3']\n",
      "['FERNANDEZ', '1.079', '4']\n",
      "['LOPEZ', '1.077', '5']\n",
      "['MARTINEZ', '0.965', '6']\n",
      "['DIAZ', '0.946', '7']\n",
      "['PEREZ', '0.77', '8']\n",
      "['SANCHEZ', '0.746', '9']\n",
      "['ROMERO', '0.735', '10']\n",
      "['GARCIA', '0.721', '11']\n",
      "['SOSA', '0.529', '12']\n",
      "['BENITEZ', '0.488', '13']\n",
      "['RAMIREZ', '0.484', '14']\n",
      "['RUIZ', '0.48', '15']\n",
      "['TORRES', '0.48', '16']\n",
      "['FLORES', '0.467', '17']\n",
      "['ALVAREZ', '0.443', '18']\n",
      "['ACOSTA', '0.412', '19']\n",
      "['ROJAS', '0.402', '20']\n"
     ]
    }
   ],
   "source": [
    "\"\"\"Ejercicio 3.1.1.\n",
    "Dado el documento apellidos_mas_frecuentes_pais_Argentina.csv, muestra por pantalla todos sus registros utilizando la librería csv de Python\"\"\"\n",
    "\n",
    "import os\n",
    "import csv\n",
    "\n",
    "path = r'/Users/okashi/Desktop/apellidos_mas_frecuentes_pais_Argentina.csv'\n",
    "\n",
    "with open(path, \"r\") as file_csv:\n",
    "    reader = csv.reader(file_csv, delimiter=\",\")\n",
    "    \n",
    "    for file in reader:\n",
    "        print(file)\n",
    "       "
   ]
  },
  {
   "cell_type": "code",
   "execution_count": 9,
   "id": "3eeff7ce-7ff1-4c31-a026-804c191714ec",
   "metadata": {},
   "outputs": [
    {
     "name": "stdout",
     "output_type": "stream",
     "text": [
      "GONZALEZ\n",
      "RODRIGUEZ\n",
      "GOMEZ\n",
      "FERNANDEZ\n",
      "LOPEZ\n"
     ]
    }
   ],
   "source": [
    "\"\"\"Ejercicio 3.1.2.\n",
    "Con el archivo CSV anterior, crea una consulta en Python que devuelva aquellos apellidos cuyo porcentaje de población sea mayor del 1.0.\"\"\"\n",
    "\n",
    "import csv\n",
    "\n",
    "path = r'/Users/okashi/Desktop/apellidos_mas_frecuentes_pais_Argentina.csv'\n",
    "\n",
    "with open(path, \"r\") as file_csv:\n",
    "    reader = csv.reader(file_csv, delimiter=\",\")\n",
    "    next(reader, None)\n",
    "        \n",
    "    for row in reader:\n",
    "        if float(row[1]) > 1.0:\n",
    "            print(row[0])\n",
    "\n"
   ]
  },
  {
   "cell_type": "code",
   "execution_count": 15,
   "id": "db3252f9-d48a-4b9f-bbf3-1f87de4db073",
   "metadata": {},
   "outputs": [
    {
     "name": "stdout",
     "output_type": "stream",
     "text": [
      "[['apellido' 'GONZALEZ' 'RODRIGUEZ' 'GOMEZ' 'FERNANDEZ' 'LOPEZ'\n",
      "  'MARTINEZ' 'DIAZ' 'PEREZ' 'SANCHEZ' 'ROMERO' 'GARCIA' 'SOSA' 'BENITEZ'\n",
      "  'RAMIREZ' 'RUIZ' 'TORRES' 'FLORES' 'ALVAREZ' 'ACOSTA' 'ROJAS']\n",
      " ['porcentaje_de_poblacion_portadora' '1.619' '1.288' '1.192' '1.079'\n",
      "  '1.077' '0.965' '0.946' '0.77' '0.746' '0.735' '0.721' '0.529' '0.488'\n",
      "  '0.484' '0.48' '0.48' '0.467' '0.443' '0.412' '0.402']\n",
      " ['ranking' '1' '2' '3' '4' '5' '6' '7' '8' '9' '10' '11' '12' '13' '14'\n",
      "  '15' '16' '17' '18' '19' '20']]\n"
     ]
    }
   ],
   "source": [
    "\"\"\"Ejercicio 3.1.3.\n",
    "Utilizando el mismo archivo, léelo utilizando Numpy y devuelve los elementos agrupados por columnas\"\"\"\n",
    "\n",
    "import numpy as np\n",
    "path = r'/Users/okashi/Desktop/apellidos_mas_frecuentes_pais_Argentina.csv'\n",
    "\n",
    "file_csv = np.genfromtxt(path, delimiter=\",\", dtype=str, encoding=\"utf-8\", unpack=True)\n",
    "print(file_csv)"
   ]
  },
  {
   "cell_type": "code",
   "execution_count": 20,
   "id": "58c465fd-9999-4965-b801-81ffabcc4a3b",
   "metadata": {},
   "outputs": [
    {
     "name": "stdout",
     "output_type": "stream",
     "text": [
      "0.965\n"
     ]
    }
   ],
   "source": [
    "import numpy\n",
    "path = r'/Users/okashi/Desktop/apellidos_mas_frecuentes_pais_Argentina.csv'\n",
    "\n",
    "csv = numpy.genfromtxt(path, delimiter=\",\", dtype=str, encoding=\"utf-8\")\n",
    "\n",
    "print(csv[6][1])"
   ]
  },
  {
   "cell_type": "code",
   "execution_count": 23,
   "id": "edfcfc31-33d4-4828-933b-ca84b001d1d3",
   "metadata": {},
   "outputs": [
    {
     "name": "stdout",
     "output_type": "stream",
     "text": [
      "                                                  id           programa  \\\n",
      "0                               19 DE MAYO-10-241-01  Colonias_sin_WiFi   \n",
      "1      1A AMPLIACION SANTIAGO ACAHUALTEPEC-07-254-01  Colonias_sin_WiFi   \n",
      "2      1A AMPLIACION SANTIAGO ACAHUALTEPEC-07-254-02  Colonias_sin_WiFi   \n",
      "3              SAN LORENZO ACOPILCO (PBLO)-04-045-01  Colonias_sin_WiFi   \n",
      "4                              26 DE JULIO-10-244-01  Colonias_sin_WiFi   \n",
      "...                                              ...                ...   \n",
      "11988                        SAN ANDRES AHUAYUCAN_01            PILARES   \n",
      "11989                     SANTA CECILIA TEPETLAPA_01            PILARES   \n",
      "11990                     SANTIAGO TEPALCATLALPAN_01            PILARES   \n",
      "11991                                     TEPEPAN_01            PILARES   \n",
      "11992                         VALLE GÓMEZ (BOLEO)_01            PILARES   \n",
      "\n",
      "       fecha_instalacion    latitud   longitud  \\\n",
      "0                    NaN  19.362606 -99.252956   \n",
      "1                    NaN  19.352540 -99.010390   \n",
      "2                    NaN  19.351251 -99.009991   \n",
      "3                    NaN  19.331898 -99.325738   \n",
      "4                    NaN  19.357752 -99.251050   \n",
      "...                  ...        ...        ...   \n",
      "11988                NaN  19.224588 -99.108943   \n",
      "11989                NaN  19.216020 -99.099274   \n",
      "11990                NaN  19.247969 -99.127547   \n",
      "11991                NaN  19.280978 -99.137471   \n",
      "11992                NaN  19.457135 -99.124036   \n",
      "\n",
      "                                   colonia               alcaldia  \n",
      "0                               19 DE MAYO         Álvaro Obregón  \n",
      "1      1A AMPLIACION SANTIAGO ACAHUALTEPEC             Iztapalapa  \n",
      "2      1A AMPLIACION SANTIAGO ACAHUALTEPEC             Iztapalapa  \n",
      "3              SAN LORENZO ACOPILCO (PBLO)  Cuajimalpa de Morelos  \n",
      "4                              26 DE JULIO         Álvaro Obregón  \n",
      "...                                    ...                    ...  \n",
      "11988                 SAN ANDRES AHUAYUCAN             Xochimilco  \n",
      "11989              SANTA CECILIA TEPETLAPA             Xochimilco  \n",
      "11990         SANTIAGO TEPALCATLALPAN 2537             Xochimilco  \n",
      "11991                  SANTA MARIA TEPEPAN             Xochimilco  \n",
      "11992                          VALLE GOMEZ             Cuauhtémoc  \n",
      "\n",
      "[11993 rows x 7 columns]\n"
     ]
    }
   ],
   "source": [
    "\"\"\"Ejercicio 3.1.6.\n",
    "Dado el documento compartido en este foro por el tutor, puntos_de_acceso_wifi_Mexico.csv, muestra por pantalla todos sus registros utilizando la librería Pandas.\"\"\"\n",
    "\n",
    "import pandas as pd\n",
    "\n",
    "df = pd.read_csv(r'/Users/okashi/Desktop/puntos_de_acceso_wifi_Mexico.csv', sep=\",\")\n",
    "\n",
    "df"
   ]
  },
  {
   "cell_type": "code",
   "execution_count": 89,
   "id": "19d20b97-6782-446b-a50c-a55e435e77dc",
   "metadata": {},
   "outputs": [
    {
     "name": "stdout",
     "output_type": "stream",
     "text": [
      "[['\\ufeffid' 'programa' 'fecha_instalacion' ... 'longitud' 'colonia'\n",
      "  'alcaldia']\n",
      " ['19 DE MAYO-10-241-01' 'Colonias_sin_WiFi' '' ... '-99.25295626'\n",
      "  '19 DE MAYO' 'Álvaro Obregón']\n",
      " ['1A AMPLIACION SANTIAGO ACAHUALTEPEC-07-254-01' 'Colonias_sin_WiFi' ''\n",
      "  ... '-99.01039' '1A AMPLIACION SANTIAGO ACAHUALTEPEC' 'Iztapalapa']\n",
      " ...\n",
      " ['SANTIAGO TEPALCATLALPAN_01' 'PILARES' '' ... '-99.127547'\n",
      "  'SANTIAGO TEPALCATLALPAN 2537' 'Xochimilco']\n",
      " ['TEPEPAN_01' 'PILARES' '' ... '-99.137471' 'SANTA MARIA TEPEPAN'\n",
      "  'Xochimilco']\n",
      " ['VALLE GÓMEZ (BOLEO)_01' 'PILARES' '' ... '-99.124036' 'VALLE GOMEZ'\n",
      "  'Cuauhtémoc']]\n"
     ]
    }
   ],
   "source": [
    "\"\"\"Ejercicio 3.1.7.\n",
    "Si el archivo anterior, puntos_de_acceso_wifi_Mexico.csv, intentáis cargarlo con Numpy, ¿qué os muestra por pantalla?\"\"\"\n",
    "\n",
    "import numpy as np\n",
    "path = r'/Users/okashi/Desktop/puntos_de_acceso_wifi_Mexico.csv'\n",
    "\n",
    "file_csv = np.genfromtxt(path, delimiter=\",\", dtype=str, encoding=\"utf-8\")\n",
    "print(file_csv)\n"
   ]
  },
  {
   "cell_type": "code",
   "execution_count": 26,
   "id": "2580a2c6-8a7e-44a7-a117-f5d10e1e5441",
   "metadata": {},
   "outputs": [
    {
     "name": "stdout",
     "output_type": "stream",
     "text": [
      "[['\\ufeffid' '19 DE MAYO-10-241-01'\n",
      "  '1A AMPLIACION SANTIAGO ACAHUALTEPEC-07-254-01' ...\n",
      "  'SANTIAGO TEPALCATLALPAN_01' 'TEPEPAN_01' 'VALLE GÓMEZ (BOLEO)_01']\n",
      " ['programa' 'Colonias_sin_WiFi' 'Colonias_sin_WiFi' ... 'PILARES'\n",
      "  'PILARES' 'PILARES']\n",
      " ['fecha_instalacion' '' '' ... '' '' '']\n",
      " ...\n",
      " ['longitud' '-99.25295626' '-99.01039' ... '-99.127547' '-99.137471'\n",
      "  '-99.124036']\n",
      " ['colonia' '19 DE MAYO' '1A AMPLIACION SANTIAGO ACAHUALTEPEC' ...\n",
      "  'SANTIAGO TEPALCATLALPAN 2537' 'SANTA MARIA TEPEPAN' 'VALLE GOMEZ']\n",
      " ['alcaldia' 'Álvaro Obregón' 'Iztapalapa' ... 'Xochimilco' 'Xochimilco'\n",
      "  'Cuauhtémoc']]\n"
     ]
    }
   ],
   "source": [
    "import numpy as np\n",
    "path = r'/Users/okashi/Desktop/puntos_de_acceso_wifi_Mexico.csv'\n",
    "\n",
    "file_csv = np.genfromtxt(path, delimiter=\",\", dtype=str, encoding=\"utf-8\", unpack=True)\n",
    "print(file_csv)"
   ]
  },
  {
   "cell_type": "code",
   "execution_count": 28,
   "id": "4900f3fd-98d5-474f-a9f2-2a92f6d0fc1c",
   "metadata": {},
   "outputs": [
    {
     "name": "stdout",
     "output_type": "stream",
     "text": [
      "0               Álvaro Obregón\n",
      "1                   Iztapalapa\n",
      "2                   Iztapalapa\n",
      "3        Cuajimalpa de Morelos\n",
      "4               Álvaro Obregón\n",
      "                 ...          \n",
      "11988               Xochimilco\n",
      "11989               Xochimilco\n",
      "11990               Xochimilco\n",
      "11991               Xochimilco\n",
      "11992               Cuauhtémoc\n",
      "Name: alcaldia, Length: 11993, dtype: object\n"
     ]
    }
   ],
   "source": [
    "\"\"\"Ejercicio 3.1.9.\n",
    "Número de respuestas: 1\n",
    "Con el archivo anterior, ¿qué consulta tendríamos que realizar para obtener elnombre de las alcaldías que aparecen en el documento?\"\"\"\n",
    "\n",
    "import pandas as pd\n",
    "\n",
    "df = pd.read_csv(r'/Users/okashi/Desktop/puntos_de_acceso_wifi_Mexico.csv', sep=\",\")\n",
    "columna_alcaldias = df['alcaldia']\n",
    "\n",
    "print(columna_alcaldias)\n",
    "\n",
    "#alcaldias = df['alcaldia].unique().tolist() para sacar registros que no se repitan\n",
    "for row in columna_alcaldias:\n",
    "    print(row)"
   ]
  },
  {
   "cell_type": "code",
   "execution_count": null,
   "id": "2b0dceda-8d17-42a3-93a5-ea1b5bb35077",
   "metadata": {},
   "outputs": [],
   "source": [
    "#segunda opcion\n",
    "import numpy as np\n",
    "path = r'/Users/okashi/Desktop/puntos_de_acceso_wifi_Mexico.csv'\n",
    "i=0\n",
    "file_csv = np.genfromtxt(path, delimiter=\",\", dtype=str, encoding=\"utf-8\")\n",
    "\n",
    "for row in file_csv:\n",
    "    i+=1\n",
    "    print(row[6])\n",
    "    \n"
   ]
  },
  {
   "cell_type": "code",
   "execution_count": null,
   "id": "fb8545d6-6edf-4ad7-9a51-cb300f1f52fe",
   "metadata": {},
   "outputs": [],
   "source": [
    "import json\n",
    "\n",
    "path = r'/Users/okashi/Desktop/Catálogo de información pública.json'\n",
    "\n",
    "file = open(path, \"r\", encoding = \"utf-8\")\n",
    "archivojson = json.loads(file.read())\n",
    "\n",
    "print(archivojson)\n",
    "file.close()"
   ]
  },
  {
   "cell_type": "code",
   "execution_count": 49,
   "id": "bef6d837-e2b7-4126-939b-56b9698bbe7e",
   "metadata": {},
   "outputs": [
    {
     "name": "stdout",
     "output_type": "stream",
     "text": [
      "[['\\ufeffID_Encuestado' '12201357895' '12201561091' ... '12299170839'\n",
      "  '12299323457' '12301867757']\n",
      " ['Servicio' '3' '3' ... '1' '1' '1']\n",
      " ['Estamento' '3' '3' ... '1' '1' '1']\n",
      " ...\n",
      " ['P39_2_REC' '3' '3' ... '3' '3' '3']\n",
      " ['P39_3_REC' '3' '3' ... '3' '3' '3']\n",
      " ['P39_4_REC' '3' '3' ... '3' '3' '3']]\n"
     ]
    }
   ],
   "source": [
    "import urllib.request\n",
    "import numpy as np\n",
    "import io\n",
    "\n",
    "path = urllib.request.urlopen(\"https://www.consejotransparencia.cl/transparencia_activa/datoabierto/archivosFiscalizacion/BBDD_Funcionarios_Publicos_2020.csv\")\n",
    "\n",
    "datos = np.genfromtxt(io.BytesIO(path.read()),delimiter = \";\", dtype = str, encoding = \"utf-8\", unpack = True)\n",
    "\n",
    "print(datos)"
   ]
  },
  {
   "cell_type": "code",
   "execution_count": 67,
   "id": "f329e228-2427-49a3-a1d9-7a5b6531ee92",
   "metadata": {},
   "outputs": [
    {
     "name": "stdout",
     "output_type": "stream",
     "text": [
      "[['12201357895' '1' '2']\n",
      " ['12201561091' '1' '2']\n",
      " ['12202459556' '1' '4']\n",
      " ...\n",
      " ['12299170839' '5' '3']\n",
      " ['12299323457' '6' '4']\n",
      " ['12301867757' '5' '3']]\n"
     ]
    }
   ],
   "source": [
    "\"\"\"Ejercicio 3.1.12.\n",
    "Del mismo CSV anterior, muestra solo las columnas ID_Encuestado, P1_1 y P2_4.\"\"\"\n",
    "\n",
    "import urllib.request\n",
    "import numpy as np\n",
    "import io\n",
    "\n",
    "path = urllib.request.urlopen(\"https://www.consejotransparencia.cl/transparencia_activa/datoabierto/archivosFiscalizacion/BBDD_Funcionarios_Publicos_2020.csv\")\n",
    "\n",
    "datos = np.genfromtxt(io.TextIOWrapper(path), delimiter=\";\", dtype=str, encoding=\"utf-8\", skip_header=1, usecols=(0, 5, 12))\n",
    "\n",
    "columnas = datos[:, [0, 1, 2]]  # Seleccionar las columnas ID_Encuestado, P1_1 y P2_4\n",
    "\n",
    "print(columnas)\n",
    "\n"
   ]
  },
  {
   "cell_type": "code",
   "execution_count": 88,
   "id": "0a44449f-5c32-4b36-bc3a-44c2f64c5f9b",
   "metadata": {},
   "outputs": [
    {
     "data": {
      "text/html": [
       "<div>\n",
       "<style scoped>\n",
       "    .dataframe tbody tr th:only-of-type {\n",
       "        vertical-align: middle;\n",
       "    }\n",
       "\n",
       "    .dataframe tbody tr th {\n",
       "        vertical-align: top;\n",
       "    }\n",
       "\n",
       "    .dataframe thead th {\n",
       "        text-align: right;\n",
       "    }\n",
       "</style>\n",
       "<table border=\"1\" class=\"dataframe\">\n",
       "  <thead>\n",
       "    <tr style=\"text-align: right;\">\n",
       "      <th></th>\n",
       "      <th>ID_Encuestado</th>\n",
       "      <th>P1_1</th>\n",
       "      <th>P2_4</th>\n",
       "    </tr>\n",
       "  </thead>\n",
       "  <tbody>\n",
       "    <tr>\n",
       "      <th>0</th>\n",
       "      <td>12201357895</td>\n",
       "      <td>1</td>\n",
       "      <td>2</td>\n",
       "    </tr>\n",
       "    <tr>\n",
       "      <th>1</th>\n",
       "      <td>12201561091</td>\n",
       "      <td>1</td>\n",
       "      <td>2</td>\n",
       "    </tr>\n",
       "    <tr>\n",
       "      <th>2</th>\n",
       "      <td>12202459556</td>\n",
       "      <td>1</td>\n",
       "      <td>4</td>\n",
       "    </tr>\n",
       "    <tr>\n",
       "      <th>3</th>\n",
       "      <td>12204349315</td>\n",
       "      <td>5</td>\n",
       "      <td>2</td>\n",
       "    </tr>\n",
       "    <tr>\n",
       "      <th>4</th>\n",
       "      <td>12207178271</td>\n",
       "      <td>1</td>\n",
       "      <td>2</td>\n",
       "    </tr>\n",
       "    <tr>\n",
       "      <th>...</th>\n",
       "      <td>...</td>\n",
       "      <td>...</td>\n",
       "      <td>...</td>\n",
       "    </tr>\n",
       "    <tr>\n",
       "      <th>2240</th>\n",
       "      <td>12289876115</td>\n",
       "      <td>2</td>\n",
       "      <td>4</td>\n",
       "    </tr>\n",
       "    <tr>\n",
       "      <th>2241</th>\n",
       "      <td>12291073965</td>\n",
       "      <td>8</td>\n",
       "      <td>8</td>\n",
       "    </tr>\n",
       "    <tr>\n",
       "      <th>2242</th>\n",
       "      <td>12299170839</td>\n",
       "      <td>5</td>\n",
       "      <td>3</td>\n",
       "    </tr>\n",
       "    <tr>\n",
       "      <th>2243</th>\n",
       "      <td>12299323457</td>\n",
       "      <td>6</td>\n",
       "      <td>4</td>\n",
       "    </tr>\n",
       "    <tr>\n",
       "      <th>2244</th>\n",
       "      <td>12301867757</td>\n",
       "      <td>5</td>\n",
       "      <td>3</td>\n",
       "    </tr>\n",
       "  </tbody>\n",
       "</table>\n",
       "<p>2245 rows × 3 columns</p>\n",
       "</div>"
      ],
      "text/plain": [
       "      ID_Encuestado  P1_1  P2_4\n",
       "0       12201357895     1     2\n",
       "1       12201561091     1     2\n",
       "2       12202459556     1     4\n",
       "3       12204349315     5     2\n",
       "4       12207178271     1     2\n",
       "...             ...   ...   ...\n",
       "2240    12289876115     2     4\n",
       "2241    12291073965     8     8\n",
       "2242    12299170839     5     3\n",
       "2243    12299323457     6     4\n",
       "2244    12301867757     5     3\n",
       "\n",
       "[2245 rows x 3 columns]"
      ]
     },
     "execution_count": 88,
     "metadata": {},
     "output_type": "execute_result"
    }
   ],
   "source": [
    "import pandas as pd\n",
    "\n",
    "url = \"https://www.consejotransparencia.cl/transparencia_activa/datoabierto/archivosFiscalizacion/BBDD_Funcionarios_Publicos_2020.csv\"\n",
    "df = pd.read_csv(url, delimiter=\";\", usecols=[\"ID_Encuestado\", \"P1_1\", \"P2_4\"])\n",
    "\n",
    "df\n"
   ]
  },
  {
   "cell_type": "code",
   "execution_count": 95,
   "id": "9706ddcd-9998-4ae9-b0d4-419b0aee8e92",
   "metadata": {},
   "outputs": [
    {
     "data": {
      "text/plain": [
       "1"
      ]
     },
     "execution_count": 95,
     "metadata": {},
     "output_type": "execute_result"
    }
   ],
   "source": [
    "\"\"\"Ejercicio 3.1.13.\n",
    "Utilizando el CSV anterior, muestra por pantalla el valor que tiene el elemento situado en la fila 319 de la columna P7_4. ¿Cuál es dicho valor?\"\"\"\n",
    "\n",
    "import pandas as pd\n",
    "\n",
    "url = \"https://www.consejotransparencia.cl/transparencia_activa/datoabierto/archivosFiscalizacion/BBDD_Funcionarios_Publicos_2020.csv\"\n",
    "df = pd.read_csv(url, sep=\";\")\n",
    "\n",
    "df.loc[320,\"P7_4\"]\n",
    "\n"
   ]
  },
  {
   "cell_type": "code",
   "execution_count": 84,
   "id": "64af8869-109d-43ad-b493-4dc06e0ac144",
   "metadata": {},
   "outputs": [],
   "source": [
    "\n",
    "import urllib.request\n",
    "import numpy as np\n",
    "import io\n",
    "\n",
    "\n",
    "path = urllib.request.urlopen(\"https://www.consejotransparencia.cl/transparencia_activa/datoabierto/archivosFiscalizacion/BBDD_Funcionarios_Publicos_2020.csv\")\n",
    "\n",
    "dw = path.read\n",
    "path_file = open(r'/Users/okashi/Desktop/Funcionarios_Chile.csv', 'wb')\n",
    "\n",
    "path_file.write(dw)\n",
    "\n",
    "path_file.close()"
   ]
  },
  {
   "cell_type": "code",
   "execution_count": null,
   "id": "042f232d-17dd-4625-8d18-e7bedbf731e6",
   "metadata": {},
   "outputs": [],
   "source": []
  }
 ],
 "metadata": {
  "kernelspec": {
   "display_name": "Python 3 (ipykernel)",
   "language": "python",
   "name": "python3"
  },
  "language_info": {
   "codemirror_mode": {
    "name": "ipython",
    "version": 3
   },
   "file_extension": ".py",
   "mimetype": "text/x-python",
   "name": "python",
   "nbconvert_exporter": "python",
   "pygments_lexer": "ipython3",
   "version": "3.9.13"
  }
 },
 "nbformat": 4,
 "nbformat_minor": 5
}
