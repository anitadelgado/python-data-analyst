{
 "cells": [
  {
   "cell_type": "code",
   "execution_count": 20,
   "id": "ad355f10-17dd-495a-9c30-61aab8e8e060",
   "metadata": {},
   "outputs": [
    {
     "name": "stdout",
     "output_type": "stream",
     "text": [
      "[1]\n",
      "[1, 2]\n",
      "[1, 2, 3]\n",
      "[1, 2, 3, 4]\n",
      "[1, 2, 3, 4, 5]\n"
     ]
    }
   ],
   "source": [
    "mi_lista = [1, 2, 2, 3, 4, 4, 5]\n",
    "lista_sin_duplicados = []\n",
    "for num in mi_lista:\n",
    "    if num not in lista_sin_duplicados:\n",
    "        lista_sin_duplicados.append(num)\n",
    "        print(lista_sin_duplicados)"
   ]
  },
  {
   "cell_type": "code",
   "execution_count": null,
   "id": "a135021a-2caa-41a3-b68a-554290cb3ede",
   "metadata": {},
   "outputs": [],
   "source": [
    "#Calcular la media, el máximo y el mínimo de la siguiente lista de números sin utilizar funciones. numeros=[3,2,5,3,8,4]"
   ]
  },
  {
   "cell_type": "code",
   "execution_count": 32,
   "id": "71d224ea-4e3c-479f-982b-452905da5191",
   "metadata": {},
   "outputs": [
    {
     "ename": "SyntaxError",
     "evalue": "invalid non-printable character U+00A0 (3072136784.py, line 6)",
     "output_type": "error",
     "traceback": [
      "\u001b[0;36m  File \u001b[0;32m\"/var/folders/qw/r4hkkmyj7knfqf0fy47bgcww0000gn/T/ipykernel_3526/3072136784.py\"\u001b[0;36m, line \u001b[0;32m6\u001b[0m\n\u001b[0;31m    cuantos += 1\u001b[0m\n\u001b[0m    ^\u001b[0m\n\u001b[0;31mSyntaxError\u001b[0m\u001b[0;31m:\u001b[0m invalid non-printable character U+00A0\n"
     ]
    }
   ],
   "source": [
    "numeros=[3,2,5,3,8,4]\n",
    "cuantos = 0\n",
    "total = 0\n",
    "for i in numeros:\n",
    "    total += i\n",
    "    cuantos += 1  \n",
    "    media = total / cuantos\n",
    "print(media)"
   ]
  },
  {
   "cell_type": "code",
   "execution_count": 44,
   "id": "606ca8e4-481d-4a63-b744-6f578381d289",
   "metadata": {},
   "outputs": [
    {
     "ename": "SyntaxError",
     "evalue": "invalid non-printable character U+00A0 (3368127183.py, line 5)",
     "output_type": "error",
     "traceback": [
      "\u001b[0;36m  File \u001b[0;32m\"/var/folders/qw/r4hkkmyj7knfqf0fy47bgcww0000gn/T/ipykernel_3526/3368127183.py\"\u001b[0;36m, line \u001b[0;32m5\u001b[0m\n\u001b[0;31m    minimo = numeros[0]\u001b[0m\n\u001b[0m                       ^\u001b[0m\n\u001b[0;31mSyntaxError\u001b[0m\u001b[0;31m:\u001b[0m invalid non-printable character U+00A0\n"
     ]
    }
   ],
   "source": [
    "numeros = [3,2,5,3,8,4]\n",
    "sumatoria = 0\n",
    "\n",
    "maximo = numeros[0]\n",
    "minimo = numeros[0] \n",
    "\n",
    "for numero in numeros:\n",
    "        if numero > maximo:\n",
    "        nro_maximo = numero\n",
    "        if numero < minimo:\n",
    "        nro_minimo = numero # media = sum(numeros) / len(numeros)        \n",
    "# print(media) for num in numeros:\n",
    "    sumatoria += num media = sumatoria / len(numeros)\n",
    "print(media)\n",
    "print(maximo)\n",
    "print(minimo)"
   ]
  },
  {
   "cell_type": "code",
   "execution_count": null,
   "id": "fc7b9d89-8bba-42ad-a59d-e0ce4e3f23b0",
   "metadata": {},
   "outputs": [],
   "source": []
  }
 ],
 "metadata": {
  "kernelspec": {
   "display_name": "Python 3 (ipykernel)",
   "language": "python",
   "name": "python3"
  },
  "language_info": {
   "codemirror_mode": {
    "name": "ipython",
    "version": 3
   },
   "file_extension": ".py",
   "mimetype": "text/x-python",
   "name": "python",
   "nbconvert_exporter": "python",
   "pygments_lexer": "ipython3",
   "version": "3.9.13"
  }
 },
 "nbformat": 4,
 "nbformat_minor": 5
}
