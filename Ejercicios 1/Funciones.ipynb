{
 "cells": [
  {
   "cell_type": "markdown",
   "id": "1a7f46c2-76a1-4b1c-89ee-465e38b18f51",
   "metadata": {},
   "source": [
    "Solicitar al usuario que ingrese su dirección email. Imprimir un mensaje indicando si la dirección es válida o no, valiéndose de una función para decidirlo. Una dirección de email se considerará válida si contiene el símbolo \"@\" y además incorpora un punto para separarlo del dominio."
   ]
  },
  {
   "cell_type": "code",
   "execution_count": 3,
   "id": "ca5b8c9a-0876-461f-90b7-de548d462d5e",
   "metadata": {},
   "outputs": [
    {
     "name": "stdin",
     "output_type": "stream",
     "text": [
      "Ingrese su e-mail ana@hotmail\n"
     ]
    },
    {
     "name": "stdout",
     "output_type": "stream",
     "text": [
      "Direccion invalida\n"
     ]
    }
   ],
   "source": [
    "mail = input('Ingrese su e-mail')\n",
    " \n",
    "def email(mail):\n",
    "    if '@' and \".com\" in mail:\n",
    "        print('direccion valida')\n",
    "    \n",
    "    else:\n",
    "        print('Direccion invalida')\n",
    " \n",
    "email(mail)"
   ]
  },
  {
   "cell_type": "code",
   "execution_count": 6,
   "id": "99eaa202-ed94-4693-9c08-8c9d8f826241",
   "metadata": {},
   "outputs": [
    {
     "name": "stdin",
     "output_type": "stream",
     "text": [
      "Ingrese su dirección: ana@.\n"
     ]
    },
    {
     "name": "stdout",
     "output_type": "stream",
     "text": [
      "Sus dirección de email es: ana@.\n"
     ]
    },
    {
     "data": {
      "text/plain": [
       "True"
      ]
     },
     "execution_count": 6,
     "metadata": {},
     "output_type": "execute_result"
    }
   ],
   "source": [
    "def pedir_datos(direccion):\n",
    "    if \"@\" in direccion and \".\" in direccion.split(\"@\")[1]:\n",
    "        print(f'Sus dirección de email es: {direccion}')\n",
    "        return True\n",
    "    else:\n",
    "        return False\n",
    " \n",
    "direccion_usuario = input('Ingrese su dirección:')\n",
    "pedir_datos(direccion_usuario)"
   ]
  },
  {
   "cell_type": "markdown",
   "id": "75c26e87-0d98-4f61-986f-60c3513621ea",
   "metadata": {},
   "source": [
    "Escribe una función que reciba por parámetro 2 listas y que devuelva un booleano. La función devolverá TRUE si todos los elementos de la lista son de tipo entero. FALSE en caso contrario. Recuerda que tienes que hacer el ejercicio con y sin return"
   ]
  },
  {
   "cell_type": "code",
   "execution_count": 16,
   "id": "a3069406-529b-438d-b86c-9aee3f587d3f",
   "metadata": {},
   "outputs": [
    {
     "name": "stdout",
     "output_type": "stream",
     "text": [
      "Estoy en la Escuela de Talento Digital\n"
     ]
    }
   ],
   "source": [
    "#Ejercicio 1.7.1.\n",
    "#Crea una función que se llame escribir y que imprima por pantalla el texto “Estoy en la Escuela de Talento Digital”.\n",
    "\n",
    "def presentacion():\n",
    "    print(\"Estoy en la Escuela de Talento Digital\")\n",
    "presentacion()"
   ]
  },
  {
   "cell_type": "code",
   "execution_count": 20,
   "id": "45082a09-6eae-4190-b519-0d4e1759789e",
   "metadata": {},
   "outputs": [
    {
     "name": "stdout",
     "output_type": "stream",
     "text": [
      "Ana está en la Escuela de Talento Digital\n",
      "Nahuel está en la Escuela de Talento Digital\n",
      "Amanda está en la Escuela de Talento Digital\n"
     ]
    }
   ],
   "source": [
    "#Ejercicio 1.7.2.\n",
    "#Crea una función a la que le pases como parámetro un nombre e imprima por pantalla “nombre está en la Escuela de Talento Digital”.\n",
    "#Pruébala con dos o tres nombres diferentes y comparte el resultado en este foro.\n",
    "\n",
    "def presentacion(nombre):\n",
    "    print (nombre, \"está en la Escuela de Talento Digital\")\n",
    "\n",
    "presentacion(\"Ana\")\n",
    "presentacion(\"Nahuel\")\n",
    "presentacion(\"Amanda\")\n"
   ]
  },
  {
   "cell_type": "code",
   "execution_count": 34,
   "id": "aa83f141-a522-4804-b5f3-dfa682eb8b3d",
   "metadata": {},
   "outputs": [
    {
     "name": "stdout",
     "output_type": "stream",
     "text": [
      "9\n",
      "30\n",
      "63\n"
     ]
    }
   ],
   "source": [
    "#Ejercicio 1.7.3.\n",
    "#Crea una función a la que le pases como parámetro una cifra e imprima en pantalla el valor de esa cifra multiplicado por tres.\n",
    "#Prueba la función con dos tres cifras\n",
    "\n",
    "def multiplicacion(n1):\n",
    "    print(n1*3)\n",
    "multiplicacion (3)\n",
    "multiplicacion (10)\n",
    "multiplicacion (21)\n"
   ]
  },
  {
   "cell_type": "code",
   "execution_count": 38,
   "id": "1c519373-4e50-4358-bbbc-c5c7af675d04",
   "metadata": {},
   "outputs": [
    {
     "name": "stdout",
     "output_type": "stream",
     "text": [
      "0\n",
      "3\n",
      "6\n",
      "9\n",
      "12\n",
      "15\n",
      "18\n",
      "21\n",
      "24\n",
      "27\n",
      "30\n"
     ]
    }
   ],
   "source": [
    "#Ejercicio 1.7.4.\n",
    "#Utilizando la función que has creado en el ejercicio 1.7.3., muestra por pantalla la tabla de multiplicar del 3. \n",
    "\n",
    "def tabla(num):\n",
    "    for i in range (0,11):\n",
    "        num2 = num*i\n",
    "        print(num2)\n",
    "tabla(3)\n",
    "\n"
   ]
  },
  {
   "cell_type": "code",
   "execution_count": 39,
   "id": "a03dac56-35e1-488b-8a44-c3ab10466bd7",
   "metadata": {},
   "outputs": [
    {
     "name": "stdout",
     "output_type": "stream",
     "text": [
      "3\n",
      "10\n",
      "30\n"
     ]
    }
   ],
   "source": [
    "#Ejercicio 1.7.5.\n",
    "#Crea una función a la que le pases dos números e imprima por pantalla la suma de ambos.\n",
    "\n",
    "def suma(a,b):\n",
    "    print(a+b)\n",
    "suma(1,2)\n",
    "suma(7,3)\n",
    "suma(10,20)"
   ]
  },
  {
   "cell_type": "code",
   "execution_count": 44,
   "id": "ea6e598e-d570-4128-b4a0-be09e80850e5",
   "metadata": {},
   "outputs": [
    {
     "name": "stdout",
     "output_type": "stream",
     "text": [
      "El 7 es impar\n",
      "El 8 es par\n",
      "El 457 es impar\n"
     ]
    }
   ],
   "source": [
    "#Ejercicio 1.7.6.\n",
    "#rea una función con un parámetro que muestre por pantalla “El número es par” \n",
    "#si el parámetro introducido es par y que muestre “El número es impar” si el parámetro es impar.\n",
    "\n",
    "def parimpar (num):\n",
    "    if num%2 == 0:\n",
    "        print(\"El\", num, \"es par\")\n",
    "    else:\n",
    "        print(\"El\", num, \"es impar\")\n",
    "\n",
    "parimpar(7)\n",
    "parimpar(8)\n",
    "parimpar(457)\n",
    "\n"
   ]
  },
  {
   "cell_type": "code",
   "execution_count": 57,
   "id": "bfc21610-0a24-40ce-86fa-50f5f02c995f",
   "metadata": {},
   "outputs": [
    {
     "name": "stdout",
     "output_type": "stream",
     "text": [
      "120\n",
      "6227020800\n",
      "265252859812191058636308480000000\n"
     ]
    }
   ],
   "source": [
    "#Ejercicio 1.7.7.\n",
    "#Crea una función que reciba un número y muestre por pantalla su factorial.\n",
    "#Prueba con dos o tres números diferentes y comparte el resultado en este foro.\n",
    "\n",
    "def factorial(n):\n",
    "    result = 1\n",
    "    for i in range(1, n+1):\n",
    "        result *= i\n",
    "    print(result)\n",
    "factorial (5)\n",
    "factorial (13)\n",
    "factorial (30)"
   ]
  },
  {
   "cell_type": "code",
   "execution_count": 76,
   "id": "2694300c-4ad2-481b-be9a-6ad84fab9ae7",
   "metadata": {},
   "outputs": [
    {
     "name": "stdout",
     "output_type": "stream",
     "text": [
      "11.0\n"
     ]
    }
   ],
   "source": [
    "#Ejercicio 1.7.8.\n",
    "#Crea una función que calcule la media de los números que pasemos como parámetros y la muestre por pantalla. \n",
    "#Ten en cuenta que podemos pasarle dos números como podemos pasarle diez, no lo tenemos definido en un principio.\n",
    "\n",
    "def media (*numeros):\n",
    "    suma = sum(numeros)\n",
    "    totaln = len(numeros)\n",
    "    mediacalc = suma/totaln\n",
    "    print (mediacalc)\n",
    "\n",
    "    media(3,9,21)"
   ]
  },
  {
   "cell_type": "code",
   "execution_count": 77,
   "id": "9037e25a-8913-4966-ae27-7071b49c601e",
   "metadata": {},
   "outputs": [
    {
     "name": "stdout",
     "output_type": "stream",
     "text": [
      "11.0\n"
     ]
    }
   ],
   "source": [
    "def media(*numeros):\n",
    "    cantidad = len(numeros)\n",
    "    suma = 0\n",
    "    for num in numeros:\n",
    "        suma += num\n",
    "    mediacalc = suma / cantidad\n",
    "    print (mediacalc)\n",
    "\n",
    "media (3,9,21)"
   ]
  },
  {
   "cell_type": "code",
   "execution_count": 149,
   "id": "e78b3c38-c4d0-434d-abfd-473d95dfc206",
   "metadata": {},
   "outputs": [
    {
     "name": "stdout",
     "output_type": "stream",
     "text": [
      "1 2 3 4 5 6 7 8 \n",
      "28 29 30 31 32 \n"
     ]
    }
   ],
   "source": [
    "#Ejercicio 1.7.9.\n",
    "#Crea una función que dados dos números muestre por pantalla todos los números que hay entre ellos, incluidos ambos.\n",
    "\n",
    "def numeros(a,b):\n",
    "    if a<b:\n",
    "        for i in range (a,b+1):\n",
    "            print (i, end=\" \")\n",
    "    print()\n",
    "numeros(1, 8)\n",
    "numeros(28,32)"
   ]
  },
  {
   "cell_type": "code",
   "execution_count": 153,
   "id": "e19ea484-fe4b-4e53-ace4-1829ff7e4904",
   "metadata": {},
   "outputs": [
    {
     "name": "stdout",
     "output_type": "stream",
     "text": [
      "El máximo es 56:siendo 56 el mayor de los números\n",
      "El mínimo es 18:siendo 18 el menor de los números\n",
      "El máximo es 103:siendo 103 el mayor de los números\n",
      "El mínimo es 1:siendo 1 el menor de los números\n"
     ]
    }
   ],
   "source": [
    "#Ejercicio 1.7.10.\n",
    "#Crea una función que dados una serie de números identifique el máximo y el mínimo y \n",
    "#muestre por pantalla “El máximo es: x”, siendo x el mayor de los números, y “El mínimo es: y”, siendo y el menor de los números.\n",
    "\n",
    "def max_min(*numeros):\n",
    "    maximo = max(numeros)\n",
    "    minimo = min(numeros)\n",
    "    print(f\"El máximo es {maximo}:siendo {maximo} el mayor de los números\")\n",
    "    print(f\"El mínimo es {minimo}:siendo {minimo} el menor de los números\")\n",
    "\n",
    "max_min (18,23,56)\n",
    "max_min (1,103,23)"
   ]
  },
  {
   "cell_type": "code",
   "execution_count": 155,
   "id": "7df2aa0b-1eee-4e2d-818b-eb314901f2e3",
   "metadata": {},
   "outputs": [
    {
     "name": "stdout",
     "output_type": "stream",
     "text": [
      "19\n",
      "10\n"
     ]
    }
   ],
   "source": [
    "#Ejercicio 1.7.11.\n",
    "#Crea una función a la que se introduzca un texto como parámetro \n",
    "#muestre por pantalla el número de caracteres que tiene ese texto.\n",
    "\n",
    "def cuantoscaracteres (texto): \n",
    "    caracteres = len(texto)\n",
    "    print(caracteres)\n",
    "    \n",
    "cuantoscaracteres (\"Buenos dias a todos\")\n",
    "cuantoscaracteres (\"Vacaciones\")"
   ]
  },
  {
   "cell_type": "code",
   "execution_count": 1,
   "id": "3b4e062f-1a0e-4d12-8ad4-497826d1adc1",
   "metadata": {},
   "outputs": [
    {
     "name": "stdin",
     "output_type": "stream",
     "text": [
      "Elige 1 para convertir segundos en horas, minutos y segundos, o elige 2 para convertir horas, minutos y segundos en segundos: 1\n",
      "Introduce segundos: 578678\n"
     ]
    },
    {
     "name": "stdout",
     "output_type": "stream",
     "text": [
      "160 horas, 44 minutos, 38 segundos\n"
     ]
    }
   ],
   "source": [
    "#Ejercicio 1.7.12\n",
    "#Crea un programa que te de la opción de cambiar horas, minutos y segundos a segundos o segundos a horas, minutos y segundos. Para ello sigue los siguientes pasos:\n",
    "\n",
    "#Crea una función a la que le introduzcas tres parámetros (horas, minutos, segundos) y que calcule a cuántos segundos equivalen, \n",
    "#imprime resultado\n",
    "#Crea una función a la que le introduzcas un parámetro (segundos) y muestre por pantalla a cuantas horas, minutos y segundos corresponderían a esos segundos.\n",
    "#Crea un programa que te muestre dos opciones:\n",
    "                    #(1) Convertir a segundos\n",
    "\n",
    "                    #(2) Convertir a horas, minutos y segundos\n",
    "\n",
    "#Si elige la opción 1, se le pedirán las horas, minutos y segundos que quiere transformar en segundos y se usará la primera función para mostrar por pantalla el número de segundos correspondiente.\n",
    "#Si elige la opción 2, se le pedirán los segundos, se convertirán en horas, minutos y segundos usando la segunda función para mostrar el resultado por pantalla.\n",
    "\n",
    "def a_horasminyseg (sg):\n",
    "    horas = sg // 3600\n",
    "    minutos = (sg % 3600) // 60\n",
    "    segundos = (sg % 3600) % 60\n",
    "    return f'{horas} horas, {minutos} minutos, {segundos} segundos'\n",
    "\n",
    "def a_seg (h,min,sg):\n",
    "    h = h*3600\n",
    "    min = min*60\n",
    "    result = h+min+sg\n",
    "    return result\n",
    "\n",
    "elige = int(input(\"Elige 1 para convertir segundos en horas, minutos y segundos, o elige 2 para convertir horas, minutos y segundos en segundos:\"))\n",
    "if elige == 1:\n",
    "    sg = int(input(\"Introduce segundos:\"))\n",
    "    total = a_horasminyseg (sg)\n",
    "    print (total)\n",
    "    \n",
    "elif elige == 2:\n",
    "    h = int(input(\"Introduce horas:\"))\n",
    "    min = int(input(\"Introduce minutos:\"))\n",
    "    sg = int(input(\"Introduce segundos:\"))\n",
    "    total = a_seg (h, min,sg)\n",
    "    print (total,\"segundos\")\n",
    "    "
   ]
  },
  {
   "cell_type": "code",
   "execution_count": 160,
   "id": "ec16584f-40a0-4fd1-adca-f975604eee27",
   "metadata": {},
   "outputs": [
    {
     "name": "stdout",
     "output_type": "stream",
     "text": [
      "El texto contiene la @\n",
      "El texto no contiene la @\n"
     ]
    }
   ],
   "source": [
    "#Ejercicio 1.7.13.\n",
    "#Crea un programa que le pida al usuario texto y compruebe si este contiene la @. \n",
    "#En caso de que la contenga devolverá “El texto contiene la @” y en caso contrario “El texto no contiene la @”. \n",
    "#Utiliza una función para realizar la comprobación.\n",
    "\n",
    "def comprobacion (texto):\n",
    "    if \"@\" in texto:\n",
    "        print(\"El texto contiene la @\")\n",
    "    else:\n",
    "        print(\"El texto no contiene la @\")\n",
    "\n",
    "comprobacion (\"Mi email es ana@ana.com\")\n",
    "comprobacion (\"Mañana sale el sol\")"
   ]
  },
  {
   "cell_type": "code",
   "execution_count": 178,
   "id": "a0b73169-50d1-42cf-bb09-2c8e8552457c",
   "metadata": {},
   "outputs": [
    {
     "name": "stdin",
     "output_type": "stream",
     "text": [
      "Introduce una cantidad: 100\n",
      "Porcentaje que necesitas calcular: 10\n"
     ]
    },
    {
     "name": "stdout",
     "output_type": "stream",
     "text": [
      "110.0\n"
     ]
    },
    {
     "data": {
      "text/plain": [
       "6000.0"
      ]
     },
     "execution_count": 178,
     "metadata": {},
     "output_type": "execute_result"
    }
   ],
   "source": [
    "#Ejercicio 1.7.14.\n",
    "#Crea un programa que pida al usuario una cantidad y un porcentaje de impuestos a pagar\n",
    "#y calcule el importe total de la cantidad más el porcentaje de impuestos indicado y lo muestre por pantalla. \n",
    "#Es decir, si mi factura es de 300 y tengo que sumarle el 10% de impuestos, el importe total sería 330. \n",
    "#Utiliza una función con dos parámetros, el importe inicial y el porcentaje de impuestos, y que devuelva el importe total.\n",
    "\n",
    "def calculo (cantidad, porcentaje):\n",
    "    total = (cantidad*porcentaje/100)+cantidad\n",
    "    return total\n",
    "\n",
    "cantidad = float(input(\"Introduce una cantidad:\"))\n",
    "porcentaje = float(input(\"Porcentaje que necesitas calcular:\"))\n",
    "\n",
    "\n",
    "print (calculo(cantidad, porcentaje))\n",
    "calculo (5000,20)"
   ]
  },
  {
   "cell_type": "code",
   "execution_count": 176,
   "id": "2195b778-6e29-458a-b10b-975cfd84d4db",
   "metadata": {},
   "outputs": [
    {
     "name": "stdin",
     "output_type": "stream",
     "text": [
      "Ingrese la cantidad:  100\n",
      "Ingrese el porcentaje de impuestos a pagar:  10\n"
     ]
    },
    {
     "name": "stdout",
     "output_type": "stream",
     "text": [
      "110.0\n"
     ]
    },
    {
     "name": "stdin",
     "output_type": "stream",
     "text": [
      "¿Desea ingresar otra cantidad? (s/n):  s\n",
      "Ingrese la cantidad:  5000\n",
      "Ingrese el porcentaje de impuestos a pagar:  20\n"
     ]
    },
    {
     "name": "stdout",
     "output_type": "stream",
     "text": [
      "6000.0\n"
     ]
    },
    {
     "name": "stdin",
     "output_type": "stream",
     "text": [
      "¿Desea ingresar otra cantidad? (s/n):  n\n"
     ]
    }
   ],
   "source": [
    "def calculo (cantidad, porcentaje):\n",
    "    total = (cantidad*porcentaje/100)+cantidad\n",
    "    return total\n",
    "\n",
    "continuar = \"\"\n",
    "\n",
    "while continuar != \"n\":\n",
    "    cantidad = float(input(\"Introduce una cantidad \"))\n",
    "    porcentaje = float(input(\"Porcentaje que necesitas calcular:\"))\n",
    "\n",
    "    totalconimpuestos = calculo (cantidad, porcentaje)\n",
    "    print(calculo(cantidad, porcentaje))\n",
    "\n",
    "    continuar = input(\"¿Desea ingresar otra cantidad? (s/n):\")"
   ]
  },
  {
   "cell_type": "code",
   "execution_count": 1,
   "id": "e22ac2ab-233e-46be-8e04-e04a5f750333",
   "metadata": {},
   "outputs": [
    {
     "name": "stdin",
     "output_type": "stream",
     "text": [
      "Introduce un número:  67\n",
      "Ingrese otro número o 0 para terminar:  65\n",
      "Ingrese otro número o 0 para terminar:  90\n",
      "Ingrese otro número o 0 para terminar:  0\n"
     ]
    },
    {
     "name": "stdout",
     "output_type": "stream",
     "text": [
      "La suma de los núnmeros es 222.0\n"
     ]
    },
    {
     "name": "stdin",
     "output_type": "stream",
     "text": [
      "Introduce un número:  34\n",
      "Ingrese otro número o 0 para terminar:  2\n",
      "Ingrese otro número o 0 para terminar:  9\n",
      "Ingrese otro número o 0 para terminar:  67\n",
      "Ingrese otro número o 0 para terminar:  0\n"
     ]
    },
    {
     "name": "stdout",
     "output_type": "stream",
     "text": [
      "La suma de los núnmeros es 112.0\n"
     ]
    },
    {
     "name": "stdin",
     "output_type": "stream",
     "text": [
      "Introduce un número:  3\n",
      "Ingrese otro número o 0 para terminar:  8\n",
      "Ingrese otro número o 0 para terminar:  6\n",
      "Ingrese otro número o 0 para terminar:  0\n"
     ]
    },
    {
     "name": "stdout",
     "output_type": "stream",
     "text": [
      "La suma de los núnmeros es 17.0\n",
      "\n",
      "El resultado máximo es 222.0\n"
     ]
    }
   ],
   "source": [
    "#Ejercicio 1.7.14.\n",
    "#Crea una función en la que el usuario pueda introducir todos los números que quiera, siendo el último el cero, y calcule la suma de todos ellos. \n",
    "#Después ejecútala tres veces con tres grupos de números diferentes \n",
    "\n",
    "def sumalist(*numeros):\n",
    "    numero = float(input(\"Introduce un número: \"))\n",
    "    suma = 0\n",
    "    while numero != 0:\n",
    "        suma += numero\n",
    "        numero = float(input(\"Ingrese otro número o 0 para terminar: \"))\n",
    "    if numero == 0:\n",
    "        print(f'La suma de los núnmeros es {suma}')\n",
    "    return suma\n",
    "\n",
    "\n",
    "maxima = max(sumalist(),sumalist(),sumalist())\n",
    "print (f'\\nEl resultado máximo es {maxima}')\n",
    "    "
   ]
  },
  {
   "cell_type": "code",
   "execution_count": 8,
   "id": "1021b419-d190-4cad-95c1-d387e73fded6",
   "metadata": {},
   "outputs": [
    {
     "name": "stdin",
     "output_type": "stream",
     "text": [
      "Un número:  5\n",
      "Otro número:  1\n"
     ]
    },
    {
     "name": "stdout",
     "output_type": "stream",
     "text": [
      "2\n"
     ]
    }
   ],
   "source": [
    "def maximo(x,y): \n",
    "\n",
    "    if x>y: \n",
    "\n",
    "        return x \n",
    "\n",
    "    else: \n",
    "\n",
    "        return y \n",
    "\n",
    "\n",
    "\n",
    "def minimo(x,y): \n",
    "\n",
    "    if x<y: \n",
    "\n",
    "         return x \n",
    "\n",
    "    else: \n",
    "\n",
    "        return y \n",
    "\n",
    "x=int(input(\"Un número: \")) \n",
    "\n",
    "y=int(input(\"Otro número: \")) \n",
    "\n",
    "print(maximo(x-3, minimo(x+2, y-5)))"
   ]
  },
  {
   "cell_type": "code",
   "execution_count": 19,
   "id": "3adb4a11-efd0-4faf-814c-d6266960cd78",
   "metadata": {},
   "outputs": [
    {
     "name": "stdout",
     "output_type": "stream",
     "text": [
      "120\n",
      "6227020800\n",
      "265252859812191058636308480000000\n"
     ]
    }
   ],
   "source": [
    "#Ejercicio 1.7.17.\n",
    "#En el ejercicio 1.7.7, has creado una función que calculaba el factorial de un número\n",
    "#Crea ahora una función que calcule el factorial de un número, utilizando recursividad.\n",
    "\n",
    "def recursividad (n):\n",
    "    if n == 0:\n",
    "        return 1\n",
    "    else:\n",
    "        return n * recursividad(n-1)\n",
    "    \n",
    "print (recursividad (5))\n",
    "print (recursividad (13))\n",
    "print (recursividad (30))\n",
    "\n",
    "\n",
    "    \n",
    "\n"
   ]
  },
  {
   "cell_type": "code",
   "execution_count": 27,
   "id": "31efea47-a967-4ca2-85e4-bebbffba24b9",
   "metadata": {},
   "outputs": [
    {
     "name": "stdin",
     "output_type": "stream",
     "text": [
      "Incluye un número (si incluyes el -1 el programa se detiene): 8\n"
     ]
    },
    {
     "name": "stdout",
     "output_type": "stream",
     "text": [
      "El factorial de 8 es 40320\n"
     ]
    },
    {
     "name": "stdin",
     "output_type": "stream",
     "text": [
      "Incluye un número (si incluyes el -1 el programa se detiene): 9\n"
     ]
    },
    {
     "name": "stdout",
     "output_type": "stream",
     "text": [
      "El factorial de 9 es 362880\n"
     ]
    },
    {
     "name": "stdin",
     "output_type": "stream",
     "text": [
      "Incluye un número (si incluyes el -1 el programa se detiene): -1\n"
     ]
    },
    {
     "name": "stdout",
     "output_type": "stream",
     "text": [
      "Programa terminado\n",
      "Has calculado el factorial de 2 números\n"
     ]
    }
   ],
   "source": [
    "#Ejercicio 1.7.18.\n",
    "#Utilizando la función creada en el ejercicio anterior, crea un programa que solicite números al usuario y, mientras este no incluya el número -1, le devuelva el factorial del número introducido y le solicite otro número. \n",
    "#Cuando el usuario incluya el número -1, el programa finalizará y le mostrará al usuario de cuántos números ha calculado el factorial.\n",
    "\n",
    "def recursividad (n):\n",
    "    if n == 0:\n",
    "        return 1\n",
    "    else:\n",
    "        return n * recursividad(n-1)\n",
    "\n",
    "contador = 0\n",
    "\n",
    "while True:\n",
    "    n = int(input(\"Incluye un número (si incluyes el -1 el programa se detiene):\"))\n",
    "    if n == -1:\n",
    "        print (\"Programa terminado\")\n",
    "        break\n",
    "    else:\n",
    "        factorial = recursividad (n)\n",
    "        print (\"El factorial de\", n, \"es\", factorial)\n",
    "        contador += 1\n",
    "print (\"Has calculado el factorial de\", contador, \"números\")"
   ]
  },
  {
   "cell_type": "code",
   "execution_count": 47,
   "id": "63bbc309-2e90-41ad-b137-46b503af55af",
   "metadata": {},
   "outputs": [
    {
     "name": "stdout",
     "output_type": "stream",
     "text": [
      "6\n",
      "15\n",
      "13\n"
     ]
    }
   ],
   "source": [
    "#Ejercicio 1.7.19.\n",
    "#Crea una función que, dado un número, calcule la suma de sus dígitos. \n",
    "\n",
    "def suma (n):\n",
    "    total = 0\n",
    "    for i in str(n):\n",
    "        total += int(i)\n",
    "    return total\n",
    "print (suma (15))\n",
    "print (suma (159))\n",
    "print (suma (715))"
   ]
  },
  {
   "cell_type": "code",
   "execution_count": 57,
   "id": "f5746250-548c-4179-b889-9e1d2ee70395",
   "metadata": {},
   "outputs": [
    {
     "name": "stdout",
     "output_type": "stream",
     "text": [
      "False\n",
      "True\n",
      "True\n"
     ]
    }
   ],
   "source": [
    "#Ejercicio 1.7.20.\n",
    "#Crea una función que, dado un número, compruebe si un número es primo. \n",
    "#En caso de que lo sea, la función devolverá True, en caso de que no lo sea, devolverá False.\n",
    "\n",
    "def primo (n):\n",
    "    for i in range (2, n):\n",
    "        if n%i == 0:\n",
    "            return False\n",
    "    return True\n",
    "print(primo (25))\n",
    "print(primo(1))\n",
    "print(primo (7))\n",
    "        "
   ]
  },
  {
   "cell_type": "code",
   "execution_count": 7,
   "id": "359d9d3c-b8fd-4b56-a71a-64a1c9a867f0",
   "metadata": {},
   "outputs": [
    {
     "name": "stdin",
     "output_type": "stream",
     "text": [
      "Introduce un número:  18\n"
     ]
    },
    {
     "name": "stdout",
     "output_type": "stream",
     "text": [
      "El numero 18 no es primo. Su factorial es 6402373705728000\n"
     ]
    }
   ],
   "source": [
    "#Ejercicio 1.7.21.\n",
    "\n",
    "#crea un programa que solicite al usuario que introduzca un número, compruebe si es primo, en ese caso, que calcule la suma de sus dígitos \n",
    "#en caso contrario, que devuelva su factorial.\n",
    "\n",
    "def factorial (n):\n",
    "    if n == 0:\n",
    "        return 1\n",
    "    else:\n",
    "        return n * factorial(n-1)\n",
    "def suma (n):\n",
    "    total = 0\n",
    "    for i in str(n):\n",
    "        total += int(i)\n",
    "    return total\n",
    "\n",
    "def primo (n):\n",
    "    for i in range (2, n):\n",
    "        if n%i == 0:\n",
    "            return False\n",
    "    return True\n",
    "\n",
    "numero = int(input(\"Introduce un número: \"))\n",
    "if primo(numero):\n",
    "    print(\"El numero\", numero, \"es primo. La suma de sus digitos es\", suma(numero))\n",
    "else:\n",
    "    print(\"El numero\", numero, \"no es primo. Su factorial es\", factorial(numero))\n",
    "    "
   ]
  },
  {
   "cell_type": "code",
   "execution_count": null,
   "id": "1c7be027-ea00-4d3a-943c-14c6296d8c97",
   "metadata": {},
   "outputs": [],
   "source": [
    "def primo_sum_fac(n):\n",
    "    # Comprobar si el número es primo\n",
    "    for i in range(2, n):\n",
    "        if n % i == 0:\n",
    "            # Si no es primo, calcular su factorial\n",
    "            result = 1\n",
    "            for j in range(1, n+1):\n",
    "                result *= j\n",
    "            return result\n",
    "    # Si es primo, calcular la suma de sus dígitos\n",
    "    total = 0\n",
    "    for digit in str(n):\n",
    "        total += int(digit)\n",
    "    return total\n",
    "\n",
    "n = int(input(\"Introduce un número: \"))\n",
    "print(primo_sum_fac(n))\n"
   ]
  },
  {
   "cell_type": "code",
   "execution_count": 43,
   "id": "e2166ab4-36d6-4fd9-82f3-360695cd4cc9",
   "metadata": {},
   "outputs": [
    {
     "name": "stdin",
     "output_type": "stream",
     "text": [
      "Introduce un mes del 1 al 12: 5\n",
      "Introduce un año: 1977\n"
     ]
    },
    {
     "name": "stdout",
     "output_type": "stream",
     "text": [
      "El mes 5 del año 1977 tiene 31 dias\n"
     ]
    }
   ],
   "source": [
    "#Ejercicio 1.7.22.\n",
    "#Crea un programa que muestre por pantalla cuántos días tiene el mes del año concreto que te indique un usuario. \n",
    "#Para ello necesitas crear dos funciones, una de ellas que te devuelva True si el año introducido es bisiesto\n",
    "#otra que indique el número de días que tiene un mes de un año concreto, ambos introducidos como parámetros.\n",
    "\n",
    "def bisiesto (year):\n",
    "    return year % 4 == 0 and (year % 100 !=0 or year % 400 == 0)\n",
    "\n",
    "def dias (mes, year):\n",
    "    if mes == 2:\n",
    "        return 29 if bisiesto (year) else 28\n",
    "    elif mes in [4, 6, 9, 11]:\n",
    "        return 30 \n",
    "    else:\n",
    "        return 31\n",
    "\n",
    "\n",
    "mes = (int(input(\"Introduce un mes del 1 al 12:\")))\n",
    "year = (int(input(\"Introduce un año:\")))\n",
    "\n",
    "print (\"El mes\", mes, \"del año\", year, \"tiene\", dias(mes, year), \"dias\")\n",
    "\n",
    "    "
   ]
  },
  {
   "cell_type": "code",
   "execution_count": null,
   "id": "1b55c119-05c9-4163-8bf7-a8b3d521a652",
   "metadata": {},
   "outputs": [],
   "source": []
  }
 ],
 "metadata": {
  "kernelspec": {
   "display_name": "Python 3 (ipykernel)",
   "language": "python",
   "name": "python3"
  },
  "language_info": {
   "codemirror_mode": {
    "name": "ipython",
    "version": 3
   },
   "file_extension": ".py",
   "mimetype": "text/x-python",
   "name": "python",
   "nbconvert_exporter": "python",
   "pygments_lexer": "ipython3",
   "version": "3.9.13"
  }
 },
 "nbformat": 4,
 "nbformat_minor": 5
}
