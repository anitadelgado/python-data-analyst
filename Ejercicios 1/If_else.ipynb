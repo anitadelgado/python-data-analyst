{
 "cells": [
  {
   "cell_type": "code",
   "execution_count": 10,
   "id": "45a8057f-6a38-4bba-a328-77b5f6e9896d",
   "metadata": {},
   "outputs": [
    {
     "name": "stdout",
     "output_type": "stream",
     "text": [
      "90\n"
     ]
    }
   ],
   "source": [
    "precio = 100\n",
    "descuento = 10\n",
    "precio_descuento = precio - descuento\n",
    "print (precio_descuento)"
   ]
  },
  {
   "cell_type": "code",
   "execution_count": 13,
   "id": "9df0185e-6d43-44d5-88a2-f9e3afdb50a2",
   "metadata": {},
   "outputs": [
    {
     "name": "stdin",
     "output_type": "stream",
     "text": [
      "Precio:  10\n",
      "Descuento (en porcentaje):  10\n"
     ]
    },
    {
     "name": "stdout",
     "output_type": "stream",
     "text": [
      "El precio es: 9.0\n"
     ]
    }
   ],
   "source": [
    "precio = float(input(\"Precio: \"))\n",
    "descuento = float(input(\"Descuento: \"))\n",
    "total = precio - (precio * (descuento / 100))\n",
    "\n",
    "print (\"El precio es:\", total_descuento)"
   ]
  },
  {
   "cell_type": "code",
   "execution_count": null,
   "id": "ff34879d-29de-417b-a656-d6dd82de6a8a",
   "metadata": {},
   "outputs": [],
   "source": []
  },
  {
   "cell_type": "code",
   "execution_count": 16,
   "id": "bdffdd72-d6ec-41b0-8b04-35a614983116",
   "metadata": {},
   "outputs": [
    {
     "name": "stdin",
     "output_type": "stream",
     "text": [
      "Número:  22\n"
     ]
    },
    {
     "name": "stdout",
     "output_type": "stream",
     "text": [
      "22 no es múltiplo de 7 ni de 3\n"
     ]
    }
   ],
   "source": [
    "numero = int(input(\"Número: \"))\n",
    "if numero % 7 == 0 and numero % 3 == 0:\n",
    "    print(f\"{numero} es múltiplo de 7 y de 3\")\n",
    "elif numero % 7 == 0:\n",
    "    print(f\"{numero} es múltiplo de 7\")\n",
    "elif numero % 3 == 0:\n",
    "    print(f\"{numero} es múltiplo de 3\")\n",
    "else:\n",
    "    print(f\"{numero} no es múltiplo de 7 ni de 3\")"
   ]
  },
  {
   "cell_type": "code",
   "execution_count": 19,
   "id": "67212040-ef8a-4d03-97e3-d2ab1ca0f5e1",
   "metadata": {},
   "outputs": [
    {
     "name": "stdout",
     "output_type": "stream",
     "text": [
      "Estoy empezando este curso\n"
     ]
    }
   ],
   "source": [
    "saludo = \"Estoy empezando este curso\"\n",
    "print (saludo)"
   ]
  },
  {
   "cell_type": "markdown",
   "id": "e25fc503-fcd8-4475-a569-57419c9d74ea",
   "metadata": {},
   "source": [
    "**HACER LAS PIRÁMIDES DE NÚMEROS**"
   ]
  },
  {
   "cell_type": "code",
   "execution_count": 34,
   "id": "3921f783-b4dd-4bb9-83df-62611c9a9b8f",
   "metadata": {},
   "outputs": [
    {
     "name": "stdout",
     "output_type": "stream",
     "text": [
      "0 \n",
      "1 2 \n",
      "3 4 5 \n",
      "6 7 8 9 \n"
     ]
    }
   ],
   "source": [
    "n = 4 #filas que necesito\n",
    "num = 0 #número por el que empiezo\n",
    "\n",
    "for i in range(n):  \n",
    "    for r in range(i+1):  \n",
    "        print(num, end=\" \")\n",
    "        num += 1  #iterar\n",
    "    print()  \n"
   ]
  },
  {
   "cell_type": "code",
   "execution_count": 33,
   "id": "66dc21f0-cf15-448b-9660-e0c1e35f91c6",
   "metadata": {},
   "outputs": [
    {
     "name": "stdout",
     "output_type": "stream",
     "text": [
      "      0 \n",
      "    1 2 \n",
      "  3 4 5 \n",
      "6 7 8 9 \n"
     ]
    }
   ],
   "source": [
    "n = 4\n",
    "num = 0\n",
    "for i in range(n):  \n",
    "    for r in range(n-i-1):  \n",
    "        print(\" \", end=\" \") \n",
    "    for r in range(i+1): \n",
    "        print(num, end=\" \")\n",
    "        num += 1  \n",
    "    print() \n"
   ]
  },
  {
   "cell_type": "code",
   "execution_count": 32,
   "id": "26837c9e-7b94-48c3-b329-6704d1e4abd3",
   "metadata": {},
   "outputs": [
    {
     "name": "stdout",
     "output_type": "stream",
     "text": [
      "   0 \n",
      "  1 2 \n",
      " 3 4 5 \n",
      "6 7 8 9 \n"
     ]
    }
   ],
   "source": [
    "n = 4  \n",
    "num = 0 \n",
    "\n",
    "for i in range(n):  \n",
    "    for r in range(n-i-1):  \n",
    "        print(\" \", end=\"\")\n",
    "    for r in range(i+1):  \n",
    "        print(num, end=\" \")\n",
    "        num += 1  \n",
    "    print() \n"
   ]
  },
  {
   "cell_type": "code",
   "execution_count": 35,
   "id": "3b98b42e-855e-46a8-8633-929f56f308ca",
   "metadata": {},
   "outputs": [
    {
     "name": "stdout",
     "output_type": "stream",
     "text": [
      "8.15\n"
     ]
    }
   ],
   "source": [
    "calificacion = float(8.15)\n",
    "print (calificacion)"
   ]
  },
  {
   "cell_type": "code",
   "execution_count": 36,
   "id": "c61c0769-0ac3-469d-bda7-b5c0f1161c60",
   "metadata": {},
   "outputs": [
    {
     "name": "stdin",
     "output_type": "stream",
     "text": [
      "Introduce tu nombre: Raul\n"
     ]
    },
    {
     "name": "stdout",
     "output_type": "stream",
     "text": [
      "Raul: 8.15\n"
     ]
    }
   ],
   "source": [
    "nombre = input(\"Introduce tu nombre:\")\n",
    "calificacion = float(8.15)\n",
    "\n",
    "print (nombre+\":\", calificacion)"
   ]
  },
  {
   "cell_type": "code",
   "execution_count": 39,
   "id": "cbadca48-fb9c-4ed2-b552-31a37f524cfa",
   "metadata": {},
   "outputs": [
    {
     "name": "stdout",
     "output_type": "stream",
     "text": [
      "Gemma\n"
     ]
    }
   ],
   "source": [
    "nombre = \"Diego\"\n",
    "Nombre = \"Gemma\"\n",
    "print(Nombre)"
   ]
  },
  {
   "cell_type": "code",
   "execution_count": 43,
   "id": "9138cf9f-9aa9-408d-bd41-66e8ad25ee39",
   "metadata": {},
   "outputs": [
    {
     "name": "stdin",
     "output_type": "stream",
     "text": [
      "Introduce un número entero: 5\n",
      "Introduce un número decimal: 5.5\n"
     ]
    },
    {
     "name": "stdout",
     "output_type": "stream",
     "text": [
      "El resultado de la suma es: 10.5\n"
     ]
    },
    {
     "name": "stdin",
     "output_type": "stream",
     "text": [
      "Introduce otro número entero: 3\n"
     ]
    },
    {
     "name": "stdout",
     "output_type": "stream",
     "text": [
      "La multiplicación de la suma por el entero es: 31.5\n"
     ]
    }
   ],
   "source": [
    "entero = float(input(\"Introduce un número entero:\"))\n",
    "decimal = float(input(\"Introduce un número decimal:\"))\n",
    "\n",
    "suma = float(entero+decimal)\n",
    "\n",
    "print (\"El resultado de la suma es:\", suma)\n",
    "\n",
    "enterob = float(input(\"Introduce otro número entero:\"))\n",
    "\n",
    "print (\"La multiplicación de la suma por el entero es:\", float(suma*enterob))      \n",
    "\n"
   ]
  },
  {
   "cell_type": "code",
   "execution_count": 38,
   "id": "c62cc88e-cd46-4afe-8931-363370edce7a",
   "metadata": {},
   "outputs": [
    {
     "name": "stdin",
     "output_type": "stream",
     "text": [
      "Introduce tu peso en kg:  59\n",
      "Introduce tu altura en metros:  1.73\n"
     ]
    },
    {
     "name": "stdout",
     "output_type": "stream",
     "text": [
      "Tu índice de masa corporal es:  19.71\n"
     ]
    }
   ],
   "source": [
    "peso = float(input(\"Introduce tu peso en kg: \"))\n",
    "altura = float(input(\"Introduce tu altura en metros: \"))\n",
    "imc = (peso/(altura)**2)\n",
    "               \n",
    "print (\"Tu índice de masa corporal es: \", round(imc,2))"
   ]
  },
  {
   "cell_type": "code",
   "execution_count": 5,
   "id": "19d860c6-b60f-4cbb-8f85-1dd87e4aae11",
   "metadata": {},
   "outputs": [
    {
     "name": "stdin",
     "output_type": "stream",
     "text": [
      "Introduce tu saldo: 10000\n"
     ]
    },
    {
     "name": "stdout",
     "output_type": "stream",
     "text": [
      "Tu saldo el primer año será 10300\n",
      "Tu saldo el segundo año será 10609\n"
     ]
    }
   ],
   "source": [
    "saldo = float(input(\"Introduce tu saldo:\"))\n",
    "interes_primer = saldo*1.03\n",
    "interes_segundo = interes_primer*1.03\n",
    "\n",
    "print (\"Tu saldo el primer año será\", round(interes_primer))\n",
    "print (\"Tu saldo el segundo año será\", round(interes_segundo))\n",
    "\n"
   ]
  },
  {
   "cell_type": "markdown",
   "id": "81ed7679-be1b-4a43-bdd2-c468ad639ce5",
   "metadata": {},
   "source": [
    "**Vas a viajar a Londres y tienes algunos dólares americanos y algunos euros, pero no tienes libras. Crea un programa en el que introduzcas por la consola cuántos dólares tienes y cuántos euros tienes y te calcule a cuántas libras equivalen.Puedes usar el tipo de cambio 1 dólar americano = 0,83 libras y 1 euro = 0,88 libras**"
   ]
  },
  {
   "cell_type": "code",
   "execution_count": 16,
   "id": "bda2b116-7dd1-4cbd-8054-3876a8e56d83",
   "metadata": {},
   "outputs": [
    {
     "name": "stdin",
     "output_type": "stream",
     "text": [
      "¿Cuántos dólares tienes? 10\n",
      "¿Cuántos euros tienes? 10\n"
     ]
    },
    {
     "name": "stdout",
     "output_type": "stream",
     "text": [
      "Entonces tienes  17.1 libras.\n"
     ]
    }
   ],
   "source": [
    "Dolar = float(input(\"¿Cuántos dólares tienes?\"))\n",
    "Euro = float(input(\"¿Cuántos euros tienes?\"))\n",
    "\n",
    "Libra = float((Dolar*0.83)+(Euro*0.88))\n",
    "\n",
    "print (\"Entonces tienes \", round(Libra,2), \"libras.\")\n"
   ]
  },
  {
   "cell_type": "markdown",
   "id": "cd95cc91-6940-4bf3-bf52-d904d691bd0c",
   "metadata": {},
   "source": [
    "**Crea un programa que solicite introducir una palabra en la consola y que calcule el número de letras que tiene esa palabra. Devuelve por pantalla la palabra y el número de letras que la componen**"
   ]
  },
  {
   "cell_type": "code",
   "execution_count": 35,
   "id": "091fe186-af7b-4204-889a-ee5d4f3dab60",
   "metadata": {},
   "outputs": [
    {
     "name": "stdin",
     "output_type": "stream",
     "text": [
      "Introduce una palabra: palabra\n"
     ]
    },
    {
     "name": "stdout",
     "output_type": "stream",
     "text": [
      "La palabra \"palabra\" tiene  7 letras.\n"
     ]
    }
   ],
   "source": [
    "palabra = input('Introduce una palabra:')\n",
    "print (f'La palabra \"{palabra}\" tiene ', len(palabra), 'letras.')\n",
    "\n"
   ]
  },
  {
   "cell_type": "code",
   "execution_count": 48,
   "id": "ca891d3e-720e-40fd-a396-ced608499837",
   "metadata": {},
   "outputs": [
    {
     "name": "stdin",
     "output_type": "stream",
     "text": [
      "Introduce el valor de a:  5\n",
      "Introduce el valor de b:  4\n",
      "Introduce el valor de c:  -2\n"
     ]
    },
    {
     "name": "stdout",
     "output_type": "stream",
     "text": [
      "El valor de la primera raíz es  0.34833147735478825\n",
      "El valor de la segunda raíz es  -1.1483314773547881\n"
     ]
    }
   ],
   "source": [
    "#Ecuación ax2+bx+c = 0. Para ello utiliza la fórmula x=(−b±√b2−4ac)/2a.\n",
    "# solución para la opción de la suma en el numerando (-b+√(b2-4ac)) \n",
    "# solución para la opción de resta en el numerando (-b-√(b2-4ac))\n",
    "\n",
    "a = float(input(\"Introduce el valor de a: \"))\n",
    "b = float(input(\"Introduce el valor de b: \"))\n",
    "c = float(input(\"Introduce el valor de c: \"))\n",
    "\n",
    "#parte comun de la formula\n",
    "raizcuadrada = float((b**2)-(4*a*c))**(1/2)\n",
    "                \n",
    "#operaciones de -b- y de -b+\n",
    "raiz1 = ((-b+raizcuadrada)/(2*a))\n",
    "raiz2 = ((-b-raizcuadrada)/(2*a))\n",
    "\n",
    "print (\"El valor de la primera raíz es \", raiz1)\n",
    "print (\"El valor de la segunda raíz es \", raiz2)\n"
   ]
  },
  {
   "cell_type": "markdown",
   "id": "137cd1a7-5a71-4a1d-b752-4c2df4bb7b16",
   "metadata": {},
   "source": [
    "**“Eres menor de edad” o “Eres mayor de edad”**"
   ]
  },
  {
   "cell_type": "code",
   "execution_count": 60,
   "id": "9f3cb725-2492-4603-a3b8-28e9d47f4cdf",
   "metadata": {},
   "outputs": [
    {
     "name": "stdin",
     "output_type": "stream",
     "text": [
      "¿Cuántos años tienes?:  11\n"
     ]
    },
    {
     "name": "stdout",
     "output_type": "stream",
     "text": [
      "Eres menor de edad\n"
     ]
    }
   ],
   "source": [
    "edad = int(input(\"¿Cuántos años tienes?: \"))\n",
    "\n",
    "if edad < 18:\n",
    "    print (\"Eres menor de edad\")\n",
    "else:\n",
    "    print(\"Eres mayor de edad\")"
   ]
  },
  {
   "cell_type": "markdown",
   "id": "c6bc9dda-3d71-4a8e-a027-c9bd88aec1ad",
   "metadata": {},
   "source": [
    "**Este número es par” si el número introducido es par, y “Este número es impar” si el número introducido es impar**"
   ]
  },
  {
   "cell_type": "code",
   "execution_count": 59,
   "id": "9c4c7ada-7a6b-4fb0-adf3-6ab981f9f820",
   "metadata": {},
   "outputs": [
    {
     "name": "stdin",
     "output_type": "stream",
     "text": [
      "Pon un número y te digo si es par o impar:  6\n"
     ]
    },
    {
     "name": "stdout",
     "output_type": "stream",
     "text": [
      "Este número es par\n"
     ]
    }
   ],
   "source": [
    "n = int(input(\"Pon un número y te digo si es par o impar: \"))\n",
    "\n",
    "if n%2 == 0:\n",
    "    print (\"Este número es par\")\n",
    "else:\n",
    "    print (\"Este número es impar\")"
   ]
  },
  {
   "cell_type": "markdown",
   "id": "eb5d4152-d996-4cc8-ad4f-e4572c49d3ec",
   "metadata": {},
   "source": [
    "**Crea un programa que solicite por pantalla dos números enteros, el numerador y el denominador de una división, y que devuelva el resultado de realizar la división. OJO, ten en cuenta que si el denominador es 0 la división no se puede realizar.**"
   ]
  },
  {
   "cell_type": "code",
   "execution_count": 65,
   "id": "a861d226-c253-4ef1-ba09-9eba6a737577",
   "metadata": {},
   "outputs": [
    {
     "name": "stdin",
     "output_type": "stream",
     "text": [
      "Introduce el numerador: 8\n",
      "Introduce el denominador: 2\n"
     ]
    },
    {
     "name": "stdout",
     "output_type": "stream",
     "text": [
      "El resultado de la división es 4.0\n"
     ]
    }
   ],
   "source": [
    "numerador = int(input(\"Introduce el numerador:\"))\n",
    "denominador = int(input(\"Introduce el denominador:\"))\n",
    "\n",
    "if denominador == 0:\n",
    "    print(\"La división no puede realizarse\")\n",
    "\n",
    "else:\n",
    "    resultado = numerador/denominador\n",
    "    print (\"El resultado de la división es\", resultado)"
   ]
  },
  {
   "cell_type": "markdown",
   "id": "6835215f-8208-4153-9275-8e9161d1f964",
   "metadata": {},
   "source": [
    "**Crea un programa que solicite al usuario un número y devuelva el valor absoluto de ese número. Ten en cuenta que el valor absoluto de un número positivo es el mismo número, y el valor absoluto de un número negativo es ese mismo número en positivo.**"
   ]
  },
  {
   "cell_type": "code",
   "execution_count": 73,
   "id": "90c5aaf5-0fa1-44a2-b7be-5bfac2f295be",
   "metadata": {},
   "outputs": [
    {
     "name": "stdin",
     "output_type": "stream",
     "text": [
      "Introduce un número -5\n"
     ]
    },
    {
     "name": "stdout",
     "output_type": "stream",
     "text": [
      "El valor absoluto de -5.0 es 5.0\n"
     ]
    }
   ],
   "source": [
    "n = float(input(\"Introduce un número\"))\n",
    "          \n",
    "if n<0:\n",
    "    print(\"El valor absoluto de\", n, \"es\", n*(-1))\n",
    "else:\n",
    "    print(\"El valor absoluto de\", n, \"es\", n)"
   ]
  },
  {
   "cell_type": "code",
   "execution_count": 75,
   "id": "b83a36b2-00e5-4e35-b6f8-ae05b0c02a88",
   "metadata": {},
   "outputs": [
    {
     "name": "stdin",
     "output_type": "stream",
     "text": [
      "Introduce un número 4\n"
     ]
    },
    {
     "name": "stdout",
     "output_type": "stream",
     "text": [
      "El valor absoluto de 4.0 es 4.0\n"
     ]
    }
   ],
   "source": [
    "n = float(input(\"Introduce un número\"))\n",
    "          \n",
    "if n<0:\n",
    "    n=n*(-1)\n",
    "\n",
    "print(\"El valor absoluto de\", n, \"es\", n)"
   ]
  },
  {
   "cell_type": "code",
   "execution_count": 96,
   "id": "5a31da61-191e-40ef-a72a-7882159ee389",
   "metadata": {},
   "outputs": [
    {
     "name": "stdin",
     "output_type": "stream",
     "text": [
      "Introduce el año en el que estamos: 2023\n",
      "Introduce un año cualquiera: 2026\n"
     ]
    },
    {
     "name": "stdout",
     "output_type": "stream",
     "text": [
      "Quedan 3 años para llegar al año 2026 .\n"
     ]
    }
   ],
   "source": [
    "# a es el año actual\n",
    "# n es el año nuevo\n",
    "\n",
    "a= int(input(\"Introduce el año en el que estamos:\"))\n",
    "n= int(input(\"Introduce un año cualquiera:\"))\n",
    "\n",
    "if (a < n):\n",
    "    print (\"Quedan\", (n-a), \"años para llegar al año\", n,\".\")\n",
    "\n",
    "elif (n < a):\n",
    "    print (\"Desde el año\", n , \"han pasado\", (a-n), \"años.\")\n",
    "\n",
    "else:\n",
    "    print (\"Ambos años son el mismo.\")\n"
   ]
  },
  {
   "cell_type": "markdown",
   "id": "8fd9e04b-44f3-4eda-a8ef-fc64abe4c0f3",
   "metadata": {},
   "source": [
    "**Crea un programa que pida al usuario dos nombres de personas y los compare, devolviendo “Ambos nombres comienzan por la misma letra” si se cumple esa condición, devolviendo “Ambos nombres terminan por la misma letra” si se cumple esa condición, devolviendo “Ambos nombres comienzan y terminan por la misma letra” si se cumple esa condición, o “Los nombres no coinciden” si no se cumple ninguna de las condiciones anteriores** Tener en cuenta el orden de las condiciones!!!!!!!!"
   ]
  },
  {
   "cell_type": "code",
   "execution_count": 108,
   "id": "4b896ff4-60b2-459d-8f94-27d452c0827f",
   "metadata": {},
   "outputs": [
    {
     "name": "stdin",
     "output_type": "stream",
     "text": [
      "Introduzca un nombre: Rodrigo\n",
      "Introduzca otro nombre: Marina\n"
     ]
    },
    {
     "name": "stdout",
     "output_type": "stream",
     "text": [
      "Los nombres no coinciden\n"
     ]
    }
   ],
   "source": [
    "nombre = str(input(\"Introduzca un nombre:\"))\n",
    "snombre= str(input(\"Introduzca otro nombre:\"))\n",
    "             \n",
    "if nombre[0] == snombre[0] and nombre[-1] == snombre[-1]:\n",
    "    print (\"Ambos nombres comienzan y terminan por la misma letra\")\n",
    "elif nombre[0] == snombre[0]:\n",
    "    print (\"Ambos nombres comienzan por la misma letra\")\n",
    "elif nombre[-1] == snombre[-1]:\n",
    "    print (\"Ambos nombres terminan por la misma letra\")\n",
    "else:\n",
    "    print (\"Los nombres no coinciden\")"
   ]
  },
  {
   "cell_type": "markdown",
   "id": "9b57cd94-f2ce-4f28-9704-ffd3928c8108",
   "metadata": {},
   "source": [
    "**Crea un programa que calcule cuál sería el salario de una persona que va a recibir un aumento este año, en función de su salario actual, teniendo en cuenta que si su salario actual es menor de 15.000 recibirá un 10% de subida, que si su salario actual está entre 15.000 y 20.000 recibirá un 5% de subida y que si su salario es mayor de 20.000 recibirá un 2,5% de subida**"
   ]
  },
  {
   "cell_type": "code",
   "execution_count": 119,
   "id": "b21d4619-2d9c-4ebb-86ef-88f21a7b0fce",
   "metadata": {},
   "outputs": [
    {
     "name": "stdin",
     "output_type": "stream",
     "text": [
      "Salario anual: 25000\n"
     ]
    },
    {
     "name": "stdout",
     "output_type": "stream",
     "text": [
      "Su nuevo salario será 25625.0\n"
     ]
    }
   ],
   "source": [
    "salario = float(input(\"Salario anual:\"))\n",
    "\n",
    "if salario < 15000:\n",
    "    salario = salario*1.1\n",
    "elif salario > 20000:\n",
    "    salario = salario*1.025\n",
    "else:\n",
    "    salario = salario*1.05\n",
    "\n",
    "print (\"Su nuevo salario será\", round(salario, 2))"
   ]
  },
  {
   "cell_type": "markdown",
   "id": "ff064104-1378-4a95-829e-bd146491fc53",
   "metadata": {},
   "source": [
    "**Crea un programa que calcule el precio de una entrada al teatro teniendo en cuenta la siguiente información:\n",
    "\n",
    "    ● Si la entrada es de tipo 1, situada en el patio de butacas, el precio es 60, pero si está en la entreplanta, tipo 2, es de 45.\n",
    "\n",
    "    ● Si la persona que va a ver el espectáculo es menor de edad o es mayor de 65 años, la entrada tendrá un descuento del 20%.\n",
    "\n",
    "    ● Además, si se compran 4 o más entradas a la vez, habrá un descuento adicional del 2%.**\n",
    "    \n",
    "    ------ ¿por qué se realiza una compra excluyente?\n",
    "   "
   ]
  },
  {
   "cell_type": "code",
   "execution_count": 201,
   "id": "eb7ec4dc-e602-4e3e-9d1e-07822122e626",
   "metadata": {},
   "outputs": [
    {
     "name": "stdout",
     "output_type": "stream",
     "text": [
      "Elige tu tipo de entrada:\n"
     ]
    },
    {
     "name": "stdin",
     "output_type": "stream",
     "text": [
      "Patio de butacas para mayores de 65 o menores de 18: 1\n",
      "Entreplanta para mayores de 65 o menores de 18: 1\n",
      "Entrada general butacas: 1\n",
      "Entrada general entreplanta: 1\n"
     ]
    },
    {
     "name": "stdout",
     "output_type": "stream",
     "text": [
      "El total de su compra ha sido: 185.22\n"
     ]
    }
   ],
   "source": [
    "print (\"Elige tu tipo de entrada:\")\n",
    "butacas1 = int(input(\"Patio de butacas para mayores de 65 o menores de 18:\"))\n",
    "entreplanta1 = int(input(\"Entreplanta para mayores de 65 o menores de 18:\"))\n",
    "general1 = int(input(\"Entrada general butacas:\"))\n",
    "general2 = int(input(\"Entrada general entreplanta:\"))\n",
    "\n",
    "p_butacas = 60  #precios\n",
    "p_entreplanta = 45\n",
    "\n",
    "precio_total = (((butacas1 * p_butacas)-(butacas1 * p_butacas * 0.2))+((entreplanta1 * p_entreplanta)\n",
    "    -(entreplanta1 * p_entreplanta * 0.2))+ general1 * precio_butacas + general2 * p_entreplanta)\n",
    "\n",
    "if butacas1 + entreplanta1 + general1 + general2 >= 4:\n",
    "    precio_total = precio_total - (precio_total*0.02)\n",
    "\n",
    "else:\n",
    "    precio_total\n",
    "\n",
    "print(\"El total de su compra ha sido:\", precio_total)\n",
    "                  "
   ]
  },
  {
   "cell_type": "markdown",
   "id": "2b9326fa-9344-48e4-baa0-bd7fdde2243b",
   "metadata": {},
   "source": [
    "**FUTURO**"
   ]
  },
  {
   "cell_type": "code",
   "execution_count": 216,
   "id": "eee41a58-8b2c-46de-89ba-2d048969f496",
   "metadata": {},
   "outputs": [
    {
     "name": "stdout",
     "output_type": "stream",
     "text": [
      "¿Quieres saber tu futuro?\n"
     ]
    },
    {
     "name": "stdin",
     "output_type": "stream",
     "text": [
      "Hazme una pregunta de sí o no: ¿Puede alguien darme ánimos?\n"
     ]
    },
    {
     "name": "stdout",
     "output_type": "stream",
     "text": [
      "No, definitivamente no.\n"
     ]
    }
   ],
   "source": [
    "import random\n",
    "\n",
    "print (\"¿Quieres saber tu futuro?\")\n",
    "\n",
    "fururo = str(input(\"Hazme una pregunta de sí o no:\"))\n",
    "a = \"Sí, definitivamente sí.\"\n",
    "b = \"Probablemente.\"\n",
    "c = \"No lo sé, pregunta de nuevo.\"\n",
    "d = \"Prueba más tarde.\"\n",
    "e = \"Mejor que no lo sepas.\"\n",
    "f = \"No, definitivamente no.\"\n",
    "g = \"No pinta muy bien.\"\n",
    "h = \"Tengo dudas al respecto.\"\n",
    "\n",
    "respuesta = [a,b,c,d,e,f,g,h]\n",
    "adivinador = random.choice (respuesta)\n",
    "print (adivinador)"
   ]
  },
  {
   "cell_type": "markdown",
   "id": "73b4dfd6-2a22-4e4f-96d1-3bc6672324c9",
   "metadata": {},
   "source": [
    "**TIPO DE EMPRENDEDOR**"
   ]
  },
  {
   "cell_type": "code",
   "execution_count": 259,
   "id": "16692f89-5d59-42bb-82a0-a8afbd983fac",
   "metadata": {},
   "outputs": [
    {
     "name": "stdout",
     "output_type": "stream",
     "text": [
      "¿Cuál de estas palabras te define mejor? Elige una e introduce 1, 2, 3 o 4\n"
     ]
    },
    {
     "name": "stdin",
     "output_type": "stream",
     "text": [
      "1.Soñador\n",
      " 2.Objetivo\n",
      " 3.Influenciador\n",
      " 4.Sensible\n",
      " 2\n"
     ]
    },
    {
     "name": "stdout",
     "output_type": "stream",
     "text": [
      "Cuando vas a empezar un nuevo proyecto, ¿qué es lo primero en lo que piensas?Elige una e introduce 1, 2, 3 o 4\n"
     ]
    },
    {
     "name": "stdin",
     "output_type": "stream",
     "text": [
      "1.En lo que puede salir bien y lo que puede salir mal, para prevenir las consecuencias\n",
      " 2.En lo que el proyecto va a aportar a los demás\n",
      " 3.En las ideas que se me pasan por la cabeza para llevarlo a cabo \n",
      " 4.En cómo voy a motivar al equipo para llevarlo a cabo\n",
      " 1\n"
     ]
    },
    {
     "name": "stdout",
     "output_type": "stream",
     "text": [
      "¿Cómo crees que se deben llevar a cabo los proyectos? Elige una e introduce 1, 2, 3 o 4\n"
     ]
    },
    {
     "name": "stdin",
     "output_type": "stream",
     "text": [
      "1.Con pasión y constancia\n",
      " 2.Centrándose en un foco concreto cada vez\n",
      " 3.Pensando en el equipo\n",
      " 4.De forma íntegra\n",
      " 1\n"
     ]
    },
    {
     "name": "stdout",
     "output_type": "stream",
     "text": [
      "Eres un emprendedor visionario\n"
     ]
    }
   ],
   "source": [
    "print (\"¿Cuál de estas palabras te define mejor? Elige una e introduce 1, 2, 3 o 4\")\n",
    "comosoy = str(input(\"1.Soñador\\n 2.Objetivo\\n 3.Influenciador\\n 4.Sensible\\n\"))\n",
    "\n",
    "respuesta = {\"visionario\":0, \"especialista\":0, \"persuasivo\":0, \"social\":0}\n",
    "\n",
    "if comosoy == 1:\n",
    "    respuesta[\"visionario\"] +=1\n",
    "elif comosoy == 2:\n",
    "    respuesta[\"especialista\"] +=1\n",
    "elif comosoy == 3:\n",
    "    respuesta[\"persuasivo\"] +=1\n",
    "elif comosoy == 4:\n",
    "    respuesta[\"social\"] +=1\n",
    "else:\n",
    "    'La respuesta no es válida.'\n",
    "    \n",
    "print (\"Cuando vas a empezar un nuevo proyecto, ¿qué es lo primero en lo que piensas?Elige una e introduce 1, 2, 3 o 4\")\n",
    "emprendedor = str(input(\"1.En lo que puede salir bien y lo que puede salir mal, para prevenir las consecuencias\\n 2.En lo que el proyecto va a aportar a los demás\\n 3.En las ideas que se me pasan por la cabeza para llevarlo a cabo \\n 4.En cómo voy a motivar al equipo para llevarlo a cabo\\n\"))\n",
    "\n",
    "                         \n",
    "if emprendedor == 1:\n",
    "    respuesta[\"especialista\"] +=1\n",
    "elif emprendedor == 2: \n",
    "    respuesta[\"social\"] +=1\n",
    "elif emprendedor == 3:\n",
    "    respuesta[\"visionario\"] +=1\n",
    "elif emprendedor == 4:\n",
    "    respuesta[\"persuasivo\"] +=1\n",
    "else:\n",
    "    'La respuesta no es válida.'\n",
    "                         \n",
    "print (\"¿Cómo crees que se deben llevar a cabo los proyectos? Elige una e introduce 1, 2, 3 o 4\")\n",
    "proyecto = str(input(\"1.Con pasión y constancia\\n 2.Centrándose en un foco concreto cada vez\\n 3.Pensando en el equipo\\n 4.De forma íntegra\\n\"))\n",
    "\n",
    "if proyecto == 1:\n",
    "    respuesta[\"visionario\"] +=1\n",
    "elif emprendedor == 2: \n",
    "    respuesta[\"especialista\"] +=1\n",
    "elif emprendedor == 3:\n",
    "    respuesta[\"persuasivo\"] +=1\n",
    "elif emprendedor == 4:\n",
    "    respuesta[\"social\"] +=1\n",
    "else:\n",
    "    'La respuesta no es válida.'\n",
    "\n",
    "solucion=max(respuesta)\n",
    "print (f\"Eres un emprendedor\", solucion)"
   ]
  },
  {
   "cell_type": "markdown",
   "id": "ee552102-42df-4828-b460-bf5c4840c0bc",
   "metadata": {},
   "source": []
  }
 ],
 "metadata": {
  "kernelspec": {
   "display_name": "Python 3 (ipykernel)",
   "language": "python",
   "name": "python3"
  },
  "language_info": {
   "codemirror_mode": {
    "name": "ipython",
    "version": 3
   },
   "file_extension": ".py",
   "mimetype": "text/x-python",
   "name": "python",
   "nbconvert_exporter": "python",
   "pygments_lexer": "ipython3",
   "version": "3.9.13"
  }
 },
 "nbformat": 4,
 "nbformat_minor": 5
}
