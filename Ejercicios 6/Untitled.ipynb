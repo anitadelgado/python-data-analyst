{
 "cells": [
  {
   "cell_type": "markdown",
   "id": "0478132b-a4a0-4813-84df-43b5788d34db",
   "metadata": {},
   "source": [
    "JESE: Quizá y sobre todo al principio el área de mejora sería más empatía y comunicación efectiva. Y mis felicitaciones son por el punto  de proporcionar conclusiones, datos etc"
   ]
  }
 ],
 "metadata": {
  "kernelspec": {
   "display_name": "Python 3 (ipykernel)",
   "language": "python",
   "name": "python3"
  },
  "language_info": {
   "codemirror_mode": {
    "name": "ipython",
    "version": 3
   },
   "file_extension": ".py",
   "mimetype": "text/x-python",
   "name": "python",
   "nbconvert_exporter": "python",
   "pygments_lexer": "ipython3",
   "version": "3.9.13"
  }
 },
 "nbformat": 4,
 "nbformat_minor": 5
}
