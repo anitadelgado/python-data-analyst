{
 "cells": [
  {
   "cell_type": "code",
   "execution_count": 7,
   "id": "505fa7e4-0eb3-4ad8-8e42-b0d95248ef32",
   "metadata": {},
   "outputs": [
    {
     "name": "stdout",
     "output_type": "stream",
     "text": [
      "-40\n",
      "9\n"
     ]
    }
   ],
   "source": [
    "#Crea un array de 10 elementos y obtén su elemento máximo y mínimo\n",
    "\n",
    "import numpy as np\n",
    "array = np.array([4, 8, 3, 6, 1, 9, 2, 7, 5, -40])\n",
    "\n",
    "print(array.min())\n",
    "print(array.max())"
   ]
  },
  {
   "cell_type": "code",
   "execution_count": 8,
   "id": "a0871ac7-cb50-4619-b7d2-c7a45724cbf5",
   "metadata": {},
   "outputs": [
    {
     "name": "stdout",
     "output_type": "stream",
     "text": [
      "2022-05-25 00:00:00\n"
     ]
    }
   ],
   "source": [
    "from datetime import datetime\n",
    " \n",
    "fecha_texto = \"2022-05-25\"\n",
    " \n",
    "fecha = datetime.strptime(fecha_texto, '%Y-%m-%d')\n",
    " \n",
    "print(fecha)"
   ]
  },
  {
   "cell_type": "code",
   "execution_count": 16,
   "id": "764236dd-7d2c-464e-8c45-af9c9e4b04e4",
   "metadata": {},
   "outputs": [
    {
     "name": "stdout",
     "output_type": "stream",
     "text": [
      "2023-04-12 10:54:29.680187\n"
     ]
    }
   ],
   "source": [
    "#Ejercicio 1.8.1.\n",
    "#Hay una librería preinstalada en Python que permite trabajar con fechas y horas. \n",
    "#Impórtala y, con uno de los objetos definidos en ella, que te permite representar fechas, utiliza una función ya definida para mostrar por pantalla la fecha de hoy. \n",
    "\n",
    "from datetime import datetime\n",
    "print (datetime.now())"
   ]
  },
  {
   "cell_type": "code",
   "execution_count": 20,
   "id": "5640af06-8c0a-4463-a91e-02dfb08d694a",
   "metadata": {},
   "outputs": [
    {
     "name": "stdout",
     "output_type": "stream",
     "text": [
      "2023-04-12 10:56:08.384337\n"
     ]
    }
   ],
   "source": [
    "from datetime import datetime \n",
    "print (datetime.today())"
   ]
  },
  {
   "cell_type": "code",
   "execution_count": 24,
   "id": "8b9fd7ef-4fe7-4441-b506-f7bffaea5498",
   "metadata": {},
   "outputs": [
    {
     "name": "stdout",
     "output_type": "stream",
     "text": [
      "2023-04-12\n"
     ]
    }
   ],
   "source": [
    "#Ejercicio 1.8.2.\n",
    "#Ahora, importa solo el objeto que te permite representar fechas y, utilizando la misma función del ejercicio anterior, \n",
    "#muestra por pantalla la fecha de hoy.\n",
    "\n",
    "from datetime import date\n",
    "print (date.today())"
   ]
  },
  {
   "cell_type": "code",
   "execution_count": 3,
   "id": "18b7f788-b8a2-4da6-a1d2-02702e2913ea",
   "metadata": {},
   "outputs": [
    {
     "name": "stdout",
     "output_type": "stream",
     "text": [
      "2023-11-25\n",
      "2023-12-26\n"
     ]
    }
   ],
   "source": [
    "#Ejercicio 1.8.3.\n",
    "#Utilizando el mismo objeto del ejercicio anterior, data la fecha (2023, 11, 25) y sustitúyela por la fecha (2023, 12, 26) \n",
    "#utilizando el método replace, ya definido en ese objeto.\n",
    "\n",
    "from datetime import date\n",
    "fecha = date (2023,11,25)\n",
    "fecha_nueva = fecha.replace (2023,12,26)\n",
    "print (fecha)\n",
    "print (fecha_nueva)\n",
    "\n"
   ]
  },
  {
   "cell_type": "code",
   "execution_count": 1,
   "id": "064683b1-0467-4543-babe-b6edc5d94480",
   "metadata": {},
   "outputs": [
    {
     "name": "stdout",
     "output_type": "stream",
     "text": [
      "0.08259533654328466\n"
     ]
    }
   ],
   "source": [
    "#Ejercicio 1.8.4.\n",
    "#¿Qué función de la librería random utilizarías si quieres generar un número decimal aleatorio entre 0.0 y 1.0?\n",
    "\n",
    "import random\n",
    "num = random.random()\n",
    "print (num)"
   ]
  },
  {
   "cell_type": "code",
   "execution_count": 2,
   "id": "44a25fdc-6ba7-49e1-8308-c8ced18f1fde",
   "metadata": {},
   "outputs": [
    {
     "name": "stdout",
     "output_type": "stream",
     "text": [
      "4.26356510577944\n"
     ]
    }
   ],
   "source": [
    "#Ejercicio 1.8.5.\n",
    "#Y si lo que quieres es generar un número decimal aleatorio entre 4 y 6, ¿qué función de la librería random utilizarías? \n",
    "#Y si el número no es decimal, sino entero, ¿utilizarías una función diferente?\n",
    "\n",
    "import random\n",
    "num = random.uniform (4,7)\n",
    "print (num)"
   ]
  },
  {
   "cell_type": "code",
   "execution_count": 1,
   "id": "773417b7-419d-4e68-bce2-3c72f41881a8",
   "metadata": {},
   "outputs": [
    {
     "name": "stdout",
     "output_type": "stream",
     "text": [
      "6\n"
     ]
    }
   ],
   "source": [
    "import random\n",
    "num = random.randint (4,7)\n",
    "print (num)"
   ]
  },
  {
   "cell_type": "code",
   "execution_count": null,
   "id": "78d74765-0ab4-458a-8d3c-07f98e8ba307",
   "metadata": {},
   "outputs": [],
   "source": []
  }
 ],
 "metadata": {
  "kernelspec": {
   "display_name": "Python 3 (ipykernel)",
   "language": "python",
   "name": "python3"
  },
  "language_info": {
   "codemirror_mode": {
    "name": "ipython",
    "version": 3
   },
   "file_extension": ".py",
   "mimetype": "text/x-python",
   "name": "python",
   "nbconvert_exporter": "python",
   "pygments_lexer": "ipython3",
   "version": "3.9.13"
  }
 },
 "nbformat": 4,
 "nbformat_minor": 5
}
