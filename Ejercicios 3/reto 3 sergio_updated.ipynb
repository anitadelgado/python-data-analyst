{
 "cells": [
  {
   "cell_type": "markdown",
   "id": "b48eee27",
   "metadata": {
    "id": "b48eee27"
   },
   "source": [
    "## PETICION"
   ]
  },
  {
   "cell_type": "markdown",
   "id": "7ba9c1dc",
   "metadata": {
    "id": "7ba9c1dc"
   },
   "source": [
    "HOLA COMPAÑEROS NO SE SI ALGUNO DE USTEDES ESTE TRABAJANDO CON MODELOS DE ARBOL Y CLASIFICACION O SIMILARES, YA QUE ESTOY ALGO PERDIDO Y DE ACUERDO A MI ANALISIS Y AL NO ENCONTRAR METODOS LINEALES SE ME OCURRIO QUE LO QUE EL CLIENTE REQUIERE ES POR UNA PARTE DESCRIBIR EL PASADO (LOS CLIENTES QUE YA SE FUERON) Y CON ELLOS PREDECIR LOS CLIENTES ACTUALES.\n",
    "\n",
    "PERO DE TODO ELLO SURGEN PROBLEMAS DE CLASIFICACION DE CLIENTES, PROBLEMAS DE SESGO Y DESBALANCEO Y TAMBIEN DE EL PESO DE CIERTAS VARIABLES YA YA ANALIZADAS PARECEN TENER CIERTO SENTIDO O NO\n",
    "\n",
    "POR LO QUE ME ATREVO A MOSTRARLES MI TRABAJO Y YA QUE SEGURAMENTE USTEDES SABEN BASTANTE MAS, ME PREGUNTO QUIEN ESTA CREANDO UN MODELO SIMILAR, QUIEN TIENE ALGUNO DE ESTOS PROBLEMAS, QUE LES PARECE MI IDEA, QUE RECOMENDACIONES ME PUEDEN DAR DE QUE MODELOS UTILIZAR PARA BALANCEAR EL ALGORITMO, METRICAS, BALANCEO, ETC, CUALQUIER APORTACION ES BIENVENIDA"
   ]
  },
  {
   "cell_type": "markdown",
   "id": "24547c17",
   "metadata": {
    "id": "24547c17"
   },
   "source": [
    "## CONTEXTO Y OBJETIVOS"
   ]
  },
  {
   "cell_type": "markdown",
   "id": "5b7df574",
   "metadata": {
    "id": "5b7df574"
   },
   "source": [
    "*CONTEXTO:\n",
    "ESTUVE ANALIZANDO DESDE VARIOS PUNTOS DE VISTA EL DATASET Y AL SER RELACIONADO CON LAS CIENCIAS SOCIALES NO ENCONTRÉ UNA SOLA RELACION DIRECTA ENTRE EL ABANDONO DE LA BANCA Y LAS VARIABLES, SIN EMBARGO CONSULTE A UN CONOCIDO QUE TRABAJA EN BANCA Y TAMPOCO LE PARECE QUE HAYA CO RELACION DIRECTA SINO QUE INFLUYEN INDIRECTAMENTE.\n",
    "\n",
    "AQUI TENEMOS TRES ASPECTOS, EL CLIENTE DEL BANCO, EL BANCO Y EL ENTORNO SOCIAL EN EL QUE SE DESENVUELVEN AMBOS\n",
    "\n",
    "ASI, EL CLIENTE NO TOMA DECISIONES PARA DEJAR SU BANCO POR VARIABLES COMO EDAD O GENERO SIN EMBARGO LAS CIRCUNSTANCIAS PROPIAS DE LA EDAD POR EJEMPLO SI LO EMPUJAN POR EJEMPLO ES MAS PROPENSO A NO TENER BANCA UN JOVEN DE 20 AÑOS Y ESTUDIANTE QUE UN PROFESIONISTA DE 40.\n",
    "\n",
    "EL BANCO Y EL ENTORNO SOCIAL INFLUYEN EN EL CLIENTE INDIRECTAMENTE EN SU HISTORIAL CREDITICIO, AHORRO, SALARIO, ASI COMO SU LOCALIZACION GEOGRAFICA Y ESTO A SU VEZ REDUNDA EN SU ACCESO A LA BANCA.\n",
    "\n",
    "POR EJEMPLO NO TIENEN EL MISMO INGRESO NI EL MISMO AHORRO O CAPACIDAD CREDITICIA ALGUIEN QUE VIVE EN LA CAPITAL DEL PAIS QUE ALGUIEN QUE VIVE EN UN ESTADO PEQUEÑO POR LO QUE TENDERÁ A ABANDONAR LA BANCA O A ENTRAR EN OTROS SISTEMAS INFORMALES, POR LO QUE NO PODEMOS CLASIFICAR IGUAL A LOS HABITANTES DE TEXAS Y CALIFORNIA ESTADOS RICOS CON ALABAMA (CONSIDERADO POBRE)\n",
    "\n",
    "\n",
    "************************************\n",
    "OBJETIVOS\n",
    "\n",
    "ESTADISTICA DESCRIPTIVA\n",
    "MI OBJETIVO ES POR UN LADO CREAR UN MODELO DESCRIPTIVO, ES DECIR QUE POR MEDIO DE CLASIFICACIÓN / AGRUPACIÓN DESCRIBA\n",
    "CUAL FUE EL COMPORTAMIENTO DE LOS CLIENTES QUE YA DEJARON EL BANCO ( LOS EXIT 0 O COMO YO LES LLAMO \" EL HISTÓRICO\")\n",
    "\n",
    "ESTE MODELO SERVIRÁ PARA CREAR VISUALIZACIONES PARA LA TOMA DE DECISIONES A TRAVEZ DE PORCENTAJES, GRAFICOS, ETC.\n",
    "\n",
    "ESTADISTICA INFERENCIAL\n",
    "\n",
    "UNA VEZ TENIENDO ESTE MODELO HISTORICO LIMPIO Y CREANDO DATASETS PARA CADA UNO ENTRENAR AL MODELO PARA QUE BASADO EN EL HISTORICO PEDA PREDECIR A LOS CLIENTES ACTIVOS Y PASIVOS, Y SU PROBABILIDAD DE DEJAR DE SER CLIENTES.\n",
    "\n",
    "************************************\n",
    "\n"
   ]
  },
  {
   "cell_type": "markdown",
   "id": "cbfc6a2e",
   "metadata": {
    "id": "cbfc6a2e"
   },
   "source": [
    "## EL PROBLEMA QUE SE PRESENTA"
   ]
  },
  {
   "cell_type": "markdown",
   "id": "aea5813a",
   "metadata": {
    "id": "aea5813a"
   },
   "source": [
    "PROBLEMAS\n",
    "\n",
    "EL TARGET EXITED\n",
    "\n",
    "COMO LES COMENTABA EXISTEN DOS VARIABLES QUE HABLAN DE LA CONDICION DEL CLIENTE QUE SON IS ACTIVE MEMBER  Y LA OTRA EXITED\n",
    "\n",
    "ACTIVE MEMBER SIGNIFICA SI HA TENIDO MOVIMIENTOS RECIENTES(1) O NO (0)\n",
    "EXITED SIGFICAS SI ES CLIENTE (1) O SI SE HA DADO DE BAJA (0)\n",
    "\n",
    "SI SE COMBINAN TENEMOS 4 CASOS\n",
    "\n",
    "\n",
    "**LOS CUATRO CASOS O TIPOS DE CLIENTES**\n",
    "\n",
    "CLIENTE 00 - CLIENTE HISTORICO ( 37 %)\n",
    "EL CLIENTE QUE YA NO TIENE MOVIMIENTOS RECIENTES Y QUE YA CANCELO SUS CUENTAS, ES DECIR YA SE FUE Y ESTE CLIENTE ES EL QUE NOS SIRVE COMO BASE PARA EL ANALISIS DESCRIPTIVO E INFERENCIAL\n",
    "\n",
    "CLIENTE 11 - CLIENTE ACTIVO (6%)\n",
    "ES UN CLIENTE QUE TIENE MOVIENTOS RECIENTES Y SU CONTRATO CON LA BANCA ESTA ACTIVO, SU PROBABILIDAD DE IRSE DEL BANCO ES MENOR, EL CLIENTE FELIZ AL QUE HAY QUE PREDECIR SI PODRÍA IRSE O NO\n",
    "\n",
    "CLIENTE 01 - CLIENTE PASIVO (11%)\n",
    "NO HA TENIDO MOVIMIENTOS RECIENTES NO SE HA RETIRADO PERO TIENE UNA MAYOR PROBABILIDAD DE NO ESTAR A GUSTO CON EL BANCO DE IRSE, ES IMPORTANTE PREDECIR\n",
    "\n",
    "CLIENTE 10 - CLIENTE CON ERROR (45%)\n",
    "ESTOS CLIENTES DICEN TENER MOVIMIENTOS RECIENTES PERO YA NO SER PARTE DEL BANCO, LO CUAL SE VUELVE UNA CONTRADICCIÓN, Y NO POSEEMOS MAS INFORMACIÓN PARA SABER SI LA CUENTA ESTA ACTIVA REALMENTE\n",
    "\n",
    "ESTE CLIENTE PUEDE SER ELIMINADO TOTALMENTE, O UNIRLO YA SEA AL HISTORICO O A LA PREDICCIÓN, PERO HAY QUE CONSIDERAR SI PUEDE CAUSAR ERRORES, TAMBIEN SE PUEDE TRATAR DE REFORMULAR REGLAS PARA TRATAR DE METERLOS EN LOS OTROS CLIENTES USANDO DATOS COMO SU SCORE CREDITICIO, SU SALDO, NUMERO DE SERVICIOS, SI TIENE TARJETAS, SALARIO Y ANTIGUEDAD, YA QUE POR EJEMPLO PUEDE SER UN CLIENTE ACTIVO CON UN CREDITO DE TARJETA Y QUE SU SCORE, SU SALDO O SU SALARIO INDIQUEN QUE ES POSIBLE SE HAYA IDO O QUE POR EL CONTRARIO UN CLIENTE CON UN BUEN SALARIO Y SCORE SIGA CON EL BANCO Y HAYA SIDO ERROR DE CLASIFICACION\n",
    "\n",
    "EL PROBLEMA RADICA EN QUE ES CASI LA MITAD DEL DATASET\n",
    "\n",
    "tipo de cliente\n",
    "error        4533\n",
    "historico    3764\n",
    "pasivo       1085\n",
    "activo        618\n",
    "\n",
    "\n",
    "historico para analizar 37%\n",
    "activos 6%\n",
    "pasivos 11%\n",
    "suma de activos y pasivos para predecir que cliente deja la banca 17%\n",
    "clientes con errores 45%\n",
    "\n",
    "LOS ERRORES SON MAS QUE EL HISTORICO Y QUE LOS CLIENTES A PREDECIR\n"
   ]
  },
  {
   "cell_type": "markdown",
   "id": "470a6898",
   "metadata": {
    "id": "470a6898"
   },
   "source": [
    "## POSIBLES SESGOS Y DESBALANCEOS\n",
    "\n",
    "VIENEN DADOS DE LA DESPROPORCION DE LAS VARIABLES\n",
    "\n",
    "EL PRIMERO ES QUE NO ES IGUAL EL NUMERO DE HOMBRES Y DE MUJERES\n",
    "\n",
    "EL NUMERO DE PRODUCTOS ES EN SU MAYORIA UNO O DOS, SIN EMBARGO EL 70% TIENEN TARJETA DE CREDITO POR LO CUAL LA TARJETA DE CREDITO Y EL HISTORIAL CREDITICIO SE VUELVEN IMPORTANTES EN EL MODELO\n",
    "\n",
    "LOS ESTADOS NO TIENEN UNA POBLACION SIMILAR"
   ]
  },
  {
   "cell_type": "code",
   "execution_count": null,
   "id": "25c307bb",
   "metadata": {
    "id": "25c307bb",
    "outputId": "1abb4605-b05b-4d6d-b5a1-0025b1f6e763"
   },
   "outputs": [
    {
     "data": {
      "text/html": [
       "<div>\n",
       "<style scoped>\n",
       "    .dataframe tbody tr th:only-of-type {\n",
       "        vertical-align: middle;\n",
       "    }\n",
       "\n",
       "    .dataframe tbody tr th {\n",
       "        vertical-align: top;\n",
       "    }\n",
       "\n",
       "    .dataframe thead th {\n",
       "        text-align: right;\n",
       "    }\n",
       "</style>\n",
       "<table border=\"1\" class=\"dataframe\">\n",
       "  <thead>\n",
       "    <tr style=\"text-align: right;\">\n",
       "      <th></th>\n",
       "      <th>CreditScore</th>\n",
       "      <th>Gender</th>\n",
       "      <th>Balance</th>\n",
       "      <th>NumOfProducts</th>\n",
       "      <th>HasCrCard</th>\n",
       "      <th>IsActiveMember</th>\n",
       "      <th>Age</th>\n",
       "      <th>Geography</th>\n",
       "      <th>EstimatedSalary</th>\n",
       "      <th>Exited</th>\n",
       "      <th>Tenure</th>\n",
       "      <th>active_exit</th>\n",
       "      <th>categorico</th>\n",
       "    </tr>\n",
       "  </thead>\n",
       "  <tbody>\n",
       "    <tr>\n",
       "      <th>0</th>\n",
       "      <td>619</td>\n",
       "      <td>Female</td>\n",
       "      <td>0.00</td>\n",
       "      <td>1</td>\n",
       "      <td>1</td>\n",
       "      <td>1</td>\n",
       "      <td>42.0</td>\n",
       "      <td>Texas</td>\n",
       "      <td>101348.88</td>\n",
       "      <td>1</td>\n",
       "      <td>2</td>\n",
       "      <td>11</td>\n",
       "      <td>activo</td>\n",
       "    </tr>\n",
       "    <tr>\n",
       "      <th>1</th>\n",
       "      <td>608</td>\n",
       "      <td>Female</td>\n",
       "      <td>83807.86</td>\n",
       "      <td>1</td>\n",
       "      <td>0</td>\n",
       "      <td>1</td>\n",
       "      <td>41.0</td>\n",
       "      <td>California</td>\n",
       "      <td>112542.58</td>\n",
       "      <td>0</td>\n",
       "      <td>1</td>\n",
       "      <td>10</td>\n",
       "      <td>error</td>\n",
       "    </tr>\n",
       "    <tr>\n",
       "      <th>2</th>\n",
       "      <td>502</td>\n",
       "      <td>Female</td>\n",
       "      <td>159660.80</td>\n",
       "      <td>3</td>\n",
       "      <td>1</td>\n",
       "      <td>0</td>\n",
       "      <td>42.0</td>\n",
       "      <td>Texas</td>\n",
       "      <td>113931.57</td>\n",
       "      <td>1</td>\n",
       "      <td>8</td>\n",
       "      <td>01</td>\n",
       "      <td>pasivo</td>\n",
       "    </tr>\n",
       "    <tr>\n",
       "      <th>3</th>\n",
       "      <td>699</td>\n",
       "      <td>Female</td>\n",
       "      <td>0.00</td>\n",
       "      <td>2</td>\n",
       "      <td>0</td>\n",
       "      <td>0</td>\n",
       "      <td>39.0</td>\n",
       "      <td>Texas</td>\n",
       "      <td>93826.63</td>\n",
       "      <td>0</td>\n",
       "      <td>1</td>\n",
       "      <td>00</td>\n",
       "      <td>historico</td>\n",
       "    </tr>\n",
       "    <tr>\n",
       "      <th>4</th>\n",
       "      <td>850</td>\n",
       "      <td>Female</td>\n",
       "      <td>125510.82</td>\n",
       "      <td>1</td>\n",
       "      <td>1</td>\n",
       "      <td>1</td>\n",
       "      <td>43.0</td>\n",
       "      <td>California</td>\n",
       "      <td>79084.10</td>\n",
       "      <td>0</td>\n",
       "      <td>2</td>\n",
       "      <td>10</td>\n",
       "      <td>error</td>\n",
       "    </tr>\n",
       "    <tr>\n",
       "      <th>...</th>\n",
       "      <td>...</td>\n",
       "      <td>...</td>\n",
       "      <td>...</td>\n",
       "      <td>...</td>\n",
       "      <td>...</td>\n",
       "      <td>...</td>\n",
       "      <td>...</td>\n",
       "      <td>...</td>\n",
       "      <td>...</td>\n",
       "      <td>...</td>\n",
       "      <td>...</td>\n",
       "      <td>...</td>\n",
       "      <td>...</td>\n",
       "    </tr>\n",
       "    <tr>\n",
       "      <th>9995</th>\n",
       "      <td>771</td>\n",
       "      <td>Male</td>\n",
       "      <td>0.00</td>\n",
       "      <td>2</td>\n",
       "      <td>1</td>\n",
       "      <td>0</td>\n",
       "      <td>39.0</td>\n",
       "      <td>Texas</td>\n",
       "      <td>96270.64</td>\n",
       "      <td>0</td>\n",
       "      <td>5</td>\n",
       "      <td>00</td>\n",
       "      <td>historico</td>\n",
       "    </tr>\n",
       "    <tr>\n",
       "      <th>9996</th>\n",
       "      <td>516</td>\n",
       "      <td>Male</td>\n",
       "      <td>57369.61</td>\n",
       "      <td>1</td>\n",
       "      <td>1</td>\n",
       "      <td>1</td>\n",
       "      <td>35.0</td>\n",
       "      <td>Texas</td>\n",
       "      <td>101699.77</td>\n",
       "      <td>0</td>\n",
       "      <td>10</td>\n",
       "      <td>10</td>\n",
       "      <td>error</td>\n",
       "    </tr>\n",
       "    <tr>\n",
       "      <th>9997</th>\n",
       "      <td>709</td>\n",
       "      <td>Female</td>\n",
       "      <td>0.00</td>\n",
       "      <td>1</td>\n",
       "      <td>0</td>\n",
       "      <td>1</td>\n",
       "      <td>37.0</td>\n",
       "      <td>Texas</td>\n",
       "      <td>42085.58</td>\n",
       "      <td>1</td>\n",
       "      <td>7</td>\n",
       "      <td>11</td>\n",
       "      <td>activo</td>\n",
       "    </tr>\n",
       "    <tr>\n",
       "      <th>9998</th>\n",
       "      <td>772</td>\n",
       "      <td>Male</td>\n",
       "      <td>75075.31</td>\n",
       "      <td>2</td>\n",
       "      <td>1</td>\n",
       "      <td>0</td>\n",
       "      <td>42.0</td>\n",
       "      <td>Alabama</td>\n",
       "      <td>92888.52</td>\n",
       "      <td>1</td>\n",
       "      <td>3</td>\n",
       "      <td>01</td>\n",
       "      <td>pasivo</td>\n",
       "    </tr>\n",
       "    <tr>\n",
       "      <th>9999</th>\n",
       "      <td>792</td>\n",
       "      <td>Female</td>\n",
       "      <td>130142.79</td>\n",
       "      <td>1</td>\n",
       "      <td>1</td>\n",
       "      <td>0</td>\n",
       "      <td>28.0</td>\n",
       "      <td>Texas</td>\n",
       "      <td>38190.78</td>\n",
       "      <td>0</td>\n",
       "      <td>4</td>\n",
       "      <td>00</td>\n",
       "      <td>historico</td>\n",
       "    </tr>\n",
       "  </tbody>\n",
       "</table>\n",
       "<p>10000 rows × 13 columns</p>\n",
       "</div>"
      ],
      "text/plain": [
       "      CreditScore  Gender    Balance  NumOfProducts  HasCrCard  \\\n",
       "0             619  Female       0.00              1          1   \n",
       "1             608  Female   83807.86              1          0   \n",
       "2             502  Female  159660.80              3          1   \n",
       "3             699  Female       0.00              2          0   \n",
       "4             850  Female  125510.82              1          1   \n",
       "...           ...     ...        ...            ...        ...   \n",
       "9995          771    Male       0.00              2          1   \n",
       "9996          516    Male   57369.61              1          1   \n",
       "9997          709  Female       0.00              1          0   \n",
       "9998          772    Male   75075.31              2          1   \n",
       "9999          792  Female  130142.79              1          1   \n",
       "\n",
       "      IsActiveMember   Age   Geography  EstimatedSalary  Exited  Tenure  \\\n",
       "0                  1  42.0       Texas        101348.88       1       2   \n",
       "1                  1  41.0  California        112542.58       0       1   \n",
       "2                  0  42.0       Texas        113931.57       1       8   \n",
       "3                  0  39.0       Texas         93826.63       0       1   \n",
       "4                  1  43.0  California         79084.10       0       2   \n",
       "...              ...   ...         ...              ...     ...     ...   \n",
       "9995               0  39.0       Texas         96270.64       0       5   \n",
       "9996               1  35.0       Texas        101699.77       0      10   \n",
       "9997               1  37.0       Texas         42085.58       1       7   \n",
       "9998               0  42.0     Alabama         92888.52       1       3   \n",
       "9999               0  28.0       Texas         38190.78       0       4   \n",
       "\n",
       "     active_exit categorico  \n",
       "0             11     activo  \n",
       "1             10      error  \n",
       "2             01     pasivo  \n",
       "3             00  historico  \n",
       "4             10      error  \n",
       "...          ...        ...  \n",
       "9995          00  historico  \n",
       "9996          10      error  \n",
       "9997          11     activo  \n",
       "9998          01     pasivo  \n",
       "9999          00  historico  \n",
       "\n",
       "[10000 rows x 13 columns]"
      ]
     },
     "execution_count": 1,
     "metadata": {},
     "output_type": "execute_result"
    }
   ],
   "source": [
    "# carga y limpieza de datos\n",
    "\n",
    "import pandas as pd\n",
    "\n",
    "path = '/home/luisa/Downloads/df_estados_bank.csv'\n",
    "df = pd.read_csv(path, sep =\",\")\n",
    "\n",
    "# eliminacion de columnas\n",
    "# nota : es posible que desee eliminar otras columnas\n",
    "df.drop([\"Unnamed: 0\", \"RowNumber\", \"CustomerId\", \"Surname\",], axis=\"columns\", inplace=True)\n",
    "\n",
    "# relleno de nulos con la mediana\n",
    "\n",
    "medianas = df[[\"Age\", \"EstimatedSalary\"]].median()\n",
    "df.fillna(value=medianas, inplace=True)\n",
    "\n",
    "#aqui clasifico los clientes para determinar las clasificaciones y entrenamientos del target\n",
    "\n",
    "# primero veo que tipo de cliente es activo y con contrato, si ya termino el contrato etc\n",
    "df[\"active_exit\"] = df[\"IsActiveMember\"].astype(str) + df[\"Exited\"].astype(str)\n",
    "\n",
    "\n",
    "#aqui les doy mi clasificacion para el entrenamiento\n",
    "\n",
    "#00 es un cliente que no tenido actividad reciente y ya cancelo su cuenta ya se fue es el historico para entrenar y para visualizaciones\n",
    "#11 cliente con actividad reciente que sigue con el banco es un cliente contento pero podemos predecir si se podria ir\n",
    "#01 cliente pasivo no ha tenido movimientos pero sigue en el banco este es el que mas posibilidad tiene de irse\n",
    "#10 error cliente que dice tener movimientos pero si ya se fue... aqui hay errores humanos\n",
    "#el cliente 10 o sigue o se fue no ambos, puede eliminarse, alimentar el algoritmo o intentar predecirse\n",
    "\n",
    "\n",
    "\n",
    "\n",
    "df[\"categorico\"] = df[\"active_exit\"].map({\"00\": \"historico\", \"11\": \"activo\", \"01\": \"pasivo\", \"10\": \"error\", })\n",
    "#\n",
    "\n",
    "\n",
    "df"
   ]
  },
  {
   "cell_type": "code",
   "execution_count": null,
   "id": "1cf35c8b",
   "metadata": {
    "id": "1cf35c8b",
    "outputId": "60d0f33a-c606-4fe2-ee58-2995501461f4"
   },
   "outputs": [
    {
     "name": "stdout",
     "output_type": "stream",
     "text": [
      "POSIBLES SESGOS Y DESBALANCEOS\n",
      "*****************\n",
      "genero\n",
      "Male      5457\n",
      "Female    4543\n",
      "Name: Gender, dtype: int64\n",
      "*****************\n",
      "numero de productos\n",
      "1    5084\n",
      "2    4590\n",
      "3     266\n",
      "4      60\n",
      "Name: NumOfProducts, dtype: int64\n",
      "*****************\n",
      "tiene tarjeta de credito\n",
      "1    7055\n",
      "0    2945\n",
      "Name: HasCrCard, dtype: int64\n",
      "*****************\n",
      "estado\n",
      "Texas         5014\n",
      "Alabama       2509\n",
      "California    2477\n",
      "Name: Geography, dtype: int64\n",
      "*****************\n",
      "tipo de cliente\n",
      "error        4533\n",
      "historico    3764\n",
      "pasivo       1085\n",
      "activo        618\n",
      "Name: categorico, dtype: int64\n",
      "*****************\n",
      "CreditScore\n",
      "850    233\n",
      "678     63\n",
      "655     54\n",
      "705     53\n",
      "667     53\n",
      "      ... \n",
      "404      1\n",
      "351      1\n",
      "365      1\n",
      "417      1\n",
      "419      1\n",
      "Name: CreditScore, Length: 460, dtype: int64\n"
     ]
    }
   ],
   "source": [
    "#posibles sesgos y desbalanceos\n",
    "\n",
    "print(\"POSIBLES SESGOS Y DESBALANCEOS\")\n",
    "print(\"*****************\")\n",
    "print(\"genero\")\n",
    "conteo_Gender = df[\"Gender\"].value_counts()\n",
    "print(conteo_Gender)\n",
    "print(\"*****************\")\n",
    "print(\"numero de productos\")\n",
    "conteo_NumOfProducts = df[\"NumOfProducts\"].value_counts()\n",
    "print(conteo_NumOfProducts)\n",
    "print(\"*****************\")\n",
    "print(\"tiene tarjeta de credito\")\n",
    "conteo_HasCrCard = df[\"HasCrCard\"].value_counts()\n",
    "print(conteo_HasCrCard)\n",
    "print(\"*****************\")\n",
    "print(\"estado\")\n",
    "conteo_Geography = df[\"Geography\"].value_counts()\n",
    "print(conteo_Geography)\n",
    "print(\"*****************\")\n",
    "print(\"tipo de cliente\")\n",
    "conteo_categorico = df[\"categorico\"].value_counts()\n",
    "print(conteo_categorico)\n",
    "\n",
    "print(\"*****************\")\n",
    "print(\"CreditScore\")\n",
    "conteo_CreditScore = df[\"CreditScore\"].value_counts()\n",
    "print(conteo_CreditScore)\n"
   ]
  },
  {
   "cell_type": "markdown",
   "id": "1df47320",
   "metadata": {
    "id": "1df47320"
   },
   "source": [
    "## ANALIZANDO VARIABLES"
   ]
  },
  {
   "cell_type": "code",
   "execution_count": null,
   "id": "b0586408",
   "metadata": {
    "id": "b0586408",
    "outputId": "7b214434-c42c-42f9-d2c9-d9b7dc034a0b"
   },
   "outputs": [
    {
     "data": {
      "text/plain": [
       "CreditScore         460\n",
       "Gender                2\n",
       "Balance            6382\n",
       "NumOfProducts         4\n",
       "HasCrCard             2\n",
       "IsActiveMember        2\n",
       "Age                  70\n",
       "Geography             3\n",
       "EstimatedSalary    9208\n",
       "Exited                2\n",
       "Tenure               12\n",
       "active_exit           4\n",
       "categorico            4\n",
       "dtype: int64"
      ]
     },
     "execution_count": 3,
     "metadata": {},
     "output_type": "execute_result"
    }
   ],
   "source": [
    "df.nunique()"
   ]
  },
  {
   "cell_type": "markdown",
   "id": "17b150fe",
   "metadata": {
    "id": "17b150fe"
   },
   "source": [
    "# EL SCORE CREDITICIO"
   ]
  },
  {
   "cell_type": "markdown",
   "id": "1c2d9445",
   "metadata": {
    "id": "1c2d9445"
   },
   "source": [
    "Los rangos de credit score en Estados Unidos dependen del modelo que se use para calcularlo. Los más comunes son el FICO Score y el VantageScore, que van desde el número 300 hasta el 850¹. Dentro de estos modelos, se pueden establecer las siguientes categorías:\n",
    "\n",
    "- **Excelente**: 800-850\n",
    "- **Muy bueno**: 740-799\n",
    "- **Bueno**: 670-739\n",
    "- **Regular**: 580-669\n",
    "- **Malo**: 300-579\n",
    "\n",
    "Mientras más alto sea tu credit score, mejores condiciones podrás obtener al solicitar un crédito⁴.\n",
    "\n",
    "Origen: Conversación con Bing, 17/6/2023\n",
    "(1) Cómo funciona el \"credit score\", el número que tiene \"un impacto .... https://www.bbc.com/mundo/noticias-65353939.\n",
    "(2) Tabla de puntaje de crédito en Estados Unidos [2022]. https://www.creditosenusa.com/tabla-de-puntaje-de-credito-en-estados-unidos/.\n",
    "(3) . https://bing.com/search?q=rangos+de+credit+score+en+estados+unidos.\n",
    "(4) ¿Cuál es el puntaje de crédito promedio en EEUU? Tablas y datos. https://www.creditosenusa.com/cual-es-el-puntaje-de-credito-promedio-en-estados-unidos/."
   ]
  },
  {
   "cell_type": "code",
   "execution_count": null,
   "id": "6ff96e5f",
   "metadata": {
    "id": "6ff96e5f",
    "outputId": "246957b2-acc8-47ec-aa34-cdcde0bae554"
   },
   "outputs": [
    {
     "name": "stdout",
     "output_type": "stream",
     "text": [
      "historial crediticio excelente\n",
      "655\n",
      "*****************\n",
      "historial crediticio muy bueno\n",
      "1224\n",
      "*****************\n",
      "historial crediticio bueno\n",
      "2428\n",
      "*****************\n",
      "historial crediticio regular\n",
      "3331\n",
      "*****************\n",
      "historial crediticio malo\n",
      "2362\n"
     ]
    }
   ],
   "source": [
    "print(\"historial crediticio excelente\")\n",
    "excelente = df.loc[(df[\"CreditScore\"] >= 800) & (df[\"CreditScore\"] <= 850)] # selecciona los registros de la columna \"columna\" que tengan un valor entre 0 y 100\n",
    "print(len(excelente)) # imprime el número de registros seleccionados\n",
    "print(\"*****************\")\n",
    "print(\"historial crediticio muy bueno\")\n",
    "muy_bueno = df.loc[(df[\"CreditScore\"] >= 740) & (df[\"CreditScore\"] <= 799)] # selecciona los registros de la columna \"columna\" que tengan un valor entre 0 y 100\n",
    "print(len(muy_bueno)) # imprime el número de registros seleccionados\n",
    "print(\"*****************\")\n",
    "print(\"historial crediticio bueno\")\n",
    "bueno = df.loc[(df[\"CreditScore\"] >= 670) & (df[\"CreditScore\"] <= 739)] # selecciona los registros de la columna \"columna\" que tengan un valor entre 0 y 100\n",
    "print(len(bueno)) # imprime el número de registros seleccionados\n",
    "print(\"*****************\")\n",
    "print(\"historial crediticio regular\")\n",
    "regular = df.loc[(df[\"CreditScore\"] >= 580) & (df[\"CreditScore\"] <= 669)] # selecciona los registros de la columna \"columna\" que tengan un valor entre 0 y 100\n",
    "print(len(regular)) # imprime el número de registros seleccionados\n",
    "print(\"*****************\")\n",
    "print(\"historial crediticio malo\")\n",
    "malo = df.loc[(df[\"CreditScore\"] >= 300) & (df[\"CreditScore\"] <= 579)] # selecciona los registros de la columna \"columna\" que tengan un valor entre 0 y 100\n",
    "print(len(malo)) # imprime el número de registros seleccionados"
   ]
  },
  {
   "cell_type": "markdown",
   "id": "afe15b24",
   "metadata": {
    "id": "afe15b24"
   },
   "source": [
    "# clientes que su unico producto es la tarjeta de credito"
   ]
  },
  {
   "cell_type": "code",
   "execution_count": null,
   "id": "ab49f29c",
   "metadata": {
    "id": "ab49f29c",
    "outputId": "56fb10fb-5d6e-4758-fe9e-ed205bf7e584"
   },
   "outputs": [
    {
     "name": "stdout",
     "output_type": "stream",
     "text": [
      "clientes que su unico producto es la tarjeta de credito\n",
      "3578\n",
      "*****************\n",
      "clientes que su unico producto no es la tarjeta de credito\n",
      "1506\n",
      "*****************\n",
      "clientes con dos productos y que uno es tarjeta\n",
      "3246\n",
      "*****************\n",
      "clientes con dos productos pero sin tarjeta de credito\n",
      "1344\n"
     ]
    }
   ],
   "source": [
    "#clientes que su unico producto es la tarjeta de credito\n",
    "print(\"clientes que su unico producto es la tarjeta de credito\")\n",
    "soloTDC = sum((df[\"NumOfProducts\"] == 1) & (df[\"HasCrCard\"] == 1))\n",
    "print(soloTDC)\n",
    "print(\"*****************\")\n",
    "\n",
    "\n",
    "#clientes que su unico producto no es la tarjeta de credito\n",
    "print(\"clientes que su unico producto no es la tarjeta de credito\")\n",
    "noesTDC = sum((df[\"NumOfProducts\"] == 1) & (df[\"HasCrCard\"] == 0))\n",
    "print(noesTDC)\n",
    "print(\"*****************\")\n",
    "\n",
    "\n",
    "#clientes con dos productos y que uno es tarjeta\n",
    "print(\"clientes con dos productos y que uno es tarjeta\")\n",
    "tdcyotro = sum((df[\"NumOfProducts\"] == 2) & (df[\"HasCrCard\"] == 1))\n",
    "print(tdcyotro)\n",
    "print(\"*****************\")\n",
    "\n",
    "#clientes con dos productos pero sin tarjeta de credito\n",
    "print(\"clientes con dos productos pero sin tarjeta de credito\")\n",
    "dosnotdc = sum((df[\"NumOfProducts\"] == 2) & (df[\"HasCrCard\"] == 0))\n",
    "print(dosnotdc)"
   ]
  },
  {
   "cell_type": "code",
   "execution_count": null,
   "id": "b779b84e",
   "metadata": {
    "id": "b779b84e",
    "outputId": "1a69434e-43c6-469e-f9be-e6b6b1b76b30"
   },
   "outputs": [
    {
     "name": "stdout",
     "output_type": "stream",
     "text": [
      "total de clientes con balance cero\n",
      "3617\n",
      "clientes historicos con saldo cero\n",
      "1509\n",
      "clientes activos con saldo cero\n",
      "135\n",
      "clientes pasivos con saldo cero\n",
      "235\n",
      "clientes error con saldo cero\n",
      "1738\n"
     ]
    }
   ],
   "source": [
    "# los clientes con balance cero\n",
    "# del total de clientes el 36% tiene balance cero\n",
    "print(\"total de clientes con balance cero\")\n",
    "print(sum((df[\"Balance\"] <= 0)))\n",
    "\n",
    "\n",
    "print(\"clientes historicos con saldo cero\")\n",
    "cerocancel = df.loc[(df[\"Balance\"] <= 0) & (df[\"categorico\"] == \"historico\")] # selecciona los registros de la columna \"columna\" que tengan un valor entre 0 y 100\n",
    "print(len(cerocancel)) # imprime el número de registros seleccionados\n",
    "\n",
    "print(\"clientes activos con saldo cero\")\n",
    "ceroact = df.loc[(df[\"Balance\"] <= 0) & (df[\"categorico\"] == \"activo\")] # selecciona los registros de la columna \"columna\" que tengan un valor entre 0 y 100\n",
    "print(len(ceroact)) # imprime el número de registros seleccionados\n",
    "\n",
    "print(\"clientes pasivos con saldo cero\")\n",
    "ceroact = df.loc[(df[\"Balance\"] <= 0) & (df[\"categorico\"] == \"pasivo\")] # selecciona los registros de la columna \"columna\" que tengan un valor entre 0 y 100\n",
    "print(len(ceroact)) # imprime el número de registros seleccionados\n",
    "\n",
    "print(\"clientes error con saldo cero\")\n",
    "ceroact = df.loc[(df[\"Balance\"] <= 0) & (df[\"categorico\"] == \"error\")] # selecciona los registros de la columna \"columna\" que tengan un valor entre 0 y 100\n",
    "print(len(ceroact)) # imprime el número de registros seleccionados"
   ]
  },
  {
   "cell_type": "markdown",
   "id": "a37d0472",
   "metadata": {
    "id": "a37d0472"
   },
   "source": [
    "**como se puede ver existe casi la mitad de los clientes con saldo cero dentro de los clientes con error, otra variable por la cual habría que tomar decisiones de que se hace con ellos**"
   ]
  },
  {
   "cell_type": "markdown",
   "id": "0aa72ac2",
   "metadata": {
    "id": "0aa72ac2"
   },
   "source": [
    "## NOTAS SOBRE LAS VARIABLES A CONSIDERAR"
   ]
  },
  {
   "cell_type": "markdown",
   "id": "86957ff9",
   "metadata": {
    "id": "86957ff9"
   },
   "source": [
    "MIS NOTAS\n",
    "\n",
    "*EL HISTORIAL CREDITICIO --MAL HISTORIAL NO TIENE ACCESO A CREDITOS Y ES POSIBLE DEJE LA BANCA O NO LA USE **si afecta\n",
    "\n",
    "*GENERO -- NO VEO NINGUN SENTIDO A COMO EL GENERO AFECTA\n",
    "\n",
    "*BALANCE - ENTRE MAS DINERO TENGAS MAS NECESITAS LA BANCA Y MAS LA USAS **cuestionable si afecta el modelo\n",
    "\n",
    "*PRODUCTOS - DEL TOTAL DE CLIENTES APROXIMADAMENTE  50% TIENEN UN PRODUCTO Y EL OTRO 50% TIENE 2 PRODUCTOS\n",
    "DE ESOS CLIENTES TOTALES 70% TIENE UNA TARJETA DE CREDITO LA CUAL ES IGUALMENTE ENTRE CLIENTES CON  1 , 2 O MAS PRODUCTOS\n",
    "\n",
    "**POR LO ANTERIOR EL NUMERO DE PRODUCTO DA IGUAL, ES MAS IMPORTANTE SI TIENE TARJETA DE CREDITO (FORMA DE RETENERLO)\n",
    "\n",
    "**ACTIVE MEMBER Y EXITED SE UNEN PARA CREAR DATASETS Y SER TARGET\n",
    "\n",
    "*LA EDAD NO INFLUYE DIRECTAMENTE PERO SI LAS CIRCUNSTANCIAS PROPIAS DE LA EDAD, ANTIGUEDAD O GENERO,\n",
    "\n",
    "*LOS ESTADOS NO AFECTAN SIN EMBARGO CADA ESTADO TIENE CARACTERIZTICAS PARTICULARES PUEDE SER DATASET POR ESTADO\n",
    "\n",
    "*SALARIO ESTIMADO EL NIVEL DE INGRESOS TE HACE MAS PROPENSO A LA BANCA Y EL CREDITO Y NO DEJAR LA BANCA\n",
    "\n",
    "*ANTIGUEDAD PUEDE SER UNA VARIABLE QUE INDIQUE FAMILARIDAD CON EL BANCO YA QUE LOS SERVICIOS SUELEN SER GENERICOS\n"
   ]
  },
  {
   "cell_type": "markdown",
   "id": "47cd936b",
   "metadata": {
    "id": "47cd936b"
   },
   "source": [
    "## PROCESOS Y CODIFICACIÓN DE MODELOS"
   ]
  },
  {
   "cell_type": "code",
   "execution_count": null,
   "id": "b391354a",
   "metadata": {
    "id": "b391354a",
    "outputId": "6c0b55d0-2527-4a8b-f221-4e717488754d"
   },
   "outputs": [
    {
     "name": "stdout",
     "output_type": "stream",
     "text": [
      "<class 'pandas.core.frame.DataFrame'>\n",
      "RangeIndex: 10000 entries, 0 to 9999\n",
      "Data columns (total 13 columns):\n",
      " #   Column           Non-Null Count  Dtype  \n",
      "---  ------           --------------  -----  \n",
      " 0   CreditScore      10000 non-null  int64  \n",
      " 1   Gender           10000 non-null  object \n",
      " 2   Balance          10000 non-null  float64\n",
      " 3   NumOfProducts    10000 non-null  int64  \n",
      " 4   HasCrCard        10000 non-null  int64  \n",
      " 5   IsActiveMember   10000 non-null  int64  \n",
      " 6   Age              10000 non-null  float64\n",
      " 7   Geography        10000 non-null  object \n",
      " 8   EstimatedSalary  10000 non-null  float64\n",
      " 9   Exited           10000 non-null  int64  \n",
      " 10  Tenure           10000 non-null  int64  \n",
      " 11  active_exit      10000 non-null  object \n",
      " 12  categorico       10000 non-null  object \n",
      "dtypes: float64(3), int64(6), object(4)\n",
      "memory usage: 1015.8+ KB\n"
     ]
    }
   ],
   "source": [
    "df.info()"
   ]
  },
  {
   "cell_type": "markdown",
   "id": "f17f7465",
   "metadata": {
    "id": "f17f7465"
   },
   "source": [
    "## UNA PEQUEÑA GUIA DE LO QUE QUIERO REALIZAR"
   ]
  },
  {
   "cell_type": "code",
   "execution_count": null,
   "id": "0decb491",
   "metadata": {
    "id": "0decb491",
    "outputId": "8fc4ae05-33ca-4521-8e25-63da651ca8c5"
   },
   "outputs": [
    {
     "ename": "ValueError",
     "evalue": "could not convert string to float: 'Male'",
     "output_type": "error",
     "traceback": [
      "\u001b[0;31m---------------------------------------------------------------------------\u001b[0m",
      "\u001b[0;31mValueError\u001b[0m                                Traceback (most recent call last)",
      "\u001b[0;32m/tmp/ipykernel_61291/433808007.py\u001b[0m in \u001b[0;36m<module>\u001b[0;34m\u001b[0m\n\u001b[1;32m     19\u001b[0m \u001b[0;31m# Crear el modelo de árbol de decisión\u001b[0m\u001b[0;34m\u001b[0m\u001b[0;34m\u001b[0m\u001b[0m\n\u001b[1;32m     20\u001b[0m \u001b[0mtree1\u001b[0m \u001b[0;34m=\u001b[0m \u001b[0mDecisionTreeClassifier\u001b[0m\u001b[0;34m(\u001b[0m\u001b[0mmax_depth\u001b[0m\u001b[0;34m=\u001b[0m\u001b[0;36m5\u001b[0m\u001b[0;34m,\u001b[0m \u001b[0mrandom_state\u001b[0m\u001b[0;34m=\u001b[0m\u001b[0;36m42\u001b[0m\u001b[0;34m)\u001b[0m \u001b[0;31m# se puede cambiar el parámetro max_depth para ajustar la profundidad del árbol\u001b[0m\u001b[0;34m\u001b[0m\u001b[0;34m\u001b[0m\u001b[0m\n\u001b[0;32m---> 21\u001b[0;31m \u001b[0mtree1\u001b[0m\u001b[0;34m.\u001b[0m\u001b[0mfit\u001b[0m\u001b[0;34m(\u001b[0m\u001b[0mX_train\u001b[0m\u001b[0;34m,\u001b[0m \u001b[0my_train\u001b[0m\u001b[0;34m)\u001b[0m \u001b[0;31m# entrenar el modelo con los datos de entrenamiento\u001b[0m\u001b[0;34m\u001b[0m\u001b[0;34m\u001b[0m\u001b[0m\n\u001b[0m\u001b[1;32m     22\u001b[0m \u001b[0;34m\u001b[0m\u001b[0m\n\u001b[1;32m     23\u001b[0m \u001b[0;31m# Crear el modelo de bosque aleatorio\u001b[0m\u001b[0;34m\u001b[0m\u001b[0;34m\u001b[0m\u001b[0m\n",
      "\u001b[0;32m~/anaconda3/lib/python3.9/site-packages/sklearn/tree/_classes.py\u001b[0m in \u001b[0;36mfit\u001b[0;34m(self, X, y, sample_weight, check_input)\u001b[0m\n\u001b[1;32m    887\u001b[0m         \"\"\"\n\u001b[1;32m    888\u001b[0m \u001b[0;34m\u001b[0m\u001b[0m\n\u001b[0;32m--> 889\u001b[0;31m         super().fit(\n\u001b[0m\u001b[1;32m    890\u001b[0m             \u001b[0mX\u001b[0m\u001b[0;34m,\u001b[0m\u001b[0;34m\u001b[0m\u001b[0;34m\u001b[0m\u001b[0m\n\u001b[1;32m    891\u001b[0m             \u001b[0my\u001b[0m\u001b[0;34m,\u001b[0m\u001b[0;34m\u001b[0m\u001b[0;34m\u001b[0m\u001b[0m\n",
      "\u001b[0;32m~/anaconda3/lib/python3.9/site-packages/sklearn/tree/_classes.py\u001b[0m in \u001b[0;36mfit\u001b[0;34m(self, X, y, sample_weight, check_input)\u001b[0m\n\u001b[1;32m    184\u001b[0m             \u001b[0mcheck_X_params\u001b[0m \u001b[0;34m=\u001b[0m \u001b[0mdict\u001b[0m\u001b[0;34m(\u001b[0m\u001b[0mdtype\u001b[0m\u001b[0;34m=\u001b[0m\u001b[0mDTYPE\u001b[0m\u001b[0;34m,\u001b[0m \u001b[0maccept_sparse\u001b[0m\u001b[0;34m=\u001b[0m\u001b[0;34m\"csc\"\u001b[0m\u001b[0;34m)\u001b[0m\u001b[0;34m\u001b[0m\u001b[0;34m\u001b[0m\u001b[0m\n\u001b[1;32m    185\u001b[0m             \u001b[0mcheck_y_params\u001b[0m \u001b[0;34m=\u001b[0m \u001b[0mdict\u001b[0m\u001b[0;34m(\u001b[0m\u001b[0mensure_2d\u001b[0m\u001b[0;34m=\u001b[0m\u001b[0;32mFalse\u001b[0m\u001b[0;34m,\u001b[0m \u001b[0mdtype\u001b[0m\u001b[0;34m=\u001b[0m\u001b[0;32mNone\u001b[0m\u001b[0;34m)\u001b[0m\u001b[0;34m\u001b[0m\u001b[0;34m\u001b[0m\u001b[0m\n\u001b[0;32m--> 186\u001b[0;31m             X, y = self._validate_data(\n\u001b[0m\u001b[1;32m    187\u001b[0m                 \u001b[0mX\u001b[0m\u001b[0;34m,\u001b[0m \u001b[0my\u001b[0m\u001b[0;34m,\u001b[0m \u001b[0mvalidate_separately\u001b[0m\u001b[0;34m=\u001b[0m\u001b[0;34m(\u001b[0m\u001b[0mcheck_X_params\u001b[0m\u001b[0;34m,\u001b[0m \u001b[0mcheck_y_params\u001b[0m\u001b[0;34m)\u001b[0m\u001b[0;34m\u001b[0m\u001b[0;34m\u001b[0m\u001b[0m\n\u001b[1;32m    188\u001b[0m             )\n",
      "\u001b[0;32m~/anaconda3/lib/python3.9/site-packages/sklearn/base.py\u001b[0m in \u001b[0;36m_validate_data\u001b[0;34m(self, X, y, reset, validate_separately, **check_params)\u001b[0m\n\u001b[1;32m    577\u001b[0m                 \u001b[0;32mif\u001b[0m \u001b[0;34m\"estimator\"\u001b[0m \u001b[0;32mnot\u001b[0m \u001b[0;32min\u001b[0m \u001b[0mcheck_X_params\u001b[0m\u001b[0;34m:\u001b[0m\u001b[0;34m\u001b[0m\u001b[0;34m\u001b[0m\u001b[0m\n\u001b[1;32m    578\u001b[0m                     \u001b[0mcheck_X_params\u001b[0m \u001b[0;34m=\u001b[0m \u001b[0;34m{\u001b[0m\u001b[0;34m**\u001b[0m\u001b[0mdefault_check_params\u001b[0m\u001b[0;34m,\u001b[0m \u001b[0;34m**\u001b[0m\u001b[0mcheck_X_params\u001b[0m\u001b[0;34m}\u001b[0m\u001b[0;34m\u001b[0m\u001b[0;34m\u001b[0m\u001b[0m\n\u001b[0;32m--> 579\u001b[0;31m                 \u001b[0mX\u001b[0m \u001b[0;34m=\u001b[0m \u001b[0mcheck_array\u001b[0m\u001b[0;34m(\u001b[0m\u001b[0mX\u001b[0m\u001b[0;34m,\u001b[0m \u001b[0minput_name\u001b[0m\u001b[0;34m=\u001b[0m\u001b[0;34m\"X\"\u001b[0m\u001b[0;34m,\u001b[0m \u001b[0;34m**\u001b[0m\u001b[0mcheck_X_params\u001b[0m\u001b[0;34m)\u001b[0m\u001b[0;34m\u001b[0m\u001b[0;34m\u001b[0m\u001b[0m\n\u001b[0m\u001b[1;32m    580\u001b[0m                 \u001b[0;32mif\u001b[0m \u001b[0;34m\"estimator\"\u001b[0m \u001b[0;32mnot\u001b[0m \u001b[0;32min\u001b[0m \u001b[0mcheck_y_params\u001b[0m\u001b[0;34m:\u001b[0m\u001b[0;34m\u001b[0m\u001b[0;34m\u001b[0m\u001b[0m\n\u001b[1;32m    581\u001b[0m                     \u001b[0mcheck_y_params\u001b[0m \u001b[0;34m=\u001b[0m \u001b[0;34m{\u001b[0m\u001b[0;34m**\u001b[0m\u001b[0mdefault_check_params\u001b[0m\u001b[0;34m,\u001b[0m \u001b[0;34m**\u001b[0m\u001b[0mcheck_y_params\u001b[0m\u001b[0;34m}\u001b[0m\u001b[0;34m\u001b[0m\u001b[0;34m\u001b[0m\u001b[0m\n",
      "\u001b[0;32m~/anaconda3/lib/python3.9/site-packages/sklearn/utils/validation.py\u001b[0m in \u001b[0;36mcheck_array\u001b[0;34m(array, accept_sparse, accept_large_sparse, dtype, order, copy, force_all_finite, ensure_2d, allow_nd, ensure_min_samples, ensure_min_features, estimator, input_name)\u001b[0m\n\u001b[1;32m    877\u001b[0m                     \u001b[0marray\u001b[0m \u001b[0;34m=\u001b[0m \u001b[0mxp\u001b[0m\u001b[0;34m.\u001b[0m\u001b[0mastype\u001b[0m\u001b[0;34m(\u001b[0m\u001b[0marray\u001b[0m\u001b[0;34m,\u001b[0m \u001b[0mdtype\u001b[0m\u001b[0;34m,\u001b[0m \u001b[0mcopy\u001b[0m\u001b[0;34m=\u001b[0m\u001b[0;32mFalse\u001b[0m\u001b[0;34m)\u001b[0m\u001b[0;34m\u001b[0m\u001b[0;34m\u001b[0m\u001b[0m\n\u001b[1;32m    878\u001b[0m                 \u001b[0;32melse\u001b[0m\u001b[0;34m:\u001b[0m\u001b[0;34m\u001b[0m\u001b[0;34m\u001b[0m\u001b[0m\n\u001b[0;32m--> 879\u001b[0;31m                     \u001b[0marray\u001b[0m \u001b[0;34m=\u001b[0m \u001b[0m_asarray_with_order\u001b[0m\u001b[0;34m(\u001b[0m\u001b[0marray\u001b[0m\u001b[0;34m,\u001b[0m \u001b[0morder\u001b[0m\u001b[0;34m=\u001b[0m\u001b[0morder\u001b[0m\u001b[0;34m,\u001b[0m \u001b[0mdtype\u001b[0m\u001b[0;34m=\u001b[0m\u001b[0mdtype\u001b[0m\u001b[0;34m,\u001b[0m \u001b[0mxp\u001b[0m\u001b[0;34m=\u001b[0m\u001b[0mxp\u001b[0m\u001b[0;34m)\u001b[0m\u001b[0;34m\u001b[0m\u001b[0;34m\u001b[0m\u001b[0m\n\u001b[0m\u001b[1;32m    880\u001b[0m             \u001b[0;32mexcept\u001b[0m \u001b[0mComplexWarning\u001b[0m \u001b[0;32mas\u001b[0m \u001b[0mcomplex_warning\u001b[0m\u001b[0;34m:\u001b[0m\u001b[0;34m\u001b[0m\u001b[0;34m\u001b[0m\u001b[0m\n\u001b[1;32m    881\u001b[0m                 raise ValueError(\n",
      "\u001b[0;32m~/anaconda3/lib/python3.9/site-packages/sklearn/utils/_array_api.py\u001b[0m in \u001b[0;36m_asarray_with_order\u001b[0;34m(array, dtype, order, copy, xp)\u001b[0m\n\u001b[1;32m    183\u001b[0m     \u001b[0;32mif\u001b[0m \u001b[0mxp\u001b[0m\u001b[0;34m.\u001b[0m\u001b[0m__name__\u001b[0m \u001b[0;32min\u001b[0m \u001b[0;34m{\u001b[0m\u001b[0;34m\"numpy\"\u001b[0m\u001b[0;34m,\u001b[0m \u001b[0;34m\"numpy.array_api\"\u001b[0m\u001b[0;34m}\u001b[0m\u001b[0;34m:\u001b[0m\u001b[0;34m\u001b[0m\u001b[0;34m\u001b[0m\u001b[0m\n\u001b[1;32m    184\u001b[0m         \u001b[0;31m# Use NumPy API to support order\u001b[0m\u001b[0;34m\u001b[0m\u001b[0;34m\u001b[0m\u001b[0m\n\u001b[0;32m--> 185\u001b[0;31m         \u001b[0marray\u001b[0m \u001b[0;34m=\u001b[0m \u001b[0mnumpy\u001b[0m\u001b[0;34m.\u001b[0m\u001b[0masarray\u001b[0m\u001b[0;34m(\u001b[0m\u001b[0marray\u001b[0m\u001b[0;34m,\u001b[0m \u001b[0morder\u001b[0m\u001b[0;34m=\u001b[0m\u001b[0morder\u001b[0m\u001b[0;34m,\u001b[0m \u001b[0mdtype\u001b[0m\u001b[0;34m=\u001b[0m\u001b[0mdtype\u001b[0m\u001b[0;34m)\u001b[0m\u001b[0;34m\u001b[0m\u001b[0;34m\u001b[0m\u001b[0m\n\u001b[0m\u001b[1;32m    186\u001b[0m         \u001b[0;32mreturn\u001b[0m \u001b[0mxp\u001b[0m\u001b[0;34m.\u001b[0m\u001b[0masarray\u001b[0m\u001b[0;34m(\u001b[0m\u001b[0marray\u001b[0m\u001b[0;34m,\u001b[0m \u001b[0mcopy\u001b[0m\u001b[0;34m=\u001b[0m\u001b[0mcopy\u001b[0m\u001b[0;34m)\u001b[0m\u001b[0;34m\u001b[0m\u001b[0;34m\u001b[0m\u001b[0m\n\u001b[1;32m    187\u001b[0m     \u001b[0;32melse\u001b[0m\u001b[0;34m:\u001b[0m\u001b[0;34m\u001b[0m\u001b[0;34m\u001b[0m\u001b[0m\n",
      "\u001b[0;32m~/anaconda3/lib/python3.9/site-packages/pandas/core/generic.py\u001b[0m in \u001b[0;36m__array__\u001b[0;34m(self, dtype)\u001b[0m\n\u001b[1;32m   2062\u001b[0m \u001b[0;34m\u001b[0m\u001b[0m\n\u001b[1;32m   2063\u001b[0m     \u001b[0;32mdef\u001b[0m \u001b[0m__array__\u001b[0m\u001b[0;34m(\u001b[0m\u001b[0mself\u001b[0m\u001b[0;34m,\u001b[0m \u001b[0mdtype\u001b[0m\u001b[0;34m:\u001b[0m \u001b[0mnpt\u001b[0m\u001b[0;34m.\u001b[0m\u001b[0mDTypeLike\u001b[0m \u001b[0;34m|\u001b[0m \u001b[0;32mNone\u001b[0m \u001b[0;34m=\u001b[0m \u001b[0;32mNone\u001b[0m\u001b[0;34m)\u001b[0m \u001b[0;34m->\u001b[0m \u001b[0mnp\u001b[0m\u001b[0;34m.\u001b[0m\u001b[0mndarray\u001b[0m\u001b[0;34m:\u001b[0m\u001b[0;34m\u001b[0m\u001b[0;34m\u001b[0m\u001b[0m\n\u001b[0;32m-> 2064\u001b[0;31m         \u001b[0;32mreturn\u001b[0m \u001b[0mnp\u001b[0m\u001b[0;34m.\u001b[0m\u001b[0masarray\u001b[0m\u001b[0;34m(\u001b[0m\u001b[0mself\u001b[0m\u001b[0;34m.\u001b[0m\u001b[0m_values\u001b[0m\u001b[0;34m,\u001b[0m \u001b[0mdtype\u001b[0m\u001b[0;34m=\u001b[0m\u001b[0mdtype\u001b[0m\u001b[0;34m)\u001b[0m\u001b[0;34m\u001b[0m\u001b[0;34m\u001b[0m\u001b[0m\n\u001b[0m\u001b[1;32m   2065\u001b[0m \u001b[0;34m\u001b[0m\u001b[0m\n\u001b[1;32m   2066\u001b[0m     def __array_wrap__(\n",
      "\u001b[0;31mValueError\u001b[0m: could not convert string to float: 'Male'"
     ]
    }
   ],
   "source": [
    "## AQUI HAY QUE COPIAR Y CORTAR EL CODIGO QUE SUBIÓ JESÉ CON LA EDA QUE ESTAMOS TRABAJANDO\n",
    "\n",
    "# Importar las librerías\n",
    "import pandas as pd\n",
    "from sklearn import tree\n",
    "from sklearn.tree import DecisionTreeClassifier\n",
    "from sklearn.ensemble import RandomForestClassifier\n",
    "from sklearn.model_selection import train_test_split\n",
    "from sklearn.metrics import accuracy_score, confusion_matrix, classification_report\n",
    "import matplotlib.pyplot as plt\n",
    "\n",
    "# Separar las variables de entrada y salida\n",
    "X = df8.drop('Exited', axis=1) # todas las columnas excepto Exited\n",
    "y = df8['Exited'] # solo la columna Exited\n",
    "\n",
    "# Dividir el conjunto de datos en entrenamiento y prueba\n",
    "X_train, X_test, y_train, y_test = train_test_split(X, y, test_size=0.2, random_state=42)\n",
    "\n",
    "# Crear el modelo de árbol de decisión\n",
    "tree1 = DecisionTreeClassifier(max_depth=5, random_state=42) # se puede cambiar el parámetro max_depth para ajustar la profundidad del árbol\n",
    "tree1.fit(X_train, y_train) # entrenar el modelo con los datos de entrenamiento\n",
    "\n",
    "# Crear el modelo de bosque aleatorio\n",
    "forest = RandomForestClassifier(n_estimators=100, max_depth=5, random_state=42) # se puede cambiar el parámetro n_estimators para ajustar el número de árboles y el parámetro max_depth para ajustar la profundidad de cada árbol\n",
    "forest.fit(X_train, y_train) # entrenar el modelo con los datos de entrenamiento\n",
    "\n",
    "# Evaluar el rendimiento de los modelos con los datos de prueba\n",
    "y_pred_tree = tree1.predict(X_test) # predecir la salida con el modelo de árbol\n",
    "y_pred_forest = forest.predict(X_test) # predecir la salida con el modelo de bosque\n",
    "\n",
    "# Calcular la exactitud de los modelos\n",
    "acc_tree1 = accuracy_score(y_test, y_pred_tree) # comparar la salida real con la predicha por el árbol\n",
    "acc_forest = accuracy_score(y_test, y_pred_forest) # comparar la salida real con la predicha por el bosque\n",
    "\n",
    "# Imprimir la exactitud de los modelos\n",
    "print(\"Exactitud del árbol de decisión:\", acc_tree)\n",
    "print(\"Exactitud del bosque aleatorio:\", acc_forest)\n",
    "\n",
    "# Calcular la matriz de confusión de los modelos\n",
    "cm_tree = confusion_matrix(y_test, y_pred_tree) # comparar la salida real con la predicha por el árbol\n",
    "cm_forest = confusion_matrix(y_test, y_pred_forest) # comparar la salida real con la predicha por el bosque\n",
    "\n",
    "# Imprimir la matriz de confusión de los modelos\n",
    "print(\"Matriz de confusión del árbol de decisión:\")\n",
    "print(cm_tree)\n",
    "print(\"Matriz de confusión del bosque aleatorio:\")\n",
    "print(cm_forest)\n",
    "\n",
    "# Calcular el reporte de clasificación de los modelos\n",
    "cr_tree = classification_report(y_test, y_pred_tree) # comparar la salida real con la predicha por el árbol\n",
    "cr_forest = classification_report(y_test, y_pred_forest) # comparar la salida real con la predicha por el bosque\n",
    "\n",
    "# Imprimir el reporte de clasificación de los modelos\n",
    "print(\"Reporte de clasificación del árbol de decisión:\")\n",
    "print(cr_tree)\n",
    "print(\"Reporte de clasificación del bosque aleatorio:\")\n",
    "print(cr_forest)\n",
    "\n",
    "# Visualizar el árbol de decisión\n",
    "plt.figure(figsize=(12,8)) # ajustar el tamaño de la figura\n",
    "tree.plot_tree(tree1) # dibujar el árbol\n",
    "plt.show() # mostrar la figura"
   ]
  },
  {
   "cell_type": "code",
   "execution_count": null,
   "id": "57f1a2f3",
   "metadata": {
    "id": "57f1a2f3"
   },
   "outputs": [],
   "source": []
  },
  {
   "cell_type": "code",
   "execution_count": null,
   "id": "37840127",
   "metadata": {
    "id": "37840127"
   },
   "outputs": [],
   "source": []
  }
 ],
 "metadata": {
  "colab": {
   "provenance": []
  },
  "kernelspec": {
   "display_name": "Python 3 (ipykernel)",
   "language": "python",
   "name": "python3"
  },
  "language_info": {
   "codemirror_mode": {
    "name": "ipython",
    "version": 3
   },
   "file_extension": ".py",
   "mimetype": "text/x-python",
   "name": "python",
   "nbconvert_exporter": "python",
   "pygments_lexer": "ipython3",
   "version": "3.9.13"
  }
 },
 "nbformat": 4,
 "nbformat_minor": 5
}
