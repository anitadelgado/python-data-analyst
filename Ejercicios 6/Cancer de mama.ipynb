{
 "cells": [
  {
   "cell_type": "code",
   "execution_count": 5,
   "id": "9097d7d5-87f8-4d0b-a5af-1ccd19c2a12a",
   "metadata": {},
   "outputs": [
    {
     "name": "stdout",
     "output_type": "stream",
     "text": [
      "Number of vowels:  8\n"
     ]
    }
   ],
   "source": [
    "s = 'jyozhraeetmatmzdotetu'\n",
    "vowel_count = 0\n",
    "\n",
    "for char in s:\n",
    "    if char.lower() in 'aeiou':\n",
    "        vowel_count += 1\n",
    "\n",
    "\n",
    "print(\"Number of vowels: \", vowel_count)\n"
   ]
  },
  {
   "cell_type": "code",
   "execution_count": null,
   "id": "3809e4c8-8ee4-42e1-9f08-c686f50b2b72",
   "metadata": {},
   "outputs": [],
   "source": []
  }
 ],
 "metadata": {
  "kernelspec": {
   "display_name": "Python 3 (ipykernel)",
   "language": "python",
   "name": "python3"
  },
  "language_info": {
   "codemirror_mode": {
    "name": "ipython",
    "version": 3
   },
   "file_extension": ".py",
   "mimetype": "text/x-python",
   "name": "python",
   "nbconvert_exporter": "python",
   "pygments_lexer": "ipython3",
   "version": "3.9.13"
  }
 },
 "nbformat": 4,
 "nbformat_minor": 5
}
