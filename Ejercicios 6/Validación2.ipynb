{
 "cells": [
  {
   "cell_type": "code",
   "execution_count": 5,
   "id": "01bb1371-f686-4843-9693-38c937aeb9ce",
   "metadata": {},
   "outputs": [
    {
     "name": "stdout",
     "output_type": "stream",
     "text": [
      "0.0\n"
     ]
    }
   ],
   "source": [
    "from sklearn import datasets\n",
    "import numpy as np\n",
    "from sklearn.model_selection import train_test_split\n",
    "from sklearn.linear_model import LogisticRegression \n",
    "\n",
    "iris = datasets.load_iris()\n",
    "X = iris.data[:, :2]\n",
    "X, y = np.arange(10).reshape((5, 2)), np.arange(5)\n",
    "\n",
    "X_train, X_test, y_train, y_test = train_test_split(X, y, test_size=0.33, random_state=42) \n",
    "\n",
    "#Entrenamos el algoritmo con los datos en train\n",
    "model = LogisticRegression()\n",
    "model.fit(X_train,y_train)\n",
    "#Hacemos las predicciones con los datos en test\n",
    "result = model.score(X_test,y_test)\n",
    "print(result)"
   ]
  },
  {
   "cell_type": "markdown",
   "id": "c53c1a4c-d9a8-48ab-a7f1-e37b29957abf",
   "metadata": {},
   "source": []
  },
  {
   "cell_type": "markdown",
   "id": "9f00514a-c030-4573-97aa-02cf1abb2e48",
   "metadata": {},
   "source": [
    "Ejercicio 3.14.6.\n",
    "Número de respuestas: 0\n",
    "Y la conclusión a la que llegas sobre la predicción de los valores estimados utilizando los valores reales, ¿es la misma al utilizar todas las técnicas? ¿Por qué?"
   ]
  }
 ],
 "metadata": {
  "kernelspec": {
   "display_name": "Python 3 (ipykernel)",
   "language": "python",
   "name": "python3"
  },
  "language_info": {
   "codemirror_mode": {
    "name": "ipython",
    "version": 3
   },
   "file_extension": ".py",
   "mimetype": "text/x-python",
   "name": "python",
   "nbconvert_exporter": "python",
   "pygments_lexer": "ipython3",
   "version": "3.9.13"
  }
 },
 "nbformat": 4,
 "nbformat_minor": 5
}
