{
 "cells": [
  {
   "cell_type": "code",
   "execution_count": 2,
   "id": "0fb1e099-8884-473b-85a0-3e1fb32d466a",
   "metadata": {},
   "outputs": [
    {
     "name": "stdin",
     "output_type": "stream",
     "text": [
      "Dime una letra t\n"
     ]
    },
    {
     "name": "stdout",
     "output_type": "stream",
     "text": [
      "set()\n"
     ]
    }
   ],
   "source": [
    "#Dado un set de palabras, escribe un script que encuentre todas las palabras que empiecen con una letra dada.\n",
    "\n",
    "palabras = {\"Python\", \"Java\", \"Ruby\", \"Django\", \"Docker\", \"C++\"}\n",
    "nuevo = set()\n",
    " \n",
    "letra = input('Dime una letra')\n",
    " \n",
    "for i in palabras:\n",
    "    if letra == i[0]:\n",
    "        nuevo.add(i)\n",
    " \n",
    "print(nuevo)"
   ]
  },
  {
   "cell_type": "code",
   "execution_count": 13,
   "id": "687191c4-2071-4e4f-a787-7e66ad3b3476",
   "metadata": {},
   "outputs": [
    {
     "name": "stdin",
     "output_type": "stream",
     "text": [
      "Introduce un número del 1 al 12: 3\n"
     ]
    },
    {
     "name": "stdout",
     "output_type": "stream",
     "text": [
      "La posición 3 se corresponde con el mes de Marzo\n"
     ]
    }
   ],
   "source": [
    "#Ejercicio 1.6.1.\n",
    "#Crea un programa que, teniendo una tupla que contiene los meses del año, \n",
    "#devuelva el mes que está guardado en una posición introducida por el usuario.\n",
    "\n",
    "meses = (\"Enero\", \"Febrero\", \"Marzo\", \"Abril\", \"Mayo\", \"Junio\", \"Julio\", \"Agosto\", \"Septiembre\", \"Octubre\", \"Noviembre\", \"Diciembre\")\n",
    "m = int(input(\"Introduce un número del 1 al 12:\")) \n",
    "print (\"La posición\", m, \"se corresponde con el mes de\", (meses[m-1]))\n",
    "     "
   ]
  },
  {
   "cell_type": "code",
   "execution_count": 17,
   "id": "fe89e576-0c04-4c2f-8f6f-2b466a23e906",
   "metadata": {},
   "outputs": [
    {
     "name": "stdin",
     "output_type": "stream",
     "text": [
      "Introduce el número que quieres contar: 6\n"
     ]
    },
    {
     "name": "stdout",
     "output_type": "stream",
     "text": [
      "El número 6 aparece 4 veces\n"
     ]
    }
   ],
   "source": [
    "#Ejercicio 1.6.2.\n",
    "#Si tienes la tupla numeros = (5, 6, 4, 8, 19, 0, 4, 6, 6, 5, 4, 8, 3, 5, 6, 0), \n",
    "#crea un programa que le solicite al usuario un número y le indique cuántas veces está ese número en la tupla.\n",
    "\n",
    "numeros = (5, 6, 4, 8, 19, 0, 4, 6, 6, 5, 4, 8, 3, 5, 6, 0)\n",
    "n = int(input(\"Introduce el número que quieres contar:\")) \n",
    "print (\"El número\", n, \"aparece\", numeros.count(n), \"veces\")\n",
    "\n"
   ]
  },
  {
   "cell_type": "code",
   "execution_count": 22,
   "id": "069db039-6bae-4b6f-ace3-0fda89645d2d",
   "metadata": {},
   "outputs": [
    {
     "name": "stdout",
     "output_type": "stream",
     "text": [
      "El número mayor es 19 y el menor es 0\n"
     ]
    }
   ],
   "source": [
    "#Ejercicio 1.6.3.\n",
    "#Si tienes la tupla numeros anterior, numeros = (5, 6, 4, 8, 19, 0, 4, 6, 6, 5, 4, 8, 3, 5, 6, 0), \n",
    "#crea un programa que la recorra y te devuelva el máximo valor de la tupla y el mínimo.\n",
    "\n",
    "numeros = (5, 6, 4, 8, 19, 0, 4, 6, 6, 5, 4, 8, 3, 5, 6, 0)\n",
    "print (\"El número mayor es\", max(numeros), \"y el menor es\", min(numeros))"
   ]
  },
  {
   "cell_type": "code",
   "execution_count": 23,
   "id": "f3054c01-2e64-44a9-ae95-f7680d1b0950",
   "metadata": {},
   "outputs": [
    {
     "name": "stdout",
     "output_type": "stream",
     "text": [
      "{'t', 'y', 's', 'c', 'u', 'E', 'e', 'o', 'm', 'n', ' '}\n"
     ]
    }
   ],
   "source": [
    "#Ejercicio 1.6.5.\n",
    "#Si tienes la frase “Estoy muy contento”, crea un conjunto que esté formado por las letras de esta frase y muéstralo por pantalla.\n",
    "\n",
    "frase = set(\"Estoy muy contento\")\n",
    "print (frase)"
   ]
  },
  {
   "cell_type": "code",
   "execution_count": 24,
   "id": "2e257165-8223-437a-abbf-bbc0c8961e82",
   "metadata": {},
   "outputs": [
    {
     "name": "stdout",
     "output_type": "stream",
     "text": [
      "1\n",
      "2\n",
      "3\n",
      "9\n"
     ]
    }
   ],
   "source": [
    "#Ejercicio 1.6.6.\n",
    "#Si tienes un conjunto numeros = {1, 3, 9, 3, 1, 2}, crea un programa que recorra todos los elementos y los muestre por pantalla\n",
    "\n",
    "numeros = {1, 3, 9, 3, 1, 2}\n",
    "for n in numeros:\n",
    "    print(n)\n"
   ]
  },
  {
   "cell_type": "code",
   "execution_count": 31,
   "id": "e658af48-694e-46d1-9f6a-17aec3bc1ce6",
   "metadata": {},
   "outputs": [
    {
     "name": "stdin",
     "output_type": "stream",
     "text": [
      "Añade un número al conjunto: 48\n"
     ]
    },
    {
     "name": "stdout",
     "output_type": "stream",
     "text": [
      "{1, 'rojo', 'azul', 6, 'negro', 'verde', 'blanco', '48'}\n"
     ]
    }
   ],
   "source": [
    "#Ejercicio 1.6.8.\n",
    "#mezcla = {\"azul\", \"verde\", 1, 6, \"rojo\", 3, 3, \"verde\", \"azul\", 1, \"blanco\"}\n",
    "#crea un programa que añada al conjunto el color negro y un número introducido por el usuario\n",
    "#que elimine el número 3, mostrando por pantalla el conjunto resultante\n",
    "\n",
    "mezcla = {\"azul\", \"verde\", 1, 6, \"rojo\", 3, 3, \"verde\", \"azul\", 1, \"blanco\"}\n",
    "x = input(\"Añade un número al conjunto:\")\n",
    "mezcla.add(x)\n",
    "mezcla.add(\"negro\")\n",
    "mezcla.remove(3)\n",
    "print (mezcla)"
   ]
  },
  {
   "cell_type": "code",
   "execution_count": 35,
   "id": "8ca27860-ba10-4a4b-8830-b8e44c583951",
   "metadata": {},
   "outputs": [
    {
     "name": "stdout",
     "output_type": "stream",
     "text": [
      "{1, 'rojo', 4, 'azul', 6, 8, 'blanco', 'verde'}\n"
     ]
    }
   ],
   "source": [
    "#Ejercicio 1.6.9.\n",
    "#Crea un programa que combine los conjuntos numeros = {1, 4, 4, 8, 1, 6} y colores = {“verde”, “rojo”, “azul”, “verde”, “blanco”} \n",
    "#muestra por pantalla el nuevo conjunto que se crearía al combinarlos.\n",
    "\n",
    "numeros = {1, 4, 4, 8, 1, 6} \n",
    "colores = {\"verde\", \"rojo\", \"azul\", \"verde\", \"blanco\"}\n",
    "juntos = numeros.union(colores)\n",
    "print (juntos)\n"
   ]
  },
  {
   "cell_type": "code",
   "execution_count": 36,
   "id": "e87844a8-4dd1-47d8-b9cf-52fa6fe04a5a",
   "metadata": {},
   "outputs": [
    {
     "name": "stdout",
     "output_type": "stream",
     "text": [
      "True\n"
     ]
    }
   ],
   "source": [
    "#Ejercicio 1.6.11.\n",
    "# Crea un programa que compruebe si en el conjunto mezcla = {1, 'blanco', 4, 'verde', 6, 8, 'rojo', 'azul', 4, 1, 'verde'} está el elemento ‘verde’.\n",
    "\n",
    "mezcla = {1, 'blanco', 4, 'verde', 6, 8, 'rojo', 'azul', 4, 1, 'verde'}\n",
    "print ('verde' in mezcla)"
   ]
  },
  {
   "cell_type": "code",
   "execution_count": 51,
   "id": "a7719d8c-5073-4481-a565-f21d6be57d8c",
   "metadata": {},
   "outputs": [
    {
     "name": "stdout",
     "output_type": "stream",
     "text": [
      "perro - galgo\n",
      "gato - siamés\n",
      "pájaro - canario\n"
     ]
    }
   ],
   "source": [
    "#Ejercicio 1.6.12.\n",
    "#diccionario animales = {\"perro\":\"galgo\", \"gato\":\"siamés\", \"pájaro\":\"canario\"}\n",
    "#crea un programa que te devuelva por pantalla lo siguiente:\n",
    "#perro - galgo \n",
    "#gato - siamés \n",
    "#pájaro – canario \n",
    "\n",
    "\n",
    "animales = {\"perro\":\"galgo\", \"gato\":\"siamés\", \"pájaro\":\"canario\"}\n",
    "for i in animales:\n",
    "    print (f'{i} - {animales[i]}')\n",
    "    \n",
    "\n"
   ]
  },
  {
   "cell_type": "code",
   "execution_count": 52,
   "id": "76a2f4dd-287f-4362-8d7d-1974edfc2ed7",
   "metadata": {},
   "outputs": [
    {
     "name": "stdout",
     "output_type": "stream",
     "text": [
      "perro - galgo\n",
      "gato - siamés\n",
      "pájaro - canario\n",
      "serpiente - cobra\n"
     ]
    }
   ],
   "source": [
    "#Ejercicio 1.6.13.\n",
    "#Añade otro tipo de animal junto con una raza al diccionario anterior y muéstralo separado por guiones, tal y como lo has hecho en el listado anterior\n",
    "\n",
    "animales = {\"perro\":\"galgo\", \"gato\":\"siamés\", \"pájaro\":\"canario\"}\n",
    "animales[\"serpiente\"]=\"cobra\"\n",
    "for i in animales:\n",
    "    print (f'{i} - {animales[i]}')"
   ]
  },
  {
   "cell_type": "code",
   "execution_count": 55,
   "id": "dcca2548-e4f7-4fb8-a453-6ba15bb03804",
   "metadata": {},
   "outputs": [
    {
     "name": "stdout",
     "output_type": "stream",
     "text": [
      "perro - pitbull\n",
      "gato - siamés\n",
      "pájaro - canario\n",
      "serpiente - cobra\n"
     ]
    }
   ],
   "source": [
    "#Ejercicio 1.6.14.\n",
    "#Sustituye la raza de perro del diccionario anterior por pitbull.\n",
    "#Muestra el listado separado por guiones como en el ejercicio anterior.\n",
    "\n",
    "animales = {\"perro\":\"galgo\", \"gato\":\"siamés\", \"pájaro\":\"canario\"}\n",
    "animales[\"serpiente\"]=\"cobra\"\n",
    "animales[\"perro\"]=\"pitbull\"\n",
    "\n",
    "for i in animales:\n",
    "    print (f'{i} - {animales[i]}')"
   ]
  },
  {
   "cell_type": "code",
   "execution_count": 58,
   "id": "5e28ba3f-6ef1-4b6e-8e3d-36268af547ad",
   "metadata": {},
   "outputs": [
    {
     "name": "stdout",
     "output_type": "stream",
     "text": [
      "perro - pitbull\n",
      "gato - siamés\n",
      "insecto - mosquito\n"
     ]
    }
   ],
   "source": [
    "#Ejercicio 1.6.15.\n",
    "#Dado el diccionario del ejercicio anterior, animales = {\"perro\":\"pitbull\", \"gato\":\"siamés\", \"pájaro\":\"canario\", \"insecto\":\"mosquito\"}, \n",
    "#elimina el elemento con clave “pájaro”. Muestra la lista resultante por pantalla.\n",
    "\n",
    "animales = {\"perro\":\"pitbull\", \"gato\":\"siamés\", \"pájaro\":\"canario\",\"insecto\":\"mosquito\"}\n",
    "animales.pop(\"pájaro\")\n",
    "\n",
    "for i in animales:\n",
    "    print (f'{i} - {animales[i]}')"
   ]
  },
  {
   "cell_type": "code",
   "execution_count": 69,
   "id": "79207d4a-a0fa-451f-b248-6184eb4647fb",
   "metadata": {},
   "outputs": [
    {
     "name": "stdout",
     "output_type": "stream",
     "text": [
      "perro - pitbull\n",
      "gato - siamés\n",
      "insecto - mosquito\n"
     ]
    }
   ],
   "source": [
    "#Ejercicio 1.6.16.\n",
    "#Haz lo mismo que en el ejercicio anterior, pero utilizando otro método.\n",
    "\n",
    "animales = {\"perro\":\"pitbull\", \"gato\":\"siamés\", \"pájaro\":\"canario\",\"insecto\":\"mosquito\"}\n",
    "del animales[\"pájaro\"]\n",
    "\n",
    "for i in animales:\n",
    "    print (f'{i} - {animales[i]}')"
   ]
  },
  {
   "cell_type": "code",
   "execution_count": 74,
   "id": "cce6a948-5a2a-4d2d-8ae2-2db556d99d6b",
   "metadata": {},
   "outputs": [
    {
     "name": "stdout",
     "output_type": "stream",
     "text": [
      "Complete los siguientes datos:\n"
     ]
    },
    {
     "name": "stdin",
     "output_type": "stream",
     "text": [
      "Nombre: Tony\n",
      "Apellidos: Stark\n",
      "Edad: 52\n",
      "Ciudad de residencia: Sofía\n",
      "Número de teléfono: 666666666\n"
     ]
    },
    {
     "name": "stdout",
     "output_type": "stream",
     "text": [
      "Tony Stark tiene 52 años , vive en Sofía y su número de teléfono es 666666666\n"
     ]
    }
   ],
   "source": [
    "#Ejercicio 1.6.17.\n",
    "#Crea un diccionario con los datos de un usuario. \n",
    "#Para ello pregunta al usuario por su nombre, apellidos, edad, ciudad en la que vive y su número de teléfono. \n",
    "#Muestra por pantalla una frase similar a “Nombre Apellidos tiene x años, vive en ciudad y su número de teléfono es número”\n",
    "\n",
    "\n",
    "print (\"Complete los siguientes datos:\")\n",
    "nom = input(\"Nombre:\")\n",
    "ape = input(\"Apellidos:\")\n",
    "edad =input (\"Edad:\")\n",
    "city = input(\"Ciudad de residencia:\")\n",
    "tfno = input (\"Número de teléfono:\")\n",
    "\n",
    "agenda = {\"nombre\":nom, \"apellidos\":ape,\"edad\":edad,\"ciudad\":city,\"teléfono\":tfno}\n",
    "print (agenda[\"nombre\"],agenda[\"apellidos\"],\"tiene\",agenda[\"edad\"],\"años\",\",\",\"vive en\",agenda[\"ciudad\"],\"y su número de teléfono es\",agenda[\"teléfono\"])\n",
    "\n",
    "\n"
   ]
  },
  {
   "cell_type": "code",
   "execution_count": 86,
   "id": "790983a9-ee19-4b0b-8567-843ee07f3571",
   "metadata": {},
   "outputs": [
    {
     "name": "stdin",
     "output_type": "stream",
     "text": [
      "¿Qué dato quieres incluir?: personaje\n",
      "Introduce personaje Grogu\n",
      "¿Quieres introducir otro dato? (responde solo Si o No): si\n",
      "¿Qué dato quieres incluir?: amigo\n",
      "Introduce amigo Mandalorian\n",
      "¿Quieres introducir otro dato? (responde solo Si o No): no\n"
     ]
    },
    {
     "name": "stdout",
     "output_type": "stream",
     "text": [
      "{'personaje': 'Grogu', 'amigo': 'Mandalorian'}\n"
     ]
    }
   ],
   "source": [
    "#Ejercicio 1.6.18.\n",
    "#Crea un programa que vaya generando una agenda en un diccionario vacío y que incluya la información que el usuario quiera introducir. \n",
    "#Para ello se le preguntará al usuario qué dato quiere incluir, se le pedirá el dato y se guardará el que introduzca en el diccionario.\n",
    "#Después, se le preguntará al usuario si quiere incluir algún dato más, si dice que sí se le volverá a preguntar qué dato quiere incluir\n",
    "#se le pedirá el dato y se guardará en el diccionario. Le volveremos a preguntar si quiere incluir algún dato más, y seguiremos guardando datos hasta que conteste que no. \n",
    "#Cuando el usuario no quiera incluir más datos, se mostrará por pantalla el diccionario con todos los datos incluidos.\n",
    "\n",
    "agenda ={}\n",
    "\n",
    "pregunta = input(\"¿Qué dato quieres incluir?:\")\n",
    "valor = input(f\"Introduce {pregunta}\")\n",
    "agenda[pregunta] = valor\n",
    "\n",
    "otro = input (\"¿Quieres introducir otro dato? (responde solo Si o No):\").lower()\n",
    "while otro == \"si\":\n",
    "    pregunta = input(\"¿Qué dato quieres incluir?:\")\n",
    "    valor = input(f\"Introduce {pregunta}\")\n",
    "    agenda[pregunta] = valor\n",
    "    otro = input (\"¿Quieres introducir otro dato? (responde solo Si o No):\").lower()\n",
    "\n",
    "print(agenda)\n",
    "\n"
   ]
  },
  {
   "cell_type": "code",
   "execution_count": 1,
   "id": "96c2208b-c763-4b7e-a01d-32a6844a7992",
   "metadata": {},
   "outputs": [
    {
     "name": "stdin",
     "output_type": "stream",
     "text": [
      "Elige una de estas opciones:\n",
      "1.Agregar un producto\n",
      "2.Eliminar producton\n",
      "3.Listar productos\n",
      "4.Cerrar\n",
      " 1\n",
      "Introduce el producto que quieres agregar: pollo\n",
      "Introduce las unidades de pollo: 2\n",
      "Elige una de estas opciones:\n",
      "1.Agregar un producto\n",
      "2.Eliminar producton\n",
      "3.Listar productos\n",
      "4.Cerrar\n",
      " 1\n",
      "Introduce el producto que quieres agregar: patatas\n",
      "Introduce las unidades de patatas: 3\n",
      "Elige una de estas opciones:\n",
      "1.Agregar un producto\n",
      "2.Eliminar producton\n",
      "3.Listar productos\n",
      "4.Cerrar\n",
      " 3\n"
     ]
    },
    {
     "name": "stdout",
     "output_type": "stream",
     "text": [
      "{'pollo': 2, 'patatas': 3}\n"
     ]
    },
    {
     "name": "stdin",
     "output_type": "stream",
     "text": [
      "Elige una de estas opciones:\n",
      "1.Agregar un producto\n",
      "2.Eliminar producton\n",
      "3.Listar productos\n",
      "4.Cerrar\n",
      " 2\n",
      "Introduce el producto que quieres eliminar: pollo\n",
      "Elige una de estas opciones:\n",
      "1.Agregar un producto\n",
      "2.Eliminar producton\n",
      "3.Listar productos\n",
      "4.Cerrar\n",
      " 3\n"
     ]
    },
    {
     "name": "stdout",
     "output_type": "stream",
     "text": [
      "{'patatas': 3}\n"
     ]
    },
    {
     "name": "stdin",
     "output_type": "stream",
     "text": [
      "Elige una de estas opciones:\n",
      "1.Agregar un producto\n",
      "2.Eliminar producton\n",
      "3.Listar productos\n",
      "4.Cerrar\n",
      " 4\n"
     ]
    },
    {
     "name": "stdout",
     "output_type": "stream",
     "text": [
      "Lista de la compra cerrada.\n"
     ]
    }
   ],
   "source": [
    "### Ejercicio 1.6.19.\n",
    "#Crea un programa que te permita gestionar una lista de la compra. \n",
    "#Para ello, los elementos que vamos a apuntar en nuestra lista se irán guardando en un diccionario. Los datos que tendremos serán el nombre del elemento y la cantidad de elementos que queremos comprar.\n",
    "\n",
    "#Nuestro programa de gestión nos preguntará qué queremos hacer en nuestra lista de la compra, \n",
    "#las opciones del menú serán: (1) Agregar un producto, (2) Eliminar un producto, (3) Listar todos los productos, (4) Cerrar. \n",
    "\n",
    "#Según la opción elegida nuestro programa realizará las siguientes acciones:\n",
    "\n",
    "#(1) Agregar un producto. Nos permitirá agregar un producto a nuestra lista\n",
    "\n",
    "#(2) Eliminar un producto. Nos permitirá borrar un producto de nuestra lista\n",
    "\n",
    "#(3) Listar todos los productos. Nos mostrará todos los productos que tenemos en nuestra lista\n",
    "\n",
    "#(4) Cerrar. Terminará el programa.\n",
    "\n",
    "listcompra = {}\n",
    "while True:\n",
    "    opciones = int(input(\"Elige una de estas opciones:\\n1.Agregar un producto\\n2.Eliminar producton\\n3.Listar productos\\n4.Cerrar\\n\"))\n",
    "    if opciones == 1:\n",
    "        agregar = input(\"Introduce el producto que quieres agregar:\")\n",
    "        cantidad = int(input(f\"Introduce las unidades de {agregar}:\"))\n",
    "        listcompra[agregar] = cantidad\n",
    "    elif opciones == 2:\n",
    "        eliminar = input(\"Introduce el producto que quieres eliminar:\")\n",
    "        listcompra.pop(eliminar)\n",
    "    elif opciones == 3:\n",
    "        print(listcompra)\n",
    "    elif opciones == 4:\n",
    "        print (\"Lista de la compra cerrada.\")\n",
    "        break"
   ]
  },
  {
   "cell_type": "code",
   "execution_count": null,
   "id": "61fc0762-42b0-4d72-a0ea-2f63665f4ff7",
   "metadata": {},
   "outputs": [],
   "source": []
  }
 ],
 "metadata": {
  "kernelspec": {
   "display_name": "Python 3 (ipykernel)",
   "language": "python",
   "name": "python3"
  },
  "language_info": {
   "codemirror_mode": {
    "name": "ipython",
    "version": 3
   },
   "file_extension": ".py",
   "mimetype": "text/x-python",
   "name": "python",
   "nbconvert_exporter": "python",
   "pygments_lexer": "ipython3",
   "version": "3.9.13"
  }
 },
 "nbformat": 4,
 "nbformat_minor": 5
}
