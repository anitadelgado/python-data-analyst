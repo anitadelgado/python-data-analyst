{
 "cells": [
  {
   "cell_type": "code",
   "execution_count": 4,
   "id": "5dc50b67-7dd2-4d61-9bcd-a414e2e25d45",
   "metadata": {},
   "outputs": [
    {
     "name": "stdin",
     "output_type": "stream",
     "text": [
      "Introduzca su código PIN: 3456\n"
     ]
    },
    {
     "name": "stdout",
     "output_type": "stream",
     "text": [
      "El PIN es incorrecto. Inténtelo de nuevo:\n"
     ]
    },
    {
     "name": "stdin",
     "output_type": "stream",
     "text": [
      "Introduzca su código PIN: 1234\n"
     ]
    },
    {
     "name": "stdout",
     "output_type": "stream",
     "text": [
      "PIN ACEPTADO\n"
     ]
    }
   ],
   "source": [
    "#EJERCICIO 1\n",
    "\n",
    "mensaje = int(input(\"Introduzca su código PIN:\"))\n",
    "pin = 1234\n",
    "\n",
    "while pin != mensaje:\n",
    "    print (\"El PIN es incorrecto. Inténtelo de nuevo:\")\n",
    "    mensaje = int(input(\"Introduzca su código PIN:\"))\n",
    "\n",
    "print (\"PIN ACEPTADO\")"
   ]
  },
  {
   "cell_type": "code",
   "execution_count": 5,
   "id": "b2026388-8c00-4293-a973-fac86ca01c97",
   "metadata": {},
   "outputs": [
    {
     "name": "stdin",
     "output_type": "stream",
     "text": [
      "Ingresa un número:  1\n"
     ]
    },
    {
     "name": "stdout",
     "output_type": "stream",
     "text": [
      "1 x 0 = 0\n",
      "1 x 1 = 1\n",
      "1 x 2 = 2\n",
      "1 x 3 = 3\n",
      "1 x 4 = 4\n",
      "1 x 5 = 5\n",
      "1 x 6 = 6\n",
      "1 x 7 = 7\n",
      "1 x 8 = 8\n",
      "1 x 9 = 9\n",
      "1 x 10 = 10\n"
     ]
    }
   ],
   "source": [
    "numero = int(input(\"Ingresa un número: \"))\n",
    "for i in range(0, 11):\n",
    "    print(f'{numero} x {i} = {numero * i}')"
   ]
  },
  {
   "cell_type": "code",
   "execution_count": 23,
   "id": "9d7125be-ec65-41ad-b5ca-4071cf14c508",
   "metadata": {},
   "outputs": [
    {
     "name": "stdout",
     "output_type": "stream",
     "text": [
      "Introduce varios números. Cuando introduzcas cero, los sumamos.\n"
     ]
    },
    {
     "name": "stdin",
     "output_type": "stream",
     "text": [
      "Introduce un número: 1\n",
      "Introduce un número: 2\n",
      "Introduce un número: 0\n"
     ]
    },
    {
     "name": "stdout",
     "output_type": "stream",
     "text": [
      "La suma de todos los números es: 3\n"
     ]
    }
   ],
   "source": [
    "#EJERCICIO 2: Crea un programa que te vaya solicitando números hasta que introduzcas el número 0 \n",
    "#Cuando esto ocurra, te devuelva la suma de todos los números introducidos. \n",
    "\n",
    "print (\"Introduce varios números. Cuando introduzcas cero, los sumamos.\")\n",
    "numero = int(input(\"Introduce un número:\"))\n",
    "suma = 1\n",
    "\n",
    "\n",
    "while numero != 0:\n",
    "    numero = int(input(\"Introduce un número:\"))\n",
    "    suma += numero\n",
    "\n",
    "print (\"La suma de todos los números es:\", suma)\n",
    "\n"
   ]
  },
  {
   "cell_type": "code",
   "execution_count": 3,
   "id": "fbd0f80d-4263-4c96-bf71-3b808b768b09",
   "metadata": {},
   "outputs": [
    {
     "name": "stdin",
     "output_type": "stream",
     "text": [
      "¿Cuánto dinero quieres ahorrar?: 1000\n",
      "Cuánto dinero metes en la hucha?: 500\n",
      "Cuánto dinero metes en la hucha?: 700\n"
     ]
    },
    {
     "name": "stdout",
     "output_type": "stream",
     "text": [
      "Genial, has conseguido llegar a tu objetivo y has ahorrado 1200\n"
     ]
    }
   ],
   "source": [
    "#EJERCICIO 3\n",
    "#Crea un programa que te indique cuando has conseguido guardar en la hucha la cantidad de dinero que quieres ahorrar. \n",
    "#Primero tienes que preguntar “¿Cuánto dinero quieres ahorrar?” \n",
    "#Después pregunta “¿Cuánto dinero metes en la hucha?” tantas veces como sea necesario hasta llegar a la cantidad \n",
    "#Cuando hayas llegado o superado esa cantidad: “Genial, has conseguido llegar a tu objetivo y has ahorrado xxx”. \n",
    "\n",
    "total = int(input(\"¿Cuánto dinero quieres ahorrar?:\"))\n",
    "ahorro = 0\n",
    "\n",
    "while total > ahorro:\n",
    "    dinero = int(input(\"Cuánto dinero metes en la hucha?:\"))\n",
    "    ahorro = dinero + ahorro\n",
    "\n",
    "print (\"Genial, has conseguido llegar a tu objetivo y has ahorrado\", ahorro)\n",
    "             "
   ]
  },
  {
   "cell_type": "code",
   "execution_count": 1,
   "id": "139c1c1a-ece1-4665-9ebd-8848a651e52f",
   "metadata": {},
   "outputs": [
    {
     "name": "stdin",
     "output_type": "stream",
     "text": [
      "Introduce un número positivo: 4\n",
      "Introduce un número positivo: 3\n",
      "Introduce un número positivo: 2\n",
      "Introduce un número positivo: 1\n",
      "Introduce un número positivo: 0\n"
     ]
    },
    {
     "name": "stdout",
     "output_type": "stream",
     "text": [
      "4\n"
     ]
    }
   ],
   "source": [
    "resultado=-1 \n",
    "numero=int(input(\"Introduce un número positivo:\")) \n",
    "\n",
    "while numero>0: \n",
    "    if numero>resultado: \n",
    "        resultado=numero \n",
    "    numero=int(input(\"Introduce un número positivo:\")) \n",
    "print(resultado) "
   ]
  },
  {
   "cell_type": "code",
   "execution_count": 5,
   "id": "aa497e3d-efee-441e-873d-b614c940f676",
   "metadata": {},
   "outputs": [
    {
     "name": "stdin",
     "output_type": "stream",
     "text": [
      "Introduzca un número positivo: 567\n"
     ]
    },
    {
     "name": "stdout",
     "output_type": "stream",
     "text": [
      "La suma de los dígitos es 18\n"
     ]
    }
   ],
   "source": [
    "#EJERCICIO 5\n",
    "#Crea un programa que solicite un número positivo a través de la consola y que devuelva la suma de todos sus dígitos. \n",
    "#Por ejemplo, si introduces el número 1234, el resultado será 10.\n",
    "\n",
    "numero = input(\"Introduzca un número positivo:\") \n",
    "suma = 0\n",
    "\n",
    "for i in numero:\n",
    "    suma += int(i) #recordar convertir a numero entero\n",
    "    \n",
    "print (\"La suma de los dígitos es\", suma)\n"
   ]
  },
  {
   "cell_type": "code",
   "execution_count": 6,
   "id": "59af6f99-9d2f-41ce-8a2e-f000eb8436b7",
   "metadata": {},
   "outputs": [
    {
     "name": "stdout",
     "output_type": "stream",
     "text": [
      "\n"
     ]
    },
    {
     "name": "stdin",
     "output_type": "stream",
     "text": [
      "Escribe una palabra cualquiera o escribe salir para terminar: primavera\n"
     ]
    },
    {
     "name": "stdout",
     "output_type": "stream",
     "text": [
      "primavera\n"
     ]
    },
    {
     "name": "stdin",
     "output_type": "stream",
     "text": [
      "Escribe una palabra cualquiera o escribe salir para terminar: salir\n"
     ]
    },
    {
     "name": "stdout",
     "output_type": "stream",
     "text": [
      "Hemos terminado\n"
     ]
    }
   ],
   "source": [
    "#EJERCICIO 6\n",
    "#Programa que te solicite una palabra y que te devuelva la palabra que has escrito hasta que escribas la palabra salir, que terminará el programa\n",
    "\n",
    "salir = \"salir\"\n",
    "palabra = \"\"\n",
    "while palabra != salir:\n",
    "    print (palabra)\n",
    "    palabra = input(\"Escribe una palabra cualquiera o escribe salir para terminar:\")\n",
    "    \n",
    "print (\"Hemos terminado\")\n",
    "        "
   ]
  },
  {
   "cell_type": "code",
   "execution_count": 14,
   "id": "32390fda-7751-4fba-8b6a-f4dcd05cff4e",
   "metadata": {},
   "outputs": [
    {
     "name": "stdout",
     "output_type": "stream",
     "text": [
      "Calculando el cuadrado\n",
      "El cuadrado del número 0 es 0\n",
      "El cuadrado del número 1 es 1\n",
      "El cuadrado del número 2 es 4\n",
      "El cuadrado del número 3 es 9\n",
      "El cuadrado del número 4 es 16\n",
      "El cuadrado del número 5 es 25\n"
     ]
    }
   ],
   "source": [
    "#EJERCICIO 7\n",
    "#Crea un programa que muestre por pantalla los números del 0 al 5 y el resultado de elevarlos al cuadrado\n",
    "\n",
    "print (\"Calculando el cuadrado\")\n",
    "for i in range (0,6):\n",
    "    cuadrado = int(i**2)\n",
    "\n",
    "    print (\"El cuadrado del número\", i, \"es\", cuadrado)"
   ]
  },
  {
   "cell_type": "code",
   "execution_count": 24,
   "id": "b2e452af-9e47-49cf-9ab0-6d59a0405bd5",
   "metadata": {},
   "outputs": [
    {
     "name": "stdout",
     "output_type": "stream",
     "text": [
      "1 elefante se balanceaba\n",
      "sobre la tela de una araña,\n",
      "como veia que no se caia\n",
      "fueron a llamar a otro elefante\n",
      "2 elefantes se balanceaban\n",
      "sobre la tela de una araña,\n",
      "como veian que no se caian\n",
      "fueron a llamar a otro elefante\n",
      "3 elefantes se balanceaban\n",
      "sobre la tela de una araña,\n",
      "como veian que no se caian\n",
      "fueron a llamar a otro elefante\n",
      "4 elefantes se balanceaban\n",
      "sobre la tela de una araña,\n",
      "como veian que no se caian\n",
      "fueron a llamar a otro elefante\n",
      "5 elefantes se balanceaban\n",
      "sobre la tela de una araña,\n",
      "como veian que no se caian\n",
      "fueron a llamar a otro elefante\n",
      "6 elefantes se balanceaban\n",
      "sobre la tela de una araña,\n",
      "como veian que no se caian\n",
      "fueron a llamar a otro elefante\n",
      "7 elefantes se balanceaban\n",
      "sobre la tela de una araña,\n",
      "como veian que no se caian\n",
      "fueron a llamar a otro elefante\n",
      "8 elefantes se balanceaban\n",
      "sobre la tela de una araña,\n",
      "como veian que no se caian\n",
      "fueron a llamar a otro elefante\n",
      "9 elefantes se balanceaban\n",
      "sobre la tela de una araña,\n",
      "como veian que no se caian\n",
      "fueron a llamar a otro elefante\n",
      "10 elefantes se balanceaban\n",
      "sobre la tela de una araña,\n",
      "como veian que no se caian\n",
      "fueron a llamar a otro elefante\n",
      "11 elefantes se balanceaban\n",
      "sobre la tela de una araña,\n",
      "como veian que no se caian\n",
      "fueron a llamar a otro elefante\n",
      "12 elefantes se balanceaban\n",
      "sobre la tela de una araña,\n",
      "como veian que no se caian\n",
      "fueron a llamar a otro elefante\n",
      "13 elefantes se balanceaban\n",
      "sobre la tela de una araña,\n",
      "como veian que no se caian\n",
      "fueron a llamar a otro elefante\n",
      "14 elefantes se balanceaban\n",
      "sobre la tela de una araña,\n",
      "como veian que no se caian\n",
      "fueron a llamar a otro elefante\n",
      "15 elefantes se balanceaban\n",
      "sobre la tela de una araña,\n",
      "como veian que no se caian\n",
      "fueron a llamar a otro elefante\n",
      "16 elefantes se balanceaban\n",
      "sobre la tela de una araña,\n",
      "como veian que no se caian\n",
      "fueron a llamar a otro elefante\n",
      "17 elefantes se balanceaban\n",
      "sobre la tela de una araña,\n",
      "como veian que no se caian\n",
      "fueron a llamar a otro elefante\n",
      "18 elefantes se balanceaban\n",
      "sobre la tela de una araña,\n",
      "como veian que no se caian\n",
      "fueron a llamar a otro elefante\n",
      "19 elefantes se balanceaban\n",
      "sobre la tela de una araña,\n",
      "como veian que no se caian\n",
      "fueron a llamar a otro elefante\n",
      "20 elefantes se balanceaban\n",
      "sobre la tela de una araña,\n",
      "como veian que no se caian\n",
      "fueron a llamar a otro elefante\n"
     ]
    }
   ],
   "source": [
    "#EJERCICIO 8\n",
    "#Crea un programa que muestre por pantalla los versos de la canción infantil Un elefante se balanceaba, hasta que en la tela haya 20 elefantes.\n",
    "\n",
    "for i in range (1,21):\n",
    "    if i == 1:\n",
    "        print (i, \"elefante se balanceaba\\nsobre la tela de una araña,\\n\"+\"como veia que no se caia\\nfueron a llamar a otro elefante\")\n",
    "    else:\n",
    "        print (i, \"elefantes se balanceaban\\nsobre la tela de una araña,\\n\"+\"como veian que no se caian\\nfueron a llamar a otro elefante\")"
   ]
  },
  {
   "cell_type": "code",
   "execution_count": 49,
   "id": "2c82c112-5e04-4f1c-8ae8-64a58109fc87",
   "metadata": {},
   "outputs": [
    {
     "name": "stdin",
     "output_type": "stream",
     "text": [
      "Introduce un número positivo: -3\n"
     ]
    },
    {
     "name": "stdout",
     "output_type": "stream",
     "text": [
      "Debe introducir un número mayor que cero\n"
     ]
    },
    {
     "name": "stdin",
     "output_type": "stream",
     "text": [
      "Introduce un número positivo: 25\n"
     ]
    },
    {
     "name": "stdout",
     "output_type": "stream",
     "text": [
      "Los divisores de  25 son\n",
      "1 5 25 "
     ]
    }
   ],
   "source": [
    "#EJERCICIO 9\n",
    "#Crea un programa que calcule los divisores de un número positivo. \n",
    "#Para ello solicita que se introduzca un número mayor que cero y devuelve todos sus divisores\n",
    "#Si el número es 0 o negativo, lanza un mensaje que indique el número no es mayor que cero\n",
    "\n",
    "num = int(input(\"Introduce un número positivo:\"))\n",
    "\n",
    "if num <= 0:\n",
    "    print (\"Debe introducir un número mayor que cero\")\n",
    "    num = int(input(\"Introduce un número positivo:\"))\n",
    "\n",
    "print (\"Los divisores de \",num, \"son\")\n",
    "\n",
    "for n in range (1, num+1):\n",
    "    if num % n == 0:\n",
    "        print (n, end=' ')\n",
    "    \n",
    "        \n",
    "    \n",
    "    "
   ]
  },
  {
   "cell_type": "code",
   "execution_count": 71,
   "id": "ed0d8bbd-5470-4433-b803-85b189666f47",
   "metadata": {},
   "outputs": [
    {
     "name": "stdin",
     "output_type": "stream",
     "text": [
      "Introduce una frase: Hasta la vista baby\n",
      "Introduce una letra: a\n"
     ]
    },
    {
     "name": "stdout",
     "output_type": "stream",
     "text": [
      "La letra a aparece 5 veces en la frase: hasta la vista baby\n"
     ]
    }
   ],
   "source": [
    "#EJERCICIO 10\n",
    "#Crea un programa que cuente las veces que aparece una letra determinada en una frase. \n",
    "#Para ello, pide al usuario que introduzca una frase a través de la consola y pídele, además, que introduzca una letra. \n",
    "#El programa devolverá una frase similar a “La letra p aparece 2 veces en la frase: Pero en qué estás pensando”. \n",
    "\n",
    "frase = input(\"Introduce una frase:\").lower()\n",
    "letra = input(\"Introduce una letra:\").lower()\n",
    "total = 0\n",
    "\n",
    "for i in frase:\n",
    "    if i == letra:\n",
    "        total +=1\n",
    "    \n",
    "print (\"La letra\", letra, \"aparece\", total,\"veces en la frase:\", frase)"
   ]
  },
  {
   "cell_type": "code",
   "execution_count": 9,
   "id": "f0edc41b-206e-4281-bf77-0e1583cf487b",
   "metadata": {},
   "outputs": [
    {
     "name": "stdin",
     "output_type": "stream",
     "text": [
      "Introduce un número: 7\n",
      "Introduce otro número mayor que el primero: 2\n"
     ]
    },
    {
     "name": "stdout",
     "output_type": "stream",
     "text": [
      "Número erroneo, prueba otra vez\n"
     ]
    },
    {
     "name": "stdin",
     "output_type": "stream",
     "text": [
      "Introduce otro número mayor que el primero: 14\n"
     ]
    },
    {
     "name": "stdout",
     "output_type": "stream",
     "text": [
      "8\n",
      "10\n",
      "12\n"
     ]
    }
   ],
   "source": [
    "#EJERCICIO 11\n",
    "#Crea un programa que muestre por pantalla los números que hay entre dos números dados, pero saltándose un número sí y otro no. \n",
    "#Si el número introducido en segundo lugar es menor o igual que el introducido en primer lugar, el programa lanzará un mensaje de error\n",
    "\n",
    "num1= int(input(\"Introduce un número:\"))\n",
    "num2= int(input(\"Introduce otro número mayor que el primero:\"))\n",
    "\n",
    "if num1>=num2:\n",
    "    print (\"Número erroneo, prueba otra vez\")\n",
    "    num2= int(input(\"Introduce otro número mayor que el primero:\"))\n",
    "\n",
    "for i in range (num1+1,num2,2):\n",
    "    print (i)"
   ]
  },
  {
   "cell_type": "code",
   "execution_count": 16,
   "id": "bf9d516a-4eb1-403b-b4b6-9509a5902aca",
   "metadata": {},
   "outputs": [
    {
     "name": "stdin",
     "output_type": "stream",
     "text": [
      "Introduce un numero: 1\n"
     ]
    },
    {
     "name": "stdout",
     "output_type": "stream",
     "text": [
      "Introduzca otro número igual o mayor que 2\n"
     ]
    },
    {
     "name": "stdin",
     "output_type": "stream",
     "text": [
      "Introduce un numero: 5\n"
     ]
    },
    {
     "name": "stdout",
     "output_type": "stream",
     "text": [
      "El número 5 es primo\n"
     ]
    }
   ],
   "source": [
    "#EJERCICIO 12\n",
    "#Crea un programa que, al introducirle un número mayor que 2, muestre por pantalla si el número es primo o no lo es. \n",
    "#Propón dos formas de resolver este ejercicio, una utilizando while y otra utilizando for. \n",
    "\n",
    "#OPCION for\n",
    "\n",
    "num = int(input(\"Introduce un numero:\"))\n",
    "\n",
    "if num < 2:\n",
    "    print (\"Introduzca otro número igual o mayor que 2\")\n",
    "    num = int(input(\"Introduce un numero:\"))\n",
    "                \n",
    "for i in range (2, num):\n",
    "        if num%i == 0:\n",
    "            print (\"El número\", num, \"no es primo\")\n",
    "            break\n",
    "        else:\n",
    "            print (\"El número\", num, \"es primo\")\n",
    "            break"
   ]
  },
  {
   "cell_type": "code",
   "execution_count": 47,
   "id": "236e28cc-7373-44a1-90e0-974a8fe97281",
   "metadata": {},
   "outputs": [
    {
     "name": "stdin",
     "output_type": "stream",
     "text": [
      "Introduce un numero: 22\n"
     ]
    },
    {
     "name": "stdout",
     "output_type": "stream",
     "text": [
      "El numero 22 no es primo\n"
     ]
    }
   ],
   "source": [
    "#OPCION while\n",
    "\n",
    "num = int(input(\"Introduce un numero:\"))\n",
    "\n",
    "while num<=2:\n",
    "    rint (\"Introduzca otro número igual o mayor que 2\")\n",
    "    num = int(input(\"Introduce un numero:\"))\n",
    "\n",
    "while num>2:\n",
    "    if num%2 == 0:\n",
    "        print (\"El numero\", num, \"no es primo\")\n",
    "        break\n",
    "    else: \n",
    "        print(\"El numero\", num, \"es primo\")\n",
    "        break"
   ]
  },
  {
   "cell_type": "code",
   "execution_count": 31,
   "id": "7d189f17-4468-462a-9173-4c71b50bb158",
   "metadata": {},
   "outputs": [
    {
     "name": "stdin",
     "output_type": "stream",
     "text": [
      "Introduzca un número: 7\n",
      "Introduzca otro número: 14\n"
     ]
    },
    {
     "name": "stdout",
     "output_type": "stream",
     "text": [
      "El mayor valor es: 14\n"
     ]
    }
   ],
   "source": [
    "#EJERCICIO 1.4.7\n",
    "# Crea un programa que solo tenga tres líneas de código, \n",
    "#una para pedir al usuario que escriba un valor, otra para pedir al usuario que escriba otro valor, y una última para sacar la frase:\n",
    "#“El mayor valor es: x” (donde x será el mayor de los dos valores que el usuario ha introducido). \n",
    "\n",
    "x = int(input(\"Introduzca un número:\"))\n",
    "y = int(input(\"Introduzca otro número:\"))\n",
    "print (\"El mayor valor es:\", x if x>y else y)"
   ]
  },
  {
   "cell_type": "code",
   "execution_count": 38,
   "id": "98738cde-1f98-4676-90fb-5c51888860de",
   "metadata": {},
   "outputs": [
    {
     "name": "stdin",
     "output_type": "stream",
     "text": [
      "Introduzca el valor de x: 0\n",
      "introduzca el valor de y: 0\n"
     ]
    },
    {
     "name": "stdout",
     "output_type": "stream",
     "text": [
      "El valor de 2 es mayor que el valor de 0\n"
     ]
    }
   ],
   "source": [
    "#EJERCICIO 1.4.8\n",
    "#Programa que solicite dos números al usuario, x e y. \n",
    "#Mientras el valor de x más 1, por 2, sea mayor que el valor de y, “El valor z es mayor que el valor y”, donde “z” será el valor de la operación.\n",
    "#Después, suma uno a “y” y resta 1 a “z”. \n",
    "\n",
    "#Cuando no se cumpla la condición “z es menor que y”, donde “z” e “y” se sustituirán por sus valores correspondientes en ese momento. \n",
    "\n",
    "x = int(input(\"Introduzca el valor de x:\"))\n",
    "y = int(input(\"introduzca el valor de y:\"))\n",
    "\n",
    "if (x+1)*2 > y:\n",
    "    z = (x+1)*2\n",
    "    print (\"El valor de\", z, \"es mayor que el valor de\", y)\n",
    "    y += 1\n",
    "    z -= 1\n",
    "else:\n",
    "    print (\"El valor de\", z, \"es menor que el valor de\", y)\n"
   ]
  },
  {
   "cell_type": "code",
   "execution_count": 54,
   "id": "d5fe6b56-2223-4589-b87f-78aab09a20e4",
   "metadata": {},
   "outputs": [
    {
     "name": "stdin",
     "output_type": "stream",
     "text": [
      "Introduzca un número: 4\n",
      "Introduzca otro número: 25\n"
     ]
    },
    {
     "name": "stdout",
     "output_type": "stream",
     "text": [
      "Se cumple la condición solicitada para 4 y 25\n",
      "Se cumple segunda condición para el calculo y ahora son 8 y 50\n"
     ]
    }
   ],
   "source": [
    "#EJERCICIO 1.4.9\n",
    "#Crea un programa que solicite dos números al usuario por pantalla, a y b, distintos de 0, \n",
    "#que muestre por pantalla la frase “Se cumple la condición solicitada para a y b (siendo a y b sustituidos por su valor correspondiente)”. \n",
    "#Después, duplica el valor de a y b mientras se cumpla que el resultado de sumar (3 + 6)*2  sea mayor que el número “a”\n",
    "#que “a” sea también mayor que (20+10)/b \n",
    "\n",
    "#Cuando no se cumpla la condición: “No se cumple la condición solicitada para a y b (siendo a y b sustituidos por su valor correspondiente)”. \n",
    "#Ojo, si alguno de los valores introducidos por el usuario es 0 deberá mostrarse un mensaje que diga “Ninguno de los números puede ser 0. \n",
    "\n",
    "a = int(input(\"Introduzca un número:\"))\n",
    "b = int(input(\"Introduzca otro número:\"))\n",
    "\n",
    "if a == 0 or b == 0:\n",
    "    print (\"No se cumple la condición solicitada para\", a, \"y\", b, \"deben ser mayores que cero\")\n",
    "    a = int(input(\"Introduzca un número:\"))\n",
    "    b = int(input(\"Introduzca otro número:\"))\n",
    "else:\n",
    "    print (\"Se cumple la condición solicitada para\", a, \"y\", b)\n",
    "\n",
    "if (3+6)*2>a and a>(20+10)/b:\n",
    "    a *= 2\n",
    "    b *= 2\n",
    "    print (\"Se cumple segunda condición para el calculo y ahora son\",a, \"y\", b)\n",
    "\n",
    "else:\n",
    "    print (\"No se cumple la segunda condición para el cálculo final con\", a, \"y\", b)"
   ]
  },
  {
   "cell_type": "code",
   "execution_count": 65,
   "id": "2c92ecbc-9f3c-49e8-99ab-adfdb11e0c58",
   "metadata": {},
   "outputs": [
    {
     "name": "stdin",
     "output_type": "stream",
     "text": [
      "Introduzca un numero: 4\n",
      "Introduzca otro número: 5\n"
     ]
    },
    {
     "name": "stdout",
     "output_type": "stream",
     "text": [
      "0 1 2 3 4 5 6 7 8 9 "
     ]
    }
   ],
   "source": [
    "#EJERCICIO 1.4.11\n",
    "\n",
    "#Crea un programa que le solicite al usuario dos números, a y b\n",
    "#Si (3+5*8)<3 and ((-6*4/3)+2<2) or a+2>b, es verdadero, print los números del 0 al 9, \n",
    "#i el resultado es falso, imprima las letras a, b, c, d y e.  \n",
    "\n",
    "a = int(input(\"Introduzca un numero:\"))\n",
    "b = int(input(\"Introduzca otro número:\"))\n",
    "\n",
    "if (3+5*8)<3 and ((-6*4/3)+2<2) or a+2>b:\n",
    "    for i in range (10):\n",
    "        print (i, end=\" \")\n",
    "else:\n",
    "    print (\"a b c d e\")\n",
    "#Si es falso, imprima las letras a, b, c, d y e.  "
   ]
  },
  {
   "cell_type": "code",
   "execution_count": null,
   "id": "82463a5e-5245-49a6-9d89-2607d1dc75ae",
   "metadata": {},
   "outputs": [],
   "source": []
  }
 ],
 "metadata": {
  "kernelspec": {
   "display_name": "Python 3 (ipykernel)",
   "language": "python",
   "name": "python3"
  },
  "language_info": {
   "codemirror_mode": {
    "name": "ipython",
    "version": 3
   },
   "file_extension": ".py",
   "mimetype": "text/x-python",
   "name": "python",
   "nbconvert_exporter": "python",
   "pygments_lexer": "ipython3",
   "version": "3.9.13"
  }
 },
 "nbformat": 4,
 "nbformat_minor": 5
}
