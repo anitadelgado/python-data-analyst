{
 "cells": [
  {
   "cell_type": "markdown",
   "id": "f0f6e275",
   "metadata": {},
   "source": [
    "Cabe resaltar que las columnas seleccionadas son las variables que se colocó en el de pearson, se puede modificar.\n",
    "No estoy seguro si el codigo está correcto en su totalidad ya que los parametros puede ir cambiar para ajustarse mejor. Utilicé las del pdf pero si funcionan con normalidad"
   ]
  },
  {
   "cell_type": "code",
   "execution_count": null,
   "id": "20c6c460",
   "metadata": {},
   "outputs": [],
   "source": [
    "El primero es de KMeans y segundo de elbow"
   ]
  },
  {
   "cell_type": "code",
   "execution_count": null,
   "id": "4845406c",
   "metadata": {},
   "outputs": [],
   "source": [
    "from sklearn.cluster import KMeans\n",
    "import matplotlib.pyplot as plt\n",
    "\n",
    "X = df8[['Exited', 'Age', 'Geography', 'Balance']].values\n",
    "\n",
    "kmeans = KMeans(n_clusters=3, random_state=0)\n",
    "\n",
    "\n",
    "kmeans.fit(X)\n",
    "\n",
    "\n",
    "labels = kmeans.predict(X)\n",
    "\n",
    "centroides = kmeans.cluster_centers_\n",
    "print(\"Centroides:\\n\", centroides)\n",
    "\n",
    "plt.scatter(X[:, 1], X[:, 3], c=labels)  \n",
    "plt.scatter(centroides[:, 1], centroides[:, 3], marker=\"x\", s=200, linewidths=3, color=\"r\")\n",
    "plt.show()"
   ]
  },
  {
   "cell_type": "code",
   "execution_count": null,
   "id": "ba371f24",
   "metadata": {},
   "outputs": [],
   "source": [
    "En este caso se puede ver que con 3 clústers la pendiente baja de manera brusca"
   ]
  },
  {
   "cell_type": "code",
   "execution_count": null,
   "id": "5dbf9de5",
   "metadata": {},
   "outputs": [],
   "source": [
    "X = df8[['Exited', 'Age', 'Geography', 'Balance']].values\n",
    "\n",
    "distorsion = []\n",
    "\n",
    "\n",
    "for i in range(1, 10):\n",
    "    kmeans = KMeans(n_clusters=i, random_state=0).fit(X)\n",
    "    distorsion.append(kmeans.inertia_)\n",
    "\n",
    "\n",
    "plt.plot(range(1, 10), distorsion, 'bx-')\n",
    "plt.xlabel('Número de Clusters')\n",
    "plt.ylabel('Distorsión\")')\n",
    "plt.title('Método de la Dispersión)')\n",
    "plt.show()"
   ]
  }
 ],
 "metadata": {
  "kernelspec": {
   "display_name": "Python 3 (ipykernel)",
   "language": "python",
   "name": "python3"
  },
  "language_info": {
   "codemirror_mode": {
    "name": "ipython",
    "version": 3
   },
   "file_extension": ".py",
   "mimetype": "text/x-python",
   "name": "python",
   "nbconvert_exporter": "python",
   "pygments_lexer": "ipython3",
   "version": "3.9.13"
  }
 },
 "nbformat": 4,
 "nbformat_minor": 5
}
