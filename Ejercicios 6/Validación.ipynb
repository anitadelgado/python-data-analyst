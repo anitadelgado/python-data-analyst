{
 "cells": [
  {
   "cell_type": "code",
   "execution_count": 29,
   "id": "d452a131-d6ef-427b-ac5d-ec47e2911ef1",
   "metadata": {},
   "outputs": [
    {
     "name": "stdout",
     "output_type": "stream",
     "text": [
      "0.82\n"
     ]
    }
   ],
   "source": [
    "'''Ejercicio 3.14.1.\n",
    "Dado el dataset iris, que puedes cargar así:\n",
    "y utilizando solo las dos primeras columnas del dataset como target real, que puedes definir así:\n",
    "Aplica la técnica Train Test Sets e indica cuál es el score para ese conjunto de datos'''\n",
    "\n",
    "from sklearn import datasets\n",
    "import numpy as np\n",
    "from sklearn.model_selection import train_test_split\n",
    "from sklearn.linear_model import LogisticRegression \n",
    "\n",
    "#entrenar modelo\n",
    "iris = datasets.load_iris()\n",
    "X = iris.data[:, :2]\n",
    "y = iris.target\n",
    "\n",
    "X_train, X_test, y_train, y_test = train_test_split(X, y, test_size=0.33, random_state=42)\n",
    "model = LogisticRegression()\n",
    "model.fit(X_train,y_train)\n",
    "#Hacemos las predicciones con los datos en test\n",
    "result = model.score(X_test,y_test)\n",
    "print(result)"
   ]
  },
  {
   "cell_type": "code",
   "execution_count": 20,
   "id": "3abcb0af-aeb6-4b35-8c21-07f588d9d723",
   "metadata": {},
   "outputs": [
    {
     "name": "stdout",
     "output_type": "stream",
     "text": [
      "[0.92105263 0.55263158 0.72972973 0.16216216]\n"
     ]
    }
   ],
   "source": [
    "'''Ejercicio 3.14.2.\n",
    "Utilizando el mismo conjunto de datos, aplica la técnica K-folds. ¿Cuál es el cross val score obtenido para cuatro repeticiones'''\n",
    "\n",
    "from sklearn.model_selection import KFold\n",
    "from sklearn.model_selection import cross_val_score\n",
    "\n",
    "iris = datasets.load_iris()\n",
    "X = iris.data[:, :2]\n",
    "y = iris.target\n",
    "\n",
    "#Subdividimos el dataset y lo repetimos 4 veces\n",
    "kfold = KFold(n_splits=4)\n",
    "\n",
    "#Entrenamos y testeamos\n",
    "model = LogisticRegression()\n",
    "results = cross_val_score(model, X, y, cv=kfold)\n",
    "\n",
    "print(results)"
   ]
  },
  {
   "cell_type": "code",
   "execution_count": 17,
   "id": "54c47bca-f29b-4bc8-a799-c258b3a7c028",
   "metadata": {},
   "outputs": [
    {
     "name": "stdout",
     "output_type": "stream",
     "text": [
      "[1. 1. 1. 1. 1. 1. 1. 1. 1. 1. 1. 1. 1. 1. 1. 1. 1. 1. 1. 1. 1. 1. 1. 1.\n",
      " 1. 1. 1. 1. 1. 1. 1. 1. 1. 1. 1. 1. 1. 1. 1. 1. 1. 0. 1. 1. 1. 1. 1. 1.\n",
      " 1. 1. 0. 0. 0. 1. 0. 1. 0. 1. 0. 1. 1. 1. 1. 1. 1. 0. 1. 1. 1. 1. 1. 1.\n",
      " 1. 1. 0. 0. 0. 0. 1. 1. 1. 1. 1. 1. 1. 0. 0. 1. 1. 1. 1. 1. 1. 1. 1. 1.\n",
      " 1. 1. 1. 1. 1. 0. 1. 1. 1. 1. 0. 1. 1. 1. 1. 1. 1. 0. 0. 1. 1. 1. 1. 0.\n",
      " 1. 0. 1. 0. 1. 1. 0. 0. 1. 1. 1. 1. 1. 1. 0. 1. 1. 1. 0. 1. 1. 1. 0. 1.\n",
      " 1. 1. 0. 1. 1. 0.] \n",
      "\n",
      "0.81\n"
     ]
    }
   ],
   "source": [
    "'''Ejercicio 3.14.3.\n",
    "Y si aplicas la técnica Leave One Out, ¿cuál es el cross val score?'''\n",
    "\n",
    "from sklearn.model_selection import LeaveOneOut\n",
    "\n",
    "loocv = LeaveOneOut()\n",
    "iris = datasets.load_iris()\n",
    "X = iris.data[:, :2]\n",
    "y = iris.target\n",
    "#Entrenamos y testeamos\n",
    "model = LogisticRegression()\n",
    "results = cross_val_score(model, X, y, cv=loocv)\n",
    "print(results, '\\n')\n",
    "print(round(results.mean(),2))"
   ]
  },
  {
   "cell_type": "code",
   "execution_count": 23,
   "id": "33df23b6-d545-44ea-ab85-bbd5e32d2cef",
   "metadata": {},
   "outputs": [
    {
     "name": "stdout",
     "output_type": "stream",
     "text": [
      "[0.76666667 0.63333333 0.73333333 0.83333333]\n"
     ]
    }
   ],
   "source": [
    "'''Ejercicio 3.14.4.\n",
    "Y aplicando la técnica Shuffle Split, ¿cuál es el cross val score para cuatro repeticiones?'''\n",
    "\n",
    "from sklearn.model_selection import ShuffleSplit\n",
    "\n",
    "iris = datasets.load_iris()\n",
    "X = iris.data[:, :2]\n",
    "y = iris.target\n",
    "\n",
    "kfold = ShuffleSplit(n_splits=4, test_size=0.2, random_state=2)\n",
    "\n",
    "model = LogisticRegression()\n",
    "results = cross_val_score(model, X, y, cv=kfold)\n",
    "print(results)\n"
   ]
  },
  {
   "cell_type": "markdown",
   "id": "67e876b3-3fc3-411d-a28b-4e3157855f40",
   "metadata": {},
   "source": [
    "'''Ejercicio 3.14.5.\n",
    "¿Los resultados de los cuatro ejercicios anteriores son iguales? ¿Por qué sí o por qué no?'''\n",
    "Los resultados son diferentes. Tampoco puedo argumentar mucho dentro de lo que entiendo, así que más o menos me baso en lo que entiendo de cada modelo.\n",
    "El primer modelo(Train test) tiene un score del 0%, es decir, que no se pueden predecir los valores de y con los valores de X, los resultados pueden variar dependiendo de cómo se divida aleatoriamente el conjunto de datos en entrenamiento y prueba. Cada división aleatoria puede dar lugar a diferentes resultados, lo que puede afectar la precisión del modelo. \n",
    "En el segundo modelo (K-folds), dividido en cuatro partes aleatorias, podemos ver que las tres primeras partes obtienen mejores resultados, en concreto la primera y la tercera que tienen valores de 0,92 y 0,73, al ser partes aleatorias de nuevo pueden dar lugar a diferentes resultados.\n",
    "En el caso del tercer modelo( (LOO), testeamos sobre cuatro registros, utilizando los tres primeros para entrenar y el cuarto para validar, con esta técnica obtenemos un resultado óptimo cercano al 1, en este caso como itera incluyendo o excluyendo datos los resultados también pueden variar.\n",
    "Con el último modelo (Shuffle) obtenemos datos aleatorios, que en mi caso han salido óptimos.\n"
   ]
  },
  {
   "cell_type": "code",
   "execution_count": null,
   "id": "c70311db-e64b-45d8-9b5a-89ec6675cbef",
   "metadata": {},
   "outputs": [],
   "source": []
  }
 ],
 "metadata": {
  "kernelspec": {
   "display_name": "Python 3 (ipykernel)",
   "language": "python",
   "name": "python3"
  },
  "language_info": {
   "codemirror_mode": {
    "name": "ipython",
    "version": 3
   },
   "file_extension": ".py",
   "mimetype": "text/x-python",
   "name": "python",
   "nbconvert_exporter": "python",
   "pygments_lexer": "ipython3",
   "version": "3.9.13"
  }
 },
 "nbformat": 4,
 "nbformat_minor": 5
}
