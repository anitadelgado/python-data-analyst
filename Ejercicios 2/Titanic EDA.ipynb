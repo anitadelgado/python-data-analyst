{
 "cells": [
  {
   "cell_type": "code",
   "execution_count": null,
   "id": "7d638fac",
   "metadata": {},
   "outputs": [],
   "source": [
    "# TITANIC.CSV Variable Descriptions:\n",
    "\n",
    "# **** DESCARGARLO DESDE:\n",
    "# https://github.com/pcsanwald/kaggle-titanic/blob/master/train.csv\n",
    "    \n",
    "# Pclass Passenger Class (1 = 1st; 2 = 2nd; 3 = 3rd)\n",
    "# survival Survival (0 = No; 1 = Yes)\n",
    "# name Name\n",
    "# sex Sex\n",
    "# age Age\n",
    "# sibsp Number of Siblings/Spouses Aboard\n",
    "# parch Number of Parents/Children Aboard\n",
    "# ticket Ticket Number\n",
    "# fare Passenger Fare (British pound)\n",
    "# cabin Cabin\n",
    "# embarked Port of Embarkation (C = Cherbourg; Q = Queenstown; S = Southampton)\n",
    "\n",
    "import pandas as pd\n",
    "\n",
    "ruta = r'C:\\Users\\antonio.hernandez\\Desktop\\CURSO PYTHON\\Archivos\\Modulo04\\Titanic.csv'\n",
    "\n",
    "file_CSV = pd.read_csv(ruta, sep=\",\")\n",
    "\n",
    "df = pd.DataFrame(file_CSV)\n",
    "df"
   ]
  },
  {
   "cell_type": "code",
   "execution_count": null,
   "id": "c47eb5d1",
   "metadata": {},
   "outputs": [],
   "source": [
    "df.info()\n",
    "df.describe()\n",
    "\n",
    "# Comprobamos que no haya registros duplicados\n",
    "\n",
    "#df.duplicated().sum() # No hay duplicados, si los hubiera los eliminariamos con --> df = df.drop_duplicates()\n",
    "\n",
    "# Hay variables CATEGORICAS que no ha sido capaz de reconocer y eso es un problema para la calidad y uso de los datos.\n",
    "# Por ejemplo, claramente la variables 'Survived' --> 0 o 1, 'PClass' --> '1', '2' o '3', 'Embarked' --> 'C', 'Q' o 'S', etc.\n",
    "# Por eso, se cambia el tipo de variables que creemos no ha inferido correctamente\n",
    "\n",
    "# df['Survived'] = df['Survived'].astype('category') # 0 o 1 / S o N\n",
    "# df['Pclass'] = df['Pclass'].astype('category') # 1, 2 o 3 / 'Primera', 'Segunda' o 'Tercera'\n",
    "# df['Sex'] = df['Sex'].astype('category') # 0 o 1 / H o M\n",
    "# df['SibSp'] = df['SibSp'].astype('category') # \n",
    "# df['Parch'] = df['Parch'].astype('category') #\n",
    "# df['Embarked'] = df['Embarked'].astype('category') # 'C' (Cherbourg), 'Q' (Queenstown) o 'S' (Southampton) \n",
    "\n",
    "# df.info() # Comprobamos que ya las hemos modificado\n",
    "\n",
    "# Aunque df.info() ya nos daba la información comprobamos con un df.isnull().sum() los nulos por variable\n",
    "# Se comprueba que tenemos 177 personas sin edad, 682 sin camarote y 2 sin puerto de embarque.\n",
    "# Ahora toca ANALIZAR QUE HACER CON ESOS 3 'Missing' --> 'Embarked' no es problema ( 2 registros sobre 891 ). 'Age' es un \n",
    "# dato \"poco fiable\" pero podríamos completarlo con la media de los otros 714 pasajeros, pero 'Cabin' no nos da información,\n",
    "# así que lo suyo sería eliminarla\n",
    "\n",
    "# df.isnull().sum()\n",
    "\n",
    "#df.drop(columns=['Cabin'], inplace=True) # Machacamos el propio DataFrame\n",
    "\n",
    "# Volvemos a comprobar que no hay duplicados, ya que al eliminar una columna puede crear duplicados ( que antes se diferenciaban\n",
    "# justo por el valor de esa variable ). En este caso si una persona tenia 2 camarotes, ahora apareceria duplicado.\n",
    "\n",
    "# df.duplicated().sum()\n",
    "\n",
    "# ¿ Qué hacemos con los 2 'Missing' de 'Embarked' ?... ¿ Los eliminamos o probamos a inferirlos en función del Ticket, la Clase,\n",
    "# el Sexo, etc ?. ¿ Merece la pena perder tiempo en 2 registros sobre 891 ?, ¿ alterará nuestro modelo notablemente un 0'12% ?\n",
    "# La opción más sencilla es eliminar esos 2 registros también\n",
    "\n",
    "# df.dropna(subset=['Embarked'], inplace = True)\n",
    "# df.isnull().sum() # Comprobamos que no quedan duplicados en 'Embarked' y que la columna 'Cabin' no existe\n",
    "\n",
    "# Nos queda enfrentarnos al problema de la edad... ¿ Eliminamos esa columna por los 177 registros ´missing' sobre 891 ?.\n",
    "# ¿ Podemos permitirnos perder el resto de datos asociados a esos 177 registros ?... Entonces, ¿ Probamos a inferirlos\n",
    "# en función de la edad media ?. ¿ 'Age' será un dato necesario para nuestro modelo o podemos prescindir de él ?.\n",
    "# Es un valor relevante ( saber la edad de los fallecidos y de los supervivientes), así que vamos a probar a rellenar\n",
    "# los 'missing' con la media del otro 80% de pasajeros que si tenemos\n",
    "\n",
    "# df.sort_values(['Age'], na_position='last')\n",
    "# df['Age'].fillna(df['Age'].mean(), inplace = True)\n",
    "#df.sort_values(['Age']) # Lo comprobamos\n",
    "\n",
    "# Por ultimo comprobaremos con un df.describe() que nos han quedado 889 registros 'no nulos' sobre los que ya podremos trabajar.\n",
    "# Todavía ebemos tener en cuenta la calidad de esos datos, que sean válidos, con formato correcto, etc\n",
    "# df.describe()"
   ]
  },
  {
   "cell_type": "code",
   "execution_count": null,
   "id": "8e126292",
   "metadata": {},
   "outputs": [],
   "source": [
    "# Para las frecuencias de variables cualtitativas podemos usar df['Variable'].value_counts()\n",
    "#df['Age'].value_counts()\n",
    "\n",
    "# Si queremos averiguar cual era la media de edad y la Clase mas comun\n",
    "#df[['Age','Pclass']].mean()"
   ]
  },
  {
   "cell_type": "code",
   "execution_count": null,
   "id": "fc5f44d7",
   "metadata": {},
   "outputs": [],
   "source": [
    "# Veamos el porcentaje de hombres y mujeres que sobrevivieron:\n",
    "# hombres = df.loc[df.Sex =='male'][\"Survived\"]\n",
    "# print('El ratio de hombre que SOBREVIVIERON fue del ', (sum(hombres)/len(hombres))*100)"
   ]
  },
  {
   "cell_type": "code",
   "execution_count": null,
   "id": "16fc8cf8",
   "metadata": {},
   "outputs": [],
   "source": [
    "# Veamos el porcentaje de hombres y mujeres que sobrevivieron:\n",
    "# mujeres = df.loc[df.Sex =='female'][\"Survived\"]\n",
    "# print('El ratio de mujeres que SOBREVIVIERON fue del ', (sum(mujeres)/len(mujeres))*100)"
   ]
  },
  {
   "cell_type": "code",
   "execution_count": null,
   "id": "9e94d48a",
   "metadata": {},
   "outputs": [],
   "source": [
    "# Veamos el porcentaje de hombres y mujeres que sobrevivieron:\n",
    "# primera = df.loc[df.Pclass == 1][\"Survived\"]\n",
    "# print('El ratio de SUPERVIVIENTES en 1ª CLASE fue del', (sum(primera)/len(primera))*100)\n",
    "\n",
    "# segunda = df.loc[df.Pclass == 2][\"Survived\"]\n",
    "# print('El ratio de SUPERVIVIENTES en 2ª CLASE fue del', (sum(segunda)/len(segunda))*100)\n",
    "\n",
    "# tercera = df.loc[df.Pclass == 1][\"Survived\"]\n",
    "# print('El ratio de SUPERVIVIENTES en 3ª CLASE fue del', (sum(tercera)/len(tercera))*100)"
   ]
  },
  {
   "cell_type": "code",
   "execution_count": null,
   "id": "805e7f72",
   "metadata": {},
   "outputs": [],
   "source": []
  }
 ],
 "metadata": {
  "kernelspec": {
   "display_name": "Python 3 (ipykernel)",
   "language": "python",
   "name": "python3"
  },
  "language_info": {
   "codemirror_mode": {
    "name": "ipython",
    "version": 3
   },
   "file_extension": ".py",
   "mimetype": "text/x-python",
   "name": "python",
   "nbconvert_exporter": "python",
   "pygments_lexer": "ipython3",
   "version": "3.9.13"
  }
 },
 "nbformat": 4,
 "nbformat_minor": 5
}
